{
 "cells": [
  {
   "cell_type": "code",
   "execution_count": 1,
   "metadata": {
    "collapsed": true
   },
   "outputs": [],
   "source": [
    "import pandas as pd\n",
    "import os\n",
    "import re\n",
    "import romkan\n",
    "import unicodedata"
   ]
  },
  {
   "cell_type": "code",
   "execution_count": 2,
   "metadata": {
    "collapsed": false
   },
   "outputs": [],
   "source": [
    "# get irregular words from ../data/irregular/irregular.csv and create a dict to avoid those words"
   ]
  },
  {
   "cell_type": "code",
   "execution_count": 3,
   "metadata": {
    "collapsed": false
   },
   "outputs": [],
   "source": [
    "vocab = pd.read_csv('../data/created/JMdict_e.csv', sep='\\t')\n",
    "kanji = pd.read_csv('../data/created/kanjidic2.csv')"
   ]
  },
  {
   "cell_type": "code",
   "execution_count": 4,
   "metadata": {
    "collapsed": false
   },
   "outputs": [
    {
     "data": {
      "text/html": [
       "<div>\n",
       "<table border=\"1\" class=\"dataframe\">\n",
       "  <thead>\n",
       "    <tr style=\"text-align: right;\">\n",
       "      <th></th>\n",
       "      <th>character</th>\n",
       "      <th>freq</th>\n",
       "      <th>meaning</th>\n",
       "      <th>on</th>\n",
       "      <th>kun</th>\n",
       "      <th>nanori</th>\n",
       "      <th>kun1</th>\n",
       "      <th>kun2</th>\n",
       "      <th>onkun</th>\n",
       "    </tr>\n",
       "  </thead>\n",
       "  <tbody>\n",
       "    <tr>\n",
       "      <th>0</th>\n",
       "      <td>亜</td>\n",
       "      <td>1509.0</td>\n",
       "      <td>[Asia, rank next, come after, -ous]</td>\n",
       "      <td>[あ]</td>\n",
       "      <td>['つ.ぐ']</td>\n",
       "      <td>[や, つぎ, つぐ]</td>\n",
       "      <td>[つ]</td>\n",
       "      <td>[つぐ]</td>\n",
       "      <td>[つ, つぐ, あ]</td>\n",
       "    </tr>\n",
       "    <tr>\n",
       "      <th>1</th>\n",
       "      <td>唖</td>\n",
       "      <td>NaN</td>\n",
       "      <td>[mute, dumb]</td>\n",
       "      <td>[あ, あく]</td>\n",
       "      <td>['おし']</td>\n",
       "      <td>[]</td>\n",
       "      <td>[おし]</td>\n",
       "      <td>[おし]</td>\n",
       "      <td>[おし, おし, あ, あく]</td>\n",
       "    </tr>\n",
       "    <tr>\n",
       "      <th>2</th>\n",
       "      <td>娃</td>\n",
       "      <td>NaN</td>\n",
       "      <td>[beautiful]</td>\n",
       "      <td>[あ, あい, わ]</td>\n",
       "      <td>['うつく.しい']</td>\n",
       "      <td>[い]</td>\n",
       "      <td>[うつく]</td>\n",
       "      <td>[うつくしい]</td>\n",
       "      <td>[うつく, うつくしい, あ, あい, わ]</td>\n",
       "    </tr>\n",
       "    <tr>\n",
       "      <th>3</th>\n",
       "      <td>阿</td>\n",
       "      <td>1126.0</td>\n",
       "      <td>[Africa, flatter, fawn upon, corner, nook, rec...</td>\n",
       "      <td>[あ, お]</td>\n",
       "      <td>['おもね.る', 'くま']</td>\n",
       "      <td>[ほとり, あず, あわ, おか, きた, な]</td>\n",
       "      <td>[くま, おもね]</td>\n",
       "      <td>[おもねる, くま]</td>\n",
       "      <td>[くま, おもね, おもねる, くま, あ, お]</td>\n",
       "    </tr>\n",
       "    <tr>\n",
       "      <th>4</th>\n",
       "      <td>哀</td>\n",
       "      <td>1715.0</td>\n",
       "      <td>[pathetic, grief, sorrow, pathos, pity, sympat...</td>\n",
       "      <td>[あい]</td>\n",
       "      <td>['あわ.れ', 'あわ.れむ', 'かな.しい']</td>\n",
       "      <td>[]</td>\n",
       "      <td>[かな, あわ]</td>\n",
       "      <td>[あわれ, かなしい, あわれむ]</td>\n",
       "      <td>[かな, あわ, あわれ, かなしい, あわれむ, あい]</td>\n",
       "    </tr>\n",
       "  </tbody>\n",
       "</table>\n",
       "</div>"
      ],
      "text/plain": [
       "  character    freq                                            meaning  \\\n",
       "0         亜  1509.0                [Asia, rank next, come after, -ous]   \n",
       "1         唖     NaN                                       [mute, dumb]   \n",
       "2         娃     NaN                                        [beautiful]   \n",
       "3         阿  1126.0  [Africa, flatter, fawn upon, corner, nook, rec...   \n",
       "4         哀  1715.0  [pathetic, grief, sorrow, pathos, pity, sympat...   \n",
       "\n",
       "           on                         kun                    nanori  \\\n",
       "0         [あ]                     ['つ.ぐ']               [や, つぎ, つぐ]   \n",
       "1     [あ, あく]                      ['おし']                        []   \n",
       "2  [あ, あい, わ]                  ['うつく.しい']                       [い]   \n",
       "3      [あ, お]             ['おもね.る', 'くま']  [ほとり, あず, あわ, おか, きた, な]   \n",
       "4        [あい]  ['あわ.れ', 'あわ.れむ', 'かな.しい']                        []   \n",
       "\n",
       "        kun1               kun2                          onkun  \n",
       "0        [つ]               [つぐ]                     [つ, つぐ, あ]  \n",
       "1       [おし]               [おし]                [おし, おし, あ, あく]  \n",
       "2      [うつく]            [うつくしい]         [うつく, うつくしい, あ, あい, わ]  \n",
       "3  [くま, おもね]         [おもねる, くま]      [くま, おもね, おもねる, くま, あ, お]  \n",
       "4   [かな, あわ]  [あわれ, かなしい, あわれむ]  [かな, あわ, あわれ, かなしい, あわれむ, あい]  "
      ]
     },
     "execution_count": 4,
     "metadata": {},
     "output_type": "execute_result"
    }
   ],
   "source": [
    "# Run once\n",
    "del vocab['pos']\n",
    "del vocab['meaning']\n",
    "del kanji['Unnamed: 0']\n",
    "vocab.pronunciation = vocab.pronunciation.map(lambda x: romkan.to_hiragana(romkan.to_roma(x)))\n",
    "kanji.on = kanji.on.map(lambda x: re.findall(\"\"\"[\\u3040-\\u309f]+\"\"\", romkan.to_hiragana(romkan.to_roma(x))))\n",
    "##############################\n",
    "#kanji.kun = kanji.kun.map(lambda x: list(set(map(lambda y: y.split('.')[0],re.findall(\"\"\"[\\u3040-\\u309f.]+\"\"\", x))))) # THIS THREW AWAY GOOD INFO\n",
    "##############################\n",
    "kanji['kun1'] = kanji.kun.map(lambda x: list(set(map(lambda y: y.split('.')[0],re.findall(\"\"\"[\\u3040-\\u309f.]+\"\"\", x)))))\n",
    "kanji['kun2'] = kanji.kun.map(lambda x: list(set(map(lambda y: ''.join(y.split('.')),re.findall(\"\"\"[\\u3040-\\u309f.]+\"\"\", x)))))\n",
    "# I should also include the kun without splitting somehow... aka shi.ku = shi and shiku\n",
    "kanji.nanori = kanji.nanori.map(lambda x: re.findall(\"\"\"[\\u3040-\\u309f]+\"\"\", x))\n",
    "kanji.meaning = kanji.meaning.map(lambda x: re.findall(\"\"\"[a-zA-Z-]+ *[a-zA-Z-]+\"\"\", x))\n",
    "#char_ser = pd.Series(kanji.on.values,index=kanji.character).to_dict()\n",
    "kanji['onkun'] = kanji.kun1 + kanji.kun2 + kanji.on\n",
    "#kanji.onkun.map(lambda x: list(set(x))) ########## NOW MAKE SURE ALL ARE SET TO LISTS SO THERE ARE NO DUPLICATES\n",
    "char_ser = pd.Series(kanji.onkun.values,index=kanji.character).to_dict()\n",
    "kanji.head()"
   ]
  },
  {
   "cell_type": "code",
   "execution_count": 5,
   "metadata": {
    "collapsed": false
   },
   "outputs": [],
   "source": [
    "#vocab.vocab = vocab.vocab.map(lambda x: romkan.to_hiragana(romkan.to_roma(x)))\n",
    "#vocab.head()\n",
    "\n",
    "#char_ser['亜']\n",
    "\n",
    "#print(jlpt[jlpt.Kanji.str.contains('風')])\n",
    "#print(char_ser['風'])"
   ]
  },
  {
   "cell_type": "code",
   "execution_count": 6,
   "metadata": {
    "collapsed": false
   },
   "outputs": [],
   "source": [
    "irregular = pd.read_csv('../data/irregular/irregular.csv')\n",
    "jlpt = pd.read_csv('../data/vocab/jlptvocab.csv')\n",
    "del irregular['URL']"
   ]
  },
  {
   "cell_type": "code",
   "execution_count": 7,
   "metadata": {
    "collapsed": false
   },
   "outputs": [
    {
     "data": {
      "text/html": [
       "<div>\n",
       "<table border=\"1\" class=\"dataframe\">\n",
       "  <thead>\n",
       "    <tr style=\"text-align: right;\">\n",
       "      <th></th>\n",
       "      <th>Link</th>\n",
       "    </tr>\n",
       "  </thead>\n",
       "  <tbody>\n",
       "    <tr>\n",
       "      <th>0</th>\n",
       "      <td>愛斯蘭</td>\n",
       "    </tr>\n",
       "    <tr>\n",
       "      <th>1</th>\n",
       "      <td>銅</td>\n",
       "    </tr>\n",
       "    <tr>\n",
       "      <th>2</th>\n",
       "      <td>欠伸</td>\n",
       "    </tr>\n",
       "    <tr>\n",
       "      <th>3</th>\n",
       "      <td>飛魚</td>\n",
       "    </tr>\n",
       "    <tr>\n",
       "      <th>4</th>\n",
       "      <td>麻布</td>\n",
       "    </tr>\n",
       "  </tbody>\n",
       "</table>\n",
       "</div>"
      ],
      "text/plain": [
       "  Link\n",
       "0  愛斯蘭\n",
       "1    銅\n",
       "2   欠伸\n",
       "3   飛魚\n",
       "4   麻布"
      ]
     },
     "execution_count": 7,
     "metadata": {},
     "output_type": "execute_result"
    }
   ],
   "source": [
    "irregular.head()"
   ]
  },
  {
   "cell_type": "code",
   "execution_count": 8,
   "metadata": {
    "collapsed": false
   },
   "outputs": [
    {
     "data": {
      "text/html": [
       "<div>\n",
       "<table border=\"1\" class=\"dataframe\">\n",
       "  <thead>\n",
       "    <tr style=\"text-align: right;\">\n",
       "      <th></th>\n",
       "      <th>Kanji</th>\n",
       "      <th>Hiragana</th>\n",
       "      <th>English</th>\n",
       "    </tr>\n",
       "  </thead>\n",
       "  <tbody>\n",
       "    <tr>\n",
       "      <th>8334</th>\n",
       "      <td>忘れ物</td>\n",
       "      <td>わすれもの</td>\n",
       "      <td>lost article</td>\n",
       "    </tr>\n",
       "    <tr>\n",
       "      <th>8335</th>\n",
       "      <td>笑う</td>\n",
       "      <td>わらう</td>\n",
       "      <td>to laugh,to smile</td>\n",
       "    </tr>\n",
       "    <tr>\n",
       "      <th>8336</th>\n",
       "      <td>割合</td>\n",
       "      <td>わりあい</td>\n",
       "      <td>rate,ratio,percentage</td>\n",
       "    </tr>\n",
       "    <tr>\n",
       "      <th>8337</th>\n",
       "      <td>割れる</td>\n",
       "      <td>われる</td>\n",
       "      <td>to break</td>\n",
       "    </tr>\n",
       "    <tr>\n",
       "      <th>8353</th>\n",
       "      <td>消しゴム</td>\n",
       "      <td>けしゴム</td>\n",
       "      <td>eraser, rubber</td>\n",
       "    </tr>\n",
       "  </tbody>\n",
       "</table>\n",
       "</div>"
      ],
      "text/plain": [
       "     Kanji Hiragana                English\n",
       "8334   忘れ物    わすれもの           lost article\n",
       "8335    笑う      わらう      to laugh,to smile\n",
       "8336    割合     わりあい  rate,ratio,percentage\n",
       "8337   割れる      われる               to break\n",
       "8353  消しゴム     けしゴム         eraser, rubber"
      ]
     },
     "execution_count": 8,
     "metadata": {},
     "output_type": "execute_result"
    }
   ],
   "source": [
    "jlpt = jlpt[jlpt.Kanji.isnull() == 0]\n",
    "jlpt = jlpt[jlpt.Hiragana.isnull() == 0]\n",
    "jlpt = jlpt[jlpt.English.isnull() == 0]\n",
    "jlpt.tail()"
   ]
  },
  {
   "cell_type": "code",
   "execution_count": 9,
   "metadata": {
    "collapsed": false
   },
   "outputs": [],
   "source": [
    "def unvoice(char):\n",
    "    if not ('\\u3041' <= char <= '\\u3096') or len(char) > 1 or not unicodedata.decomposition(char):\n",
    "        return char\n",
    "    return unicodedata.normalize('NFD', char)[0]"
   ]
  },
  {
   "cell_type": "code",
   "execution_count": 10,
   "metadata": {
    "collapsed": false
   },
   "outputs": [],
   "source": [
    "### DONT RUN ###\n",
    "#def check_word(word,cur,pron,pastprons,pastpron):\n",
    "#    if cur > len(word):\n",
    "#        return pron\n",
    "#    try:\n",
    "#        prons = set(char_ser[word[cur]])\n",
    "#    except:\n",
    "#        print(word, ' is not in the dictionary')\n",
    "#    \n",
    "#    past_prons.append('')\n",
    "####"
   ]
  },
  {
   "cell_type": "code",
   "execution_count": 11,
   "metadata": {
    "collapsed": false
   },
   "outputs": [],
   "source": [
    "# if prons[-1] == ん: prons = [prons,prons[:-1]]\n",
    "# if \n",
    "def recurs(kanji, word, pron_list = [], done = False):\n",
    "    if len(pron_list) == len(kanji) or len(word) == 0: # check for 々 and repeat past syllable (unsounded)\n",
    "        return pron_list, False\n",
    "    cur = kanji[len(pron_list)]\n",
    "    if re.match(\"\"\"[\\u3040-\\u30ff]\"\"\", cur) != None: #should we romkan to hiragana?? ALSO HYPHEN\n",
    "        if cur != word[0]:\n",
    "            return pron_list, False\n",
    "        prons = cur\n",
    "    elif cur == '々':\n",
    "        if unvoice(pron_list[-1]) == unvoice(word[:len(pron_list[-1])]): # or \n",
    "            pron_list.append(word[:len(pron_list[-1])])\n",
    "            return pron_list, len(kanji) == len(pron_list)\n",
    "        else:\n",
    "            return None, False\n",
    "    else:\n",
    "        prons = [char_ser[cur]] # .sort(key=len, reverse=True)\n",
    "    #prons = set(prons)\n",
    "    for pron in prons:        # GET RID OF THIS?\n",
    "        if pron[-1] == ん:\n",
    "            prons.append[pron[:-1]]\n",
    "    for pron in prons:\n",
    "        wordmatch = word[:len(pron)]\n",
    "        wordmatch = unvoice(wordmatch[0]) + wordmatch[1:]\n",
    "        words = [wordmatch, word[:len(pron)]]\n",
    "        if pron in words:\n",
    "            pron_list.append(word[:len(pron)])\n",
    "            word = word[len(pron):]\n",
    "            if len(pron_list) == len(kanji) and len(word) == 0:\n",
    "                return pron_list, True\n",
    "            new_pron_list, done = recurs(kanji,word,pron_list,done)\n",
    "            if done:\n",
    "                return new_pron_list, done\n",
    "            word = pron_list.pop() + word\n",
    "    return None, False\n",
    "\n",
    "# update with unvoice the first syllable of word\n",
    "\n",
    "\n",
    "# PRONUNCIATION DOES NOT MATCH ON or KUN YOMIKATA... MOSTLY DROPPING LAST N??? -------------"
   ]
  },
  {
   "cell_type": "code",
   "execution_count": 12,
   "metadata": {
    "collapsed": false
   },
   "outputs": [
    {
     "data": {
      "text/plain": [
       "['ひと', 'ひとつ', 'ひと', 'いち', 'いつ']"
      ]
     },
     "execution_count": 12,
     "metadata": {},
     "output_type": "execute_result"
    }
   ],
   "source": [
    "#char_ser['車']\n",
    "#'boy'[1:]\n",
    "#recurs('相変わらず','あいかわらず',[])\n",
    "char_ser['一']#.sort(key=len, reverse=True)    # EITHER INCLUDE NANORI OR FIX THE ABOVE"
   ]
  },
  {
   "cell_type": "code",
   "execution_count": 13,
   "metadata": {
    "collapsed": false
   },
   "outputs": [
    {
     "name": "stdout",
     "output_type": "stream",
     "text": [
      "嗚呼 ああ\n"
     ]
    },
    {
     "ename": "NameError",
     "evalue": "name 'ん' is not defined",
     "output_type": "error",
     "traceback": [
      "\u001b[0;31m---------------------------------------------------------------------------\u001b[0m",
      "\u001b[0;31mNameError\u001b[0m                                 Traceback (most recent call last)",
      "\u001b[0;32m<ipython-input-13-5529f1e5cdad>\u001b[0m in \u001b[0;36m<module>\u001b[0;34m()\u001b[0m\n\u001b[1;32m      5\u001b[0m     \u001b[0mword\u001b[0m \u001b[0;34m=\u001b[0m \u001b[0mline\u001b[0m\u001b[0;34m.\u001b[0m\u001b[0mHiragana\u001b[0m\u001b[0;34m\u001b[0m\u001b[0m\n\u001b[1;32m      6\u001b[0m     \u001b[0mprint\u001b[0m\u001b[0;34m(\u001b[0m\u001b[0mkanji\u001b[0m\u001b[0;34m,\u001b[0m\u001b[0mword\u001b[0m\u001b[0;34m)\u001b[0m\u001b[0;34m\u001b[0m\u001b[0m\n\u001b[0;32m----> 7\u001b[0;31m     \u001b[0ma\u001b[0m\u001b[0;34m,\u001b[0m\u001b[0mb\u001b[0m \u001b[0;34m=\u001b[0m \u001b[0mrecurs\u001b[0m\u001b[0;34m(\u001b[0m\u001b[0mkanji\u001b[0m\u001b[0;34m,\u001b[0m\u001b[0mword\u001b[0m\u001b[0;34m,\u001b[0m\u001b[0;34m[\u001b[0m\u001b[0;34m]\u001b[0m\u001b[0;34m)\u001b[0m\u001b[0;34m\u001b[0m\u001b[0m\n\u001b[0m\u001b[1;32m      8\u001b[0m     \u001b[0mprint\u001b[0m\u001b[0;34m(\u001b[0m\u001b[0ma\u001b[0m\u001b[0;34m,\u001b[0m\u001b[0mb\u001b[0m\u001b[0;34m)\u001b[0m\u001b[0;34m\u001b[0m\u001b[0m\n\u001b[1;32m      9\u001b[0m     \u001b[0;32mif\u001b[0m \u001b[0ma\u001b[0m \u001b[0;34m==\u001b[0m \u001b[0;32mNone\u001b[0m\u001b[0;34m:\u001b[0m\u001b[0;34m\u001b[0m\u001b[0m\n",
      "\u001b[0;32m<ipython-input-11-a86d9789b115>\u001b[0m in \u001b[0;36mrecurs\u001b[0;34m(kanji, word, pron_list, done)\u001b[0m\n\u001b[1;32m     19\u001b[0m     \u001b[0;31m#prons = set(prons)\u001b[0m\u001b[0;34m\u001b[0m\u001b[0;34m\u001b[0m\u001b[0m\n\u001b[1;32m     20\u001b[0m     \u001b[0;32mfor\u001b[0m \u001b[0mpron\u001b[0m \u001b[0;32min\u001b[0m \u001b[0mprons\u001b[0m\u001b[0;34m:\u001b[0m        \u001b[0;31m# GET RID OF THIS?\u001b[0m\u001b[0;34m\u001b[0m\u001b[0m\n\u001b[0;32m---> 21\u001b[0;31m         \u001b[0;32mif\u001b[0m \u001b[0mpron\u001b[0m\u001b[0;34m[\u001b[0m\u001b[0;34m-\u001b[0m\u001b[0;36m1\u001b[0m\u001b[0;34m]\u001b[0m \u001b[0;34m==\u001b[0m \u001b[0mん\u001b[0m\u001b[0;34m:\u001b[0m\u001b[0;34m\u001b[0m\u001b[0m\n\u001b[0m\u001b[1;32m     22\u001b[0m             \u001b[0mprons\u001b[0m\u001b[0;34m.\u001b[0m\u001b[0mappend\u001b[0m\u001b[0;34m[\u001b[0m\u001b[0mpron\u001b[0m\u001b[0;34m[\u001b[0m\u001b[0;34m:\u001b[0m\u001b[0;34m-\u001b[0m\u001b[0;36m1\u001b[0m\u001b[0;34m]\u001b[0m\u001b[0;34m]\u001b[0m\u001b[0;34m\u001b[0m\u001b[0m\n\u001b[1;32m     23\u001b[0m     \u001b[0;32mfor\u001b[0m \u001b[0mpron\u001b[0m \u001b[0;32min\u001b[0m \u001b[0mprons\u001b[0m\u001b[0;34m:\u001b[0m\u001b[0;34m\u001b[0m\u001b[0m\n",
      "\u001b[0;31mNameError\u001b[0m: name 'ん' is not defined"
     ]
    }
   ],
   "source": [
    "true_cnt = 0\n",
    "false_cnt = 0\n",
    "for _,line in jlpt.iterrows():\n",
    "    kanji = line.Kanji\n",
    "    word = line.Hiragana\n",
    "    print(kanji,word)\n",
    "    a,b = recurs(kanji,word,[])\n",
    "    print(a,b)\n",
    "    if a == None:\n",
    "        false_cnt += 1\n",
    "    else:\n",
    "        true_cnt += 1\n",
    "print(true_cnt, false_cnt) #~8% are irregular..."
   ]
  },
  {
   "cell_type": "code",
   "execution_count": 103,
   "metadata": {
    "collapsed": false
   },
   "outputs": [
    {
     "name": "stdout",
     "output_type": "stream",
     "text": [
      "(['じゅう', 'いち', 'にん'], True)\n",
      "(['ひと', 'り'], True)\n"
     ]
    }
   ],
   "source": [
    "#jlpt[jlpt.Kanji.str.contains('亜')]\n",
    "#jlpt[jlpt.Kanji.isnull()]\n",
    "print(recurs('十一人','じゅういちにん',[]))\n",
    "print(recurs('一人','ひとり',[]))\n",
    "#print(jlpt)"
   ]
  },
  {
   "cell_type": "code",
   "execution_count": 45,
   "metadata": {
    "collapsed": true
   },
   "outputs": [],
   "source": [
    "char_on = pd.Series(kanji.on.values,index=kanji.character).to_dict()\n",
    "char_kun = pd.Series(kanji.kun.values,index=kanji.character).to_dict()"
   ]
  },
  {
   "cell_type": "code",
   "execution_count": 96,
   "metadata": {
    "collapsed": false
   },
   "outputs": [
    {
     "data": {
      "text/html": [
       "<div>\n",
       "<table border=\"1\" class=\"dataframe\">\n",
       "  <thead>\n",
       "    <tr style=\"text-align: right;\">\n",
       "      <th></th>\n",
       "      <th>Kanji</th>\n",
       "      <th>Hiragana</th>\n",
       "      <th>English</th>\n",
       "    </tr>\n",
       "  </thead>\n",
       "  <tbody>\n",
       "    <tr>\n",
       "      <th>0</th>\n",
       "      <td>嗚呼</td>\n",
       "      <td>ああ</td>\n",
       "      <td>Ah!, Oh!, Alas!</td>\n",
       "    </tr>\n",
       "    <tr>\n",
       "      <th>1</th>\n",
       "      <td>相</td>\n",
       "      <td>あい</td>\n",
       "      <td>together, mutually, fellow</td>\n",
       "    </tr>\n",
       "    <tr>\n",
       "      <th>2</th>\n",
       "      <td>相変わらず</td>\n",
       "      <td>あいかわらず</td>\n",
       "      <td>as ever, as usual, the same</td>\n",
       "    </tr>\n",
       "    <tr>\n",
       "      <th>3</th>\n",
       "      <td>愛想</td>\n",
       "      <td>あいそ</td>\n",
       "      <td>civility, courtesy, compliments, sociability, ...</td>\n",
       "    </tr>\n",
       "    <tr>\n",
       "      <th>4</th>\n",
       "      <td>相対</td>\n",
       "      <td>あいたい</td>\n",
       "      <td>confrontation, facing, between ourselves, no t...</td>\n",
       "    </tr>\n",
       "  </tbody>\n",
       "</table>\n",
       "</div>"
      ],
      "text/plain": [
       "   Kanji Hiragana                                            English\n",
       "0     嗚呼       ああ                                    Ah!, Oh!, Alas!\n",
       "1      相       あい                         together, mutually, fellow\n",
       "2  相変わらず   あいかわらず                        as ever, as usual, the same\n",
       "3     愛想      あいそ  civility, courtesy, compliments, sociability, ...\n",
       "4     相対     あいたい  confrontation, facing, between ourselves, no t..."
      ]
     },
     "execution_count": 96,
     "metadata": {},
     "output_type": "execute_result"
    }
   ],
   "source": [
    "#jlpt[jlpt.Kanji.str.contains('亜')]\n",
    "jlpt.head()"
   ]
  },
  {
   "cell_type": "code",
   "execution_count": 92,
   "metadata": {
    "collapsed": false
   },
   "outputs": [
    {
     "name": "stdout",
     "output_type": "stream",
     "text": [
      "['かん']\n",
      "漢 かん\n",
      "['すう', 'さく', 'そく', 'しゅ', 'す']\n",
      "数 すう\n",
      "['じ']\n",
      "字 じ\n"
     ]
    }
   ],
   "source": [
    "### THIS WAS A PREVIOUS TEST\n",
    "word = '漢数字'\n",
    "pron = 'かんすうじ'\n",
    "for ji in word:\n",
    "    pron_list = re.findall(\"\"\"[\\u3040-\\u309f]+\"\"\", char_ser[ji])\n",
    "    pron_list.sort(key=len, reverse=True)\n",
    "    print(pron_list)\n",
    "    for pr in pron_list:\n",
    "        if pron[0:len(pr)] == pr: # re match beginning of string\n",
    "            print(ji, pr)\n",
    "            pron = pron[len(pr):]\n",
    "    #re.match()\n",
    "    \n",
    "#next match up each kanji to on or kun for exploratory analysis\n",
    "\n",
    "#Maybe if word is only kanji - first check on list, if word is mixture - first check kun?\n",
    "\n",
    "# Also put in checks for hirgana matching ()"
   ]
  }
 ],
 "metadata": {
  "anaconda-cloud": {},
  "kernelspec": {
   "display_name": "Python 3",
   "language": "python",
   "name": "python3"
  },
  "language_info": {
   "codemirror_mode": {
    "name": "ipython",
    "version": 3
   },
   "file_extension": ".py",
   "mimetype": "text/x-python",
   "name": "python",
   "nbconvert_exporter": "python",
   "pygments_lexer": "ipython3",
   "version": "3.5.2"
  }
 },
 "nbformat": 4,
 "nbformat_minor": 0
}
