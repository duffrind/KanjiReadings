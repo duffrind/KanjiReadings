{
 "cells": [
  {
   "cell_type": "code",
   "execution_count": 1,
   "metadata": {
    "collapsed": false
   },
   "outputs": [],
   "source": [
    "import json\n",
    "import collections\n",
    "from urllib.request import urlopen\n",
    "import re\n",
    "import romkan\n",
    "import pickle\n",
    "import os"
   ]
  },
  {
   "cell_type": "code",
   "execution_count": 2,
   "metadata": {
    "collapsed": false
   },
   "outputs": [],
   "source": [
    "def init():\n",
    "    global articles, word_list, list_of_articles, list_of_new_articles\n",
    "    articles = collections.namedtuple('articles', ['title', 'date', 'url'])\n",
    "    word_list = list()\n",
    "    list_of_articles = list()\n",
    "    list_of_new_articles = list()\n",
    "\n",
    "def update():\n",
    "    global articles, word_list, list_of_articles, list_of_new_articles\n",
    "    request = urlopen(\"http://www3.nhk.or.jp/news/easy/news-list.json\")\n",
    "    data = json.loads(request.read().decode('utf-8-sig'))\n",
    "\n",
    "    if os.path.isfile('word_list.p'):\n",
    "        word_list = pickle.load(open('word_list.p', 'rb'))\n",
    "        list_of_articles = pickle.load(open('list_of_articles.p', 'rb'))\n",
    "\n",
    "    for date in data[0].keys():\n",
    "        article = articles(data[0][date][0]['title_with_ruby'], date, 'http://www3.nhk.or.jp/news/easy/'+ data[0][date][0]['news_id'] +'/'+ data[0][date][0]['news_id'] +'.out.json')\n",
    "        if article not in list_of_articles:\n",
    "            list_of_articles.append(article)\n",
    "            list_of_new_articles.append(article)\n",
    "\n",
    "    phrase = ''\n",
    "\n",
    "    for article in list_of_articles:\n",
    "        article_json = json.loads(urlopen(article[2]).read().decode('utf-8-sig')) #loads the json for the article\n",
    "        for pronunciation in article_json['morph']:\n",
    "            furi_list = pronunciation.get('ruby', [dict()])\n",
    "            for furi_dict in furi_list:\n",
    "                furigana = furi_dict.get('r', furi_dict.get('s', ''))\n",
    "                if re.match(u'[\\u3040-\\u309F]+', furigana) != None:\n",
    "                    hiragana = re.match(u'[\\u3040-\\u309F]+', furigana) #hiragana\n",
    "                    if hiragana != None: #check for hiragana\n",
    "                        phrase += hiragana.string\n",
    "                elif phrase != '':\n",
    "                    word_list.append(phrase)\n",
    "                    phrase = ''\n",
    "\n",
    "    pickle.dump(word_list, open(\"word_list.p\", \"wb\"))\n",
    "    pickle.dump(list_of_articles, open(\"list_of_articles.p\", \"wb\"))"
   ]
  },
  {
   "cell_type": "code",
   "execution_count": 3,
   "metadata": {
    "collapsed": false
   },
   "outputs": [],
   "source": [
    "init()"
   ]
  },
  {
   "cell_type": "code",
   "execution_count": 5,
   "metadata": {
    "collapsed": false
   },
   "outputs": [
    {
     "ename": "TypeError",
     "evalue": "__new__() takes 4 positional arguments but 5 were given",
     "output_type": "error",
     "traceback": [
      "\u001b[0;31m---------------------------------------------------------------------------\u001b[0m",
      "\u001b[0;31mTypeError\u001b[0m                                 Traceback (most recent call last)",
      "\u001b[0;32m<ipython-input-5-89726d434d25>\u001b[0m in \u001b[0;36m<module>\u001b[0;34m()\u001b[0m\n\u001b[0;32m----> 1\u001b[0;31m \u001b[0mupdate\u001b[0m\u001b[0;34m(\u001b[0m\u001b[0;34m)\u001b[0m\u001b[0;34m\u001b[0m\u001b[0m\n\u001b[0m",
      "\u001b[0;32m<ipython-input-2-c7bf2f6fa52b>\u001b[0m in \u001b[0;36mupdate\u001b[0;34m()\u001b[0m\n\u001b[1;32m     13\u001b[0m     \u001b[0;32mif\u001b[0m \u001b[0mos\u001b[0m\u001b[0;34m.\u001b[0m\u001b[0mpath\u001b[0m\u001b[0;34m.\u001b[0m\u001b[0misfile\u001b[0m\u001b[0;34m(\u001b[0m\u001b[0;34m'word_list.p'\u001b[0m\u001b[0;34m)\u001b[0m\u001b[0;34m:\u001b[0m\u001b[0;34m\u001b[0m\u001b[0m\n\u001b[1;32m     14\u001b[0m         \u001b[0mword_list\u001b[0m \u001b[0;34m=\u001b[0m \u001b[0mpickle\u001b[0m\u001b[0;34m.\u001b[0m\u001b[0mload\u001b[0m\u001b[0;34m(\u001b[0m\u001b[0mopen\u001b[0m\u001b[0;34m(\u001b[0m\u001b[0;34m'word_list.p'\u001b[0m\u001b[0;34m,\u001b[0m \u001b[0;34m'rb'\u001b[0m\u001b[0;34m)\u001b[0m\u001b[0;34m)\u001b[0m\u001b[0;34m\u001b[0m\u001b[0m\n\u001b[0;32m---> 15\u001b[0;31m         \u001b[0mlist_of_articles\u001b[0m \u001b[0;34m=\u001b[0m \u001b[0mpickle\u001b[0m\u001b[0;34m.\u001b[0m\u001b[0mload\u001b[0m\u001b[0;34m(\u001b[0m\u001b[0mopen\u001b[0m\u001b[0;34m(\u001b[0m\u001b[0;34m'list_of_articles.p'\u001b[0m\u001b[0;34m,\u001b[0m \u001b[0;34m'rb'\u001b[0m\u001b[0;34m)\u001b[0m\u001b[0;34m)\u001b[0m\u001b[0;34m\u001b[0m\u001b[0m\n\u001b[0m\u001b[1;32m     16\u001b[0m \u001b[0;34m\u001b[0m\u001b[0m\n\u001b[1;32m     17\u001b[0m     \u001b[0;32mfor\u001b[0m \u001b[0mdate\u001b[0m \u001b[0;32min\u001b[0m \u001b[0mdata\u001b[0m\u001b[0;34m[\u001b[0m\u001b[0;36m0\u001b[0m\u001b[0;34m]\u001b[0m\u001b[0;34m.\u001b[0m\u001b[0mkeys\u001b[0m\u001b[0;34m(\u001b[0m\u001b[0;34m)\u001b[0m\u001b[0;34m:\u001b[0m\u001b[0;34m\u001b[0m\u001b[0m\n",
      "\u001b[0;31mTypeError\u001b[0m: __new__() takes 4 positional arguments but 5 were given"
     ]
    }
   ],
   "source": [
    "update()"
   ]
  },
  {
   "cell_type": "code",
   "execution_count": null,
   "metadata": {
    "collapsed": true
   },
   "outputs": [],
   "source": []
  }
 ],
 "metadata": {
  "anaconda-cloud": {},
  "kernelspec": {
   "display_name": "Python 3",
   "language": "python",
   "name": "python3"
  },
  "language_info": {
   "codemirror_mode": {
    "name": "ipython",
    "version": 3
   },
   "file_extension": ".py",
   "mimetype": "text/x-python",
   "name": "python",
   "nbconvert_exporter": "python",
   "pygments_lexer": "ipython3",
   "version": "3.6.0"
  }
 },
 "nbformat": 4,
 "nbformat_minor": 0
}
