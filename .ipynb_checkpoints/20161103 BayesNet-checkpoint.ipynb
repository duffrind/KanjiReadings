{
 "cells": [
  {
   "cell_type": "code",
   "execution_count": null,
   "metadata": {
    "collapsed": true
   },
   "outputs": [],
   "source": [
    "# I will be making a BayesNet that takes in a vector of features, sums up the vector,\n",
    "# and then outputs a vector of probabilities.\n",
    "\n",
    "# First - Finish the data\n",
    "# Second - import data and extract features (can be preliminary)\n",
    "# Third - Sum up features and calculate probabilities\n",
    "# Fourth - Output probabilities for a given word (context)\n",
    "# Fifth - Turn probabilities into a pronunciation by checking against the given ON/KUN pronunciations\n",
    "# Lastly - Output and format the data beautifully (create into a blackbox)\n",
    "\n",
    "#### PLEASE NOTE - ALLKANJI NOW CONTAINS SINGLE CHARACTER WORDS AS WELL ####"
   ]
  },
  {
   "cell_type": "code",
   "execution_count": 1,
   "metadata": {
    "collapsed": true
   },
   "outputs": [],
   "source": [
    "import re\n",
    "#import unicodedata\n",
    "import pickle"
   ]
  },
  {
   "cell_type": "code",
   "execution_count": 2,
   "metadata": {
    "collapsed": true
   },
   "outputs": [],
   "source": [
    "true_dict = pickle.load(open('true.p','rb')) # This is the dictionary that contains all of the regular vocab"
   ]
  },
  {
   "cell_type": "code",
   "execution_count": 19,
   "metadata": {
    "collapsed": false
   },
   "outputs": [],
   "source": [
    "## TODO: Also get length of vocabulary word (single character words probably use KUNYOMI/follow a pattern, etc)\n",
    "\n",
    "### all dictionaries except for globals start with curKanji...\n",
    "\n",
    "### This means that all dictionaries are [curKanji][arg1][arg2] = counter (or error if not in dictionary)\n",
    "### Essentially backwards\n",
    "#def init():\n",
    "currentPronunciation = dict() # \n",
    "\n",
    "previousPronunciationCurrentPronunciation = dict() # prev, curPron -- (V) curPron, prev\n",
    "nextPronunciationCurrentPronunciation = dict() # \n",
    "previousCharacterCurrentPronunciation = dict() # \n",
    "nextCharacterCurrentPronunciation = dict() # \n",
    "allKanjiCurrentPronunciation = dict() # \n",
    "\n",
    "# Features given pronunciation\n",
    "currentPronunciationPreviousPronunciation = dict() #\n",
    "currentPronunciationNextPronunciation = dict() # \n",
    "currentPronunciationPreviousCharacter = dict() # \n",
    "currentPronunciationNextCharacter = dict() # \n",
    "currentPronunciationAllKanji = dict() # \n",
    "\n",
    "currentKanjiPreviousPronunciation = dict() #\n",
    "currentKanjiNextPronunciation = dict() # \n",
    "currentKanjiPreviousCharacter = dict() # \n",
    "currentKanjiNextCharacter = dict() # \n",
    "currentKanjiAllKanji = dict() # \n",
    "\n",
    "# New for totals... ###\n",
    "globalPreviousPronunciation = dict() ### -> dict() -> [prevPron][curPron]\n",
    "globalPreviousCharacter = dict() ### -> [prevChar][curPron]\n",
    "globalNextPronunciation = dict() ### -> [nextPron][curPron]\n",
    "globalNextCharacter = dict() ### -> [nextChar][curPron]\n",
    "##GLOBALGLOBALS\n",
    "allKanjiCurrentPronunciation = dict() # [curPron]\n",
    "allKanjiCurrentPronunciationPreviousPronunciation = dict() # [curPron][prevPron]\n",
    "allKanjiCurrentPronunciationNextPronunciation = dict()\n",
    "allKanjiCurrentPronunciationPreviousCharacter = dict()\n",
    "allKanjiCurrentPronunciationNextCharacter = dict()\n",
    "allKanjiCurrentPronunciationAllKanji = dict()\n",
    "\n",
    "###\n",
    "# number of characters in word\n",
    "# \n",
    "\n",
    "def updateAllKanji(curKanji, curPron, allKanji):\n",
    "    global allKanjiCurrentPronunciation, currentPronunciationAllKanji, currentKanjiAllKanji\n",
    "    currentKanjiAllKanji[curKanji] = currentKanjiAllKanji.get(curKanji, dict())\n",
    "    currentKanjiAllKanji[curKanji][allKanji] = currentKanjiAllKanji[curKanji].get(allKanji, 0) + 1\n",
    "    currentPronunciationAllKanji[curKanji] = currentPronunciationAllKanji.get(curKanji, dict())\n",
    "    currentPronunciationAllKanji[curKanji][curPron] = currentPronunciationAllKanji[curKanji].get(curPron, {True:0,False:0})\n",
    "    currentPronunciationAllKanji[curKanji][curPron][allKanji] = currentPronunciationAllKanji[curKanji][curPron][allKanji] + 1\n",
    "    allKanjiCurrentPronunciation[curKanji] = allKanjiCurrentPronunciation.get(curKanji, dict())\n",
    "    allKanjiCurrentPronunciation[curKanji][allKanji] = allKanjiCurrentPronunciation[curKanji].get(allKanji, dict())\n",
    "    allKanjiCurrentPronunciation[curKanji][allKanji][curPron] = allKanjiCurrentPronunciation[curKanji][allKanji].get(curPron,0) + 1\n",
    "    \n",
    "def updateCurPron(curKanji, curPron):\n",
    "    global currentPronunciation, v_cur_pron\n",
    "    currentPronunciation[curKanji] = currentPronunciation.get(curKanji, dict())\n",
    "    currentPronunciation[curKanji][curPron] = currentPronunciation[curKanji].get(curPron, 0) + 1\n",
    "\n",
    "def updatePrevPron(curKanji, prevPron, curPron):\n",
    "    global previousPronunciationCurrentPronunciation, currentPronunciationPreviousPronunciation, globalPreviousPronunciation, currentKanjiPreviousPronunciation\n",
    "    currentKanjiPreviousPronunciation[curKanji] = currentKanjiPreviousPronunciation.get(curKanji, dict())\n",
    "    currentKanjiPreviousPronunciation[curKanji][prevPron] = currentKanjiPreviousPronunciation[curKanji].get(prevPron, 0) + 1\n",
    "    previousPronunciationCurrentPronunciation[curKanji] = previousPronunciationCurrentPronunciation.get(curKanji, dict())\n",
    "    previousPronunciationCurrentPronunciation[curKanji][prevPron] = previousPronunciationCurrentPronunciation[curKanji].get(prevPron, dict())\n",
    "    previousPronunciationCurrentPronunciation[curKanji][prevPron][curPron] = previousPronunciationCurrentPronunciation[curKanji][prevPron].get(curPron,0) + 1\n",
    "    currentPronunciationPreviousPronunciation[curKanji] = currentPronunciationPreviousPronunciation.get(curKanji, dict())\n",
    "    currentPronunciationPreviousPronunciation[curKanji][curPron] = currentPronunciationPreviousPronunciation[curKanji].get(curPron, dict())\n",
    "    currentPronunciationPreviousPronunciation[curKanji][curPron][prevPron] = currentPronunciationPreviousPronunciation[curKanji][curPron].get(prevPron,0) + 1\n",
    "    globalPreviousPronunciation[prevPron] = globalPreviousPronunciation.get(prevPron, dict())\n",
    "    globalPreviousPronunciation[prevPron][curPron] = globalPreviousPronunciation[prevPron].get(curPron, 0) + 1\n",
    "    \n",
    "def updatePrevChar(curKanji, prevChar, curPron):\n",
    "    global previousCharacterCurrentPronunciation, currentPronunciationNextCharacter, globalPreviousCharacter, currentKanjiPreviousCharacter\n",
    "    currentKanjiPreviousCharacter[curKanji] = currentKanjiPreviousCharacter.get(curKanji, dict())\n",
    "    currentKanjiPreviousCharacter[curKanji][prevChar] = currentKanjiPreviousCharacter[curKanji].get(prevChar, 0) + 1\n",
    "    previousCharacterCurrentPronunciation[curKanji] = previousCharacterCurrentPronunciation.get(curKanji, dict())\n",
    "    previousCharacterCurrentPronunciation[curKanji][prevChar] = previousCharacterCurrentPronunciation[curKanji].get(prevChar, dict())\n",
    "    previousCharacterCurrentPronunciation[curKanji][prevChar][curPron] = previousCharacterCurrentPronunciation[curKanji][prevChar].get(curPron,0) + 1\n",
    "    currentPronunciationPreviousCharacter[curKanji] = currentPronunciationPreviousCharacter.get(curKanji, dict())\n",
    "    currentPronunciationPreviousCharacter[curKanji][curPron] = currentPronunciationPreviousCharacter[curKanji].get(curPron, dict())\n",
    "    currentPronunciationPreviousCharacter[curKanji][curPron][prevChar] = currentPronunciationPreviousCharacter[curKanji][curPron].get(prevChar,0) + 1\n",
    "    globalPreviousCharacter[prevChar] = globalPreviousCharacter.get(prevChar, dict())\n",
    "    globalPreviousCharacter[prevChar][curPron] = globalPreviousCharacter[prevChar].get(curPron, 0) + 1\n",
    "    \n",
    "def updateNextPron(curKanji, nextPron, curPron):\n",
    "    global nextPronunciationCurrentPronunciation, currentPronunciationNextPronunciation, globalNextPronunciation, currentKanjiNextPronunciation\n",
    "    currentKanjiNextPronunciation[curKanji] = currentKanjiNextPronunciation.get(curKanji, dict())\n",
    "    currentKanjiNextPronunciation[curKanji][nextPron] = currentKanjiNextPronunciation[curKanji].get(nextPron, 0) + 1\n",
    "    nextPronunciationCurrentPronunciation[curKanji] = nextPronunciationCurrentPronunciation.get(curKanji, dict())\n",
    "    nextPronunciationCurrentPronunciation[curKanji][nextPron] = nextPronunciationCurrentPronunciation[curKanji].get(nextPron, dict())\n",
    "    nextPronunciationCurrentPronunciation[curKanji][nextPron][curPron] = nextPronunciationCurrentPronunciation[curKanji][nextPron].get(curPron,0) + 1\n",
    "    currentPronunciationNextPronunciation[curKanji] = currentPronunciationNextPronunciation.get(curKanji, dict())\n",
    "    currentPronunciationNextPronunciation[curKanji][curPron] = currentPronunciationNextPronunciation[curKanji].get(curPron, dict())\n",
    "    currentPronunciationNextPronunciation[curKanji][curPron][nextPron] = currentPronunciationNextPronunciation[curKanji][curPron].get(nextPron,0) + 1\n",
    "    globalNextPronunciation[nextPron] = globalNextPronunciation.get(nextPron, dict())\n",
    "    globalNextPronunciation[nextPron][curPron] = globalNextPronunciation[nextPron].get(curPron, 0) + 1\n",
    "    \n",
    "def updateNextChar(curKanji, nextChar, curPron):\n",
    "    global nextCharacterCurrentPronunciation, currentPronunciationNextCharacter, globalNextCharacter, currentKanjiNextCharacter\n",
    "    currentKanjiNextCharacter[curKanji] = currentKanjiNextCharacter.get(curKanji, dict())\n",
    "    currentKanjiNextCharacter[curKanji][nextChar] = currentKanjiNextCharacter[curKanji].get(nextChar, 0) + 1\n",
    "    nextCharacterCurrentPronunciation[curKanji] = nextCharacterCurrentPronunciation.get(curKanji, dict())\n",
    "    nextCharacterCurrentPronunciation[curKanji][nextChar] = nextCharacterCurrentPronunciation[curKanji].get(nextChar, dict())\n",
    "    nextCharacterCurrentPronunciation[curKanji][nextChar][curPron] = nextCharacterCurrentPronunciation[curKanji][nextChar].get(curPron,0) + 1\n",
    "    currentPronunciationNextCharacter[curKanji] = currentPronunciationNextCharacter.get(curKanji, dict())\n",
    "    currentPronunciationNextCharacter[curKanji][curPron] = currentPronunciationNextCharacter[curKanji].get(curPron, dict())\n",
    "    currentPronunciationNextCharacter[curKanji][curPron][nextChar] = currentPronunciationNextCharacter[curKanji][curPron].get(nextChar,0) + 1\n",
    "    globalNextCharacter[nextChar] = globalNextCharacter.get(nextChar, dict())\n",
    "    globalNextCharacter[nextChar][curPron] = globalNextCharacter[nextChar].get(curPron, 0) + 1"
   ]
  },
  {
   "cell_type": "code",
   "execution_count": 20,
   "metadata": {
    "collapsed": false
   },
   "outputs": [],
   "source": [
    "def createBayes():\n",
    "    \"\"\"Creates the Bayesian Network by creating dictionaries of occurences\"\"\"\n",
    "    #init()\n",
    "    for kanji, pronunciation in true_dict.items():\n",
    "        if re.search(\"\"\"[\\u3040-\\u30ff]+\"\"\", kanji) == None and len(kanji) != 0: # Finds kana\n",
    "            kanjiWord = True\n",
    "        else: # either kana is present or the word is a singular character\n",
    "            kanjiWord = False\n",
    "        for i in range(len(kanji)):\n",
    "            updateCurPron(kanji[i], pronunciation[i])\n",
    "            if i == 0: # First and last characters are special cases\n",
    "                updatePrevPron(kanji[i], 'START', pronunciation[i])\n",
    "                updatePrevChar(kanji[i], 'START', pronunciation[i])\n",
    "            else:\n",
    "                updatePrevPron(kanji[i], pronunciation[i-1], pronunciation[i])\n",
    "                updatePrevChar(kanji[i], kanji[i-1], pronunciation[i])\n",
    "            if i == (len(kanji) - 1):\n",
    "                updateNextPron(kanji[i], 'END', pronunciation[i])\n",
    "                updateNextChar(kanji[i], 'END', pronunciation[i])\n",
    "            else:\n",
    "                updateNextPron(kanji[i], pronunciation[i+1], pronunciation[i])\n",
    "                updateNextChar(kanji[i], kanji[i+1], pronunciation[i])\n",
    "        updateAllKanji(kanji[i], pronunciation[i], kanjiWord)"
   ]
  },
  {
   "cell_type": "code",
   "execution_count": 21,
   "metadata": {
    "collapsed": true
   },
   "outputs": [],
   "source": [
    "# dictionaries for each vector\n",
    "# value = d.get(key, \"empty\")\n",
    "#\n",
    "# prev_pron, prev_char, all_kanji, reading (kanji: on[1], kun[0]), kanji_pron (kanji: prons), POS?, radicals?,\n",
    "# singlechar?, \n",
    "# check for mixed reading"
   ]
  },
  {
   "cell_type": "code",
   "execution_count": 22,
   "metadata": {
    "collapsed": false
   },
   "outputs": [
    {
     "ename": "KeyError",
     "evalue": "'人'",
     "output_type": "error",
     "traceback": [
      "\u001b[0;31m---------------------------------------------------------------------------\u001b[0m",
      "\u001b[0;31mKeyError\u001b[0m                                  Traceback (most recent call last)",
      "\u001b[0;32m<ipython-input-22-e03b45d9259f>\u001b[0m in \u001b[0;36m<module>\u001b[0;34m()\u001b[0m\n\u001b[0;32m----> 1\u001b[0;31m \u001b[0mallKanjiCurrentPronunciation\u001b[0m\u001b[0;34m[\u001b[0m\u001b[0;34m'人'\u001b[0m\u001b[0;34m]\u001b[0m\u001b[0;34m\u001b[0m\u001b[0m\n\u001b[0m",
      "\u001b[0;31mKeyError\u001b[0m: '人'"
     ]
    }
   ],
   "source": [
    "allKanjiCurrentPronunciation['人']"
   ]
  },
  {
   "cell_type": "code",
   "execution_count": 7,
   "metadata": {
    "collapsed": false
   },
   "outputs": [],
   "source": [
    "def getProbabilitiesDebug(kanji=None,prevPron=None,prevChar=None,nextPron=None,nextChar=None,allKanji=None):\n",
    "    \"\"\"Inputs: kanji, prevPron?, prevChar?, nextPron?, nextChar?, allKanji?\n",
    "? = optional\n",
    "Output: A List of Dictionaries of occurences\n",
    "TODO: Feed the list of dictionaries to computeProbabilities\n",
    "This function returns all of the statistics for the current Kanji in\n",
    "all contexts, independent of each other. This means that the nextPronunciation\n",
    "dictionary will not be affected by the presence of an allKanji flag.\n",
    "\n",
    "The order of the dictionaries are:\n",
    "curPron, prevPron, prevChar, nextPron, nextChar, allKanji\n",
    "\"\"\"\n",
    "    dictionary_list = []\n",
    "    dictionary_list.append(currentPronunciation.get(kanji, dict()))\n",
    "    if prevPron == None:\n",
    "        dictionary_list.append(previousPronunciationCurrentPronunciation.get(kanji, dict()))\n",
    "    else:\n",
    "        dictionary_list.append(previousPronunciationCurrentPronunciation.get(kanji, dict()).get(prevPron, dict()))\n",
    "    if prevChar == None:\n",
    "        dictionary_list.append(previousCharacterCurrentPronunciation.get(kanji, dict()))\n",
    "    else:\n",
    "        dictionary_list.append(previousCharacterCurrentPronunciation.get(kanji, dict()).get(prevChar, dict()))\n",
    "    if nextPron == None:\n",
    "        dictionary_list.append(nextPronunciationCurrentPronunciation.get(kanji, dict()))\n",
    "    else:\n",
    "        dictionary_list.append(nextPronunciationCurrentPronunciation.get(kanji, dict()).get(nextPron, dict()))\n",
    "    if nextChar == None:\n",
    "        dictionary_list.append(nextCharacterCurrentPronunciation.get(kanji, dict()))\n",
    "    else:\n",
    "        dictionary_list.append(nextCharacterCurrentPronunciation.get(kanji, dict()).get(nextChar, dict()))\n",
    "    if allKanji == None:\n",
    "        dictionary_list.append(allKanjiCurrentPronunciation.get(kanji, dict()))\n",
    "    else:\n",
    "        dictionary_list.append(allKanjiCurrentPronunciation.get(kanji, dict()).get(allKanji, dict()))\n",
    "    return computeProbabilities(dictionary_list)"
   ]
  },
  {
   "cell_type": "code",
   "execution_count": 8,
   "metadata": {
    "collapsed": false
   },
   "outputs": [],
   "source": [
    "def getProbabilities(kanji=None,prevPron=None,prevChar=None,nextPron=None,nextChar=None,allKanji=None):\n",
    "    \"\"\"Inputs: kanji, prevPron?, prevChar?, nextPron?, nextChar?, allKanji?\n",
    "? = optional\n",
    "Output: A List of Dictionaries of occurences\n",
    "TODO: Feed the list of dictionaries to computeProbabilities\n",
    "This function returns all of the statistics for the current Kanji in\n",
    "all contexts, independent of each other. This means that the nextPronunciation\n",
    "dictionary will not be affected by the presence of an allKanji flag.\n",
    "\n",
    "The order of the dictionaries are:\n",
    "curPron, prevPron, prevChar, nextPron, nextChar, allKanji\n",
    "\"\"\"\n",
    "    dictionary_list = []\n",
    "    keys = set(currentPronunciation.get(kanji, dict()).keys())\n",
    "    dictionary_list.append(occurencesToPercentages(currentPronunciation.get(kanji, dict())))\n",
    "    argument_list = []\n",
    "    if prevPron != None:\n",
    "        argument_list.append(prevPron)\n",
    "        keys = keys | set(currentPronunciationPreviousPronunciation.get(kanji, dict()).keys())\n",
    "        dictionary_list.append(occurencesToPercentagesArg(currentPronunciationPreviousPronunciation.get(kanji, dict()), prevPron))\n",
    "    if prevChar != None:\n",
    "        argument_list.append(prevChar)\n",
    "        keys = keys | set(currentPronunciationPreviousCharacter.get(kanji, dict()).keys())\n",
    "        dictionary_list.append(occurencesToPercentagesArg(currentPronunciationPreviousCharacter.get(kanji, dict()), prevChar))\n",
    "    if nextPron != None:\n",
    "        argument_list.append(nextPron)\n",
    "        keys = keys | set(currentPronunciationNextPronunciation.get(kanji, dict()).keys())\n",
    "        dictionary_list.append(occurencesToPercentagesArg(currentPronunciationNextPronunciation.get(kanji, dict()), nextPron))\n",
    "    if nextChar != None:\n",
    "        argument_list.append(nextChar)\n",
    "        keys = keys | set(currentPronunciationNextCharacter.get(kanji, dict()).keys())\n",
    "        dictionary_list.append(occurencesToPercentagesArg(currentPronunciationNextCharacter.get(kanji, dict()), nextChar))\n",
    "    if allKanji != None:\n",
    "        argument_list.append(allKanji)\n",
    "        keys = keys | set(currentPronunciationAllKanji.get(kanji, dict()).keys())\n",
    "        dictionary_list.append(occurencesToPercentagesArg(currentPronunciationAllKanji.get(kanji, dict()), allKanji))\n",
    "    return bayesTheorem(dictionary_list, keys, argument_list)"
   ]
  },
  {
   "cell_type": "code",
   "execution_count": 9,
   "metadata": {
    "collapsed": true
   },
   "outputs": [],
   "source": [
    "def getGlobalProbabilities(kanji=None,prevPron=None,prevChar=None,nextPron=None,nextChar=None,allKanji=None):\n",
    "    \"\"\"Inputs: kanji, prevPron?, prevChar?, nextPron?, nextChar?, allKanji?\n",
    "? = optional\n",
    "Output: A List of Dictionaries of occurences\n",
    "TODO: Feed the list of dictionaries to computeProbabilities\n",
    "This function returns all of the statistics for the current Kanji in\n",
    "all contexts, independent of each other. This means that the nextPronunciation\n",
    "dictionary will not be affected by the presence of an allKanji flag.\n",
    "\n",
    "The order of the dictionaries are:\n",
    "curPron, prevPron, prevChar, nextPron, nextChar, allKanji\n",
    "\"\"\"\n",
    "    dictionary_list = []\n",
    "    keys = set(currentPronunciation.get(kanji, dict()).keys())\n",
    "    dictionary_list.append(occurencesToPercentages(currentPronunciation.get(kanji, dict())))\n",
    "    argument_list = []\n",
    "    if prevPron != None:\n",
    "        argument_list.append(prevPron)\n",
    "        keys = keys | set(currentPronunciationPreviousPronunciation.get(kanji, dict()).keys())\n",
    "        dictionary_list.append(occurencesToPercentagesArg(currentPronunciationPreviousPronunciation.get(kanji, dict()), prevPron))\n",
    "    if prevChar != None:\n",
    "        argument_list.append(prevChar)\n",
    "        keys = keys | set(currentPronunciationPreviousCharacter.get(kanji, dict()).keys())\n",
    "        dictionary_list.append(occurencesToPercentagesArg(currentPronunciationPreviousCharacter.get(kanji, dict()), prevChar))\n",
    "    if nextPron != None:\n",
    "        argument_list.append(nextPron)\n",
    "        keys = keys | set(currentPronunciationNextPronunciation.get(kanji, dict()).keys())\n",
    "        dictionary_list.append(occurencesToPercentagesArg(currentPronunciationNextPronunciation.get(kanji, dict()), nextPron))\n",
    "    if nextChar != None:\n",
    "        argument_list.append(nextChar)\n",
    "        keys = keys | set(currentPronunciationNextCharacter.get(kanji, dict()).keys())\n",
    "        dictionary_list.append(occurencesToPercentagesArg(currentPronunciationNextCharacter.get(kanji, dict()), nextChar))\n",
    "    if allKanji != None:\n",
    "        argument_list.append(allKanji)\n",
    "        keys = keys | set(currentPronunciationAllKanji.get(kanji, dict()).keys())\n",
    "        dictionary_list.append(occurencesToPercentagesArg(currentPronunciationAllKanji.get(kanji, dict()), allKanji))\n",
    "    return bayesTheorem(dictionary_list, keys, argument_list)"
   ]
  },
  {
   "cell_type": "code",
   "execution_count": 10,
   "metadata": {
    "collapsed": true
   },
   "outputs": [],
   "source": [
    "def bayesTheorem(dictionary_list, keys, argument_list): #kanji\n",
    "    \"\"\"Inputs: dictionary_list, keys, argument_list\n",
    "Outputs: Sorted list of probabilities\n",
    "This function follows the Bayesian Theorem that as defined\n",
    "in the following paper https://dl.dropboxusercontent.com/u/62448029/DAG_for_email.pdf\n",
    "Basic formula:\n",
    "P(pronunciation|feature1, feature2, ...) =\n",
    "P(pronunciation)*P(feature1|pronunciation)*P(feature2|pronunciation)* ...\n",
    "Arguments is synonymous with features in this example\n",
    "\"\"\"\n",
    "    #print(dictionary_list)\n",
    "    return_dict = dict()\n",
    "    for key in keys:\n",
    "        return_dict[key] = return_dict.get(key, 0) + dictionary_list[0].get(key, 0)\n",
    "        for i in range(len(argument_list)):\n",
    "            return_dict[key] = dictionary_list[i + 1].get(key, dict()).get(argument_list[i], 0) * return_dict[key]\n",
    "    return_dict = occurencesToPercentages(return_dict)\n",
    "    return sorted(return_dict.items(), key=lambda kv: kv[1], reverse=True)"
   ]
  },
  {
   "cell_type": "code",
   "execution_count": 24,
   "metadata": {
    "collapsed": false
   },
   "outputs": [
    {
     "data": {
      "text/plain": [
       "[('じん', 0.5853658536585366),\n",
       " ('にん', 0.25609756097560976),\n",
       " ('り', 0.09146341463414634),\n",
       " ('ひと', 0.048780487804878044),\n",
       " ('びと', 0.018292682926829267)]"
      ]
     },
     "execution_count": 24,
     "metadata": {},
     "output_type": "execute_result"
    }
   ],
   "source": [
    "getProbabilities('人', allKanji=True)  #, nextpron='び')"
   ]
  },
  {
   "cell_type": "code",
   "execution_count": 25,
   "metadata": {
    "collapsed": true
   },
   "outputs": [],
   "source": [
    "def computeProbabilities(list_of_dicts):\n",
    "    \"\"\"Input: A single list of dictionaries\n",
    "Output: A single dictionary of percentages as values\n",
    "To be called from getProbabilities to convert\n",
    "the list of dicts of occurences to a single\n",
    "vector of probabilities.\"\"\"\n",
    "    print(list_of_dicts)\n",
    "    number_of_dicts = len(list_of_dicts)\n",
    "    if number_of_dicts == 0:\n",
    "        return dict()\n",
    "    elif number_of_dicts == 1:\n",
    "        return occurencesToPercentages(list_of_dicts[0])\n",
    "    else: ### Define what I am trying to calculate... intersection of percentage vectors??\n",
    "        keys = set(list_of_dicts[0].keys()) ## copy bayes theorem here and ensure that I correctly copy the formula\n",
    "        for dictionary in list_of_dicts:\n",
    "            keys = keys | set(dictionary.keys()) # Get all keys\n",
    "        return_dict = dict()\n",
    "        for dictionary in list_of_dicts:\n",
    "            dictionary = occurencesToPercentages(dictionary)\n",
    "            for key in keys: ## Currently adding the occurences and then taking the percentage...\n",
    "                # Bayes Theorem = P(a|b,c,...) = P(a,b,c,...)/P(b,c,...) -Proportional> P(a,b,c,...)\n",
    "                # Which finally gives P(a)P(b|a)P(c|a)... [P(p)P(f1|a)P(f2|b)...]\n",
    "                # https://dl.dropboxusercontent.com/u/62448029/DAG_for_email.pdf\n",
    "                # times a normalizing factor (divide by the sum of all percentages)\n",
    "                return_dict[key] = return_dict.get(key, 0) * dictionary.get(key, 0)\n",
    "        return normalizePercentages(return_dict) ## normalize the vector"
   ]
  },
  {
   "cell_type": "code",
   "execution_count": 26,
   "metadata": {
    "collapsed": true
   },
   "outputs": [],
   "source": [
    "def occurencesToPercentagesArg(dict_of_occurences, argument):\n",
    "    \"\"\"Input: A single dictionary of occurences as values for some key\n",
    "Output: A single dictionary of percentages as values for some key\"\"\"\n",
    "    \n",
    "    #for (_, value) in dict_of_occurences.items():\n",
    "    #    sum = 0\n",
    "    #    for (_, v) in value.items():\n",
    "    #        sum += v\n",
    "    sum_dict = dict()\n",
    "    for (key1, value1) in dict_of_occurences.items():\n",
    "        sum = 0\n",
    "        for (key2, value2) in value1.items():\n",
    "            sum = sum + value2\n",
    "        sum_dict[key1] = sum_dict.get(key1, dict())\n",
    "        sum_dict[key1]['sum'] = sum\n",
    "        for (key2, value2) in value1.items():\n",
    "            if sum_dict[key1]['sum'] != 0:\n",
    "                dict_of_occurences[key1][key2] = value2 / sum_dict[key1]['sum']\n",
    "    #dict_of_occurences = sorted(dict_of_occurences.items(), key=lambda kv: kv[1], reverse=True)\n",
    "    return dict_of_occurences"
   ]
  },
  {
   "cell_type": "code",
   "execution_count": 27,
   "metadata": {
    "collapsed": true
   },
   "outputs": [],
   "source": [
    "def occurencesToPercentages(dict_of_occurences):\n",
    "    \"\"\"Input: A single dictionary of occurences as values for some key\n",
    "Output: A single dictionary of percentages as values for some key\"\"\"\n",
    "    sum = 0\n",
    "    for (_, value) in dict_of_occurences.items(): sum += value\n",
    "    if sum != 0:\n",
    "        for (key, value) in dict_of_occurences.items():\n",
    "            dict_of_occurences[key] = value / sum\n",
    "    #dict_of_occurences = sorted(dict_of_occurences.items(), key=lambda kv: kv[1], reverse=True)\n",
    "    return dict_of_occurences"
   ]
  },
  {
   "cell_type": "code",
   "execution_count": 28,
   "metadata": {
    "collapsed": false
   },
   "outputs": [],
   "source": [
    "def normalizePercentages(dict_of_occurences):\n",
    "    \"\"\"Input: A single dictionary of occurences as values for some key\n",
    "Output: A single, ordered list of percentages as values for some key\"\"\"\n",
    "    sum = 0\n",
    "    for (_, value) in dict_of_occurences.items(): sum += value\n",
    "    if sum != 0: ######\n",
    "        for (key, value) in dict_of_occurences.items():\n",
    "            dict_of_occurences[key] = value / sum\n",
    "    dict_of_occurences = sorted(dict_of_occurences.items(), key=lambda kv: kv[1], reverse=True)\n",
    "    return dict_of_occurences"
   ]
  },
  {
   "cell_type": "code",
   "execution_count": 30,
   "metadata": {
    "collapsed": false,
    "scrolled": false
   },
   "outputs": [
    {
     "data": {
      "text/plain": [
       "[('ひと', 1.0), ('びと', 0.0), ('じん', 0.0), ('にん', 0.0), ('り', 0.0)]"
      ]
     },
     "execution_count": 30,
     "metadata": {},
     "output_type": "execute_result"
    }
   ],
   "source": [
    "getProbabilities('人', allKanji=False)  #, nextpron='び')"
   ]
  },
  {
   "cell_type": "code",
   "execution_count": 117,
   "metadata": {
    "collapsed": false
   },
   "outputs": [
    {
     "name": "stdout",
     "output_type": "stream",
     "text": [
      "Help on function getProbabilities in module __main__:\n",
      "\n",
      "getProbabilities(kanji=None, prevPron=None, prevChar=None, nextPron=None, nextChar=None, allKanji=None)\n",
      "    Inputs: kanji, prevPron?, prevChar?, nextPron?, nextChar?, allKanji?\n",
      "    ? = optional\n",
      "    Output: A List of Dictionaries of occurences\n",
      "    TODO: Feed the list of dictionaries to computeProbabilities\n",
      "    This function returns all of the statistics for the current Kanji in\n",
      "    all contexts, independent of each other. This means that the nextPronunciation\n",
      "    dictionary will not be affected by the presence of an allKanji flag.\n",
      "    \n",
      "    The order of the dictionaries are:\n",
      "    curPron, prevPron, prevChar, nextPron, nextChar, allKanji\n",
      "\n"
     ]
    }
   ],
   "source": [
    "help(getProbabilities)"
   ]
  },
  {
   "cell_type": "code",
   "execution_count": 17,
   "metadata": {
    "collapsed": false
   },
   "outputs": [
    {
     "ename": "NameError",
     "evalue": "name 'globalNextPronunciation' is not defined",
     "output_type": "error",
     "traceback": [
      "\u001b[0;31m---------------------------------------------------------------------------\u001b[0m",
      "\u001b[0;31mNameError\u001b[0m                                 Traceback (most recent call last)",
      "\u001b[0;32m<ipython-input-17-744510037032>\u001b[0m in \u001b[0;36m<module>\u001b[0;34m()\u001b[0m\n\u001b[1;32m      1\u001b[0m \u001b[0;31m#globalPreviousPronunciation\u001b[0m\u001b[0;34m\u001b[0m\u001b[0;34m\u001b[0m\u001b[0m\n\u001b[1;32m      2\u001b[0m \u001b[0;31m#globalPreviousCharacter\u001b[0m\u001b[0;34m\u001b[0m\u001b[0;34m\u001b[0m\u001b[0m\n\u001b[0;32m----> 3\u001b[0;31m \u001b[0moccurencesToPercentages\u001b[0m\u001b[0;34m(\u001b[0m\u001b[0mglobalNextPronunciation\u001b[0m\u001b[0;34m[\u001b[0m\u001b[0;34m'あ'\u001b[0m\u001b[0;34m]\u001b[0m\u001b[0;34m)\u001b[0m \u001b[0;31m## works with any dictionary of occurences\u001b[0m\u001b[0;34m\u001b[0m\u001b[0m\n\u001b[0m\u001b[1;32m      4\u001b[0m \u001b[0;31m#globalNextCharacter['笑']\u001b[0m\u001b[0;34m\u001b[0m\u001b[0;34m\u001b[0m\u001b[0m\n",
      "\u001b[0;31mNameError\u001b[0m: name 'globalNextPronunciation' is not defined"
     ]
    }
   ],
   "source": [
    "#globalPreviousPronunciation\n",
    "#globalPreviousCharacter\n",
    "occurencesToPercentages(globalNextPronunciation['あ']) ## works with any dictionary of occurences\n",
    "#globalNextCharacter['笑']"
   ]
  },
  {
   "cell_type": "code",
   "execution_count": null,
   "metadata": {
    "collapsed": true
   },
   "outputs": [],
   "source": [
    "### WHY ALLKANJI MATTERS: 微笑み hoho e mi　微笑 bi shou"
   ]
  },
  {
   "cell_type": "code",
   "execution_count": null,
   "metadata": {
    "collapsed": true
   },
   "outputs": [],
   "source": [
    "### take all regular and[?] irregular words and push the pronunciations through globalPreviousPronunciation\n",
    "### and globalNextPronunciation while holding small characters to the previous syllable"
   ]
  },
  {
   "cell_type": "code",
   "execution_count": 142,
   "metadata": {
    "collapsed": false
   },
   "outputs": [
    {
     "data": {
      "text/plain": [
       "{False: 2, True: 31}"
      ]
     },
     "execution_count": 142,
     "metadata": {},
     "output_type": "execute_result"
    }
   ],
   "source": [
    "currentKanjiAllKanji['人']"
   ]
  },
  {
   "cell_type": "code",
   "execution_count": 113,
   "metadata": {
    "collapsed": false
   },
   "outputs": [
    {
     "data": {
      "text/plain": [
       "{'じん': 32, 'にん': 14, 'ひと': 8, 'びと': 1, 'り': 5}"
      ]
     },
     "execution_count": 113,
     "metadata": {},
     "output_type": "execute_result"
    }
   ],
   "source": [
    "currentPronunciation['人']"
   ]
  },
  {
   "cell_type": "code",
   "execution_count": 114,
   "metadata": {
    "collapsed": false
   },
   "outputs": [
    {
     "data": {
      "text/plain": [
       "{'じん': {False: 0, True: 16},\n",
       " 'にん': {False: 0, True: 10},\n",
       " 'ひと': {False: 2, True: 1},\n",
       " 'びと': {False: 0, True: 1},\n",
       " 'り': {False: 0, True: 3}}"
      ]
     },
     "execution_count": 114,
     "metadata": {},
     "output_type": "execute_result"
    }
   ],
   "source": [
    "# P(pronunciations of '人'| AllKanji = True) ->\n",
    "# P(AllKanji = True | pronunciation of '人') P(pronunciations of '人') / P(AllKanji = True)\n",
    "currentPronunciationAllKanji['人']"
   ]
  },
  {
   "cell_type": "code",
   "execution_count": 116,
   "metadata": {
    "collapsed": false
   },
   "outputs": [
    {
     "data": {
      "text/plain": [
       "{'じん': {'END': 16,\n",
       "  '体': 1,\n",
       "  '公': 1,\n",
       "  '口': 1,\n",
       "  '命': 1,\n",
       "  '工': 1,\n",
       "  '文': 1,\n",
       "  '材': 1,\n",
       "  '格': 1,\n",
       "  '民': 1,\n",
       "  '物': 1,\n",
       "  '生': 1,\n",
       "  '目': 1,\n",
       "  '科': 1,\n",
       "  '種': 1,\n",
       "  '造': 1,\n",
       "  '類': 1},\n",
       " 'にん': {'END': 10, '形': 1, '情': 1, '気': 1, '間': 1},\n",
       " 'ひと': {'END': 3, '差': 1, '柄': 1, '質': 1, '込': 1, '通': 1},\n",
       " 'びと': {'END': 1},\n",
       " 'り': {'END': 3, 'で': 1, '一': 1}}"
      ]
     },
     "execution_count": 116,
     "metadata": {},
     "output_type": "execute_result"
    }
   ],
   "source": [
    "currentPronunciationNextCharacter['人']"
   ]
  },
  {
   "cell_type": "code",
   "execution_count": 118,
   "metadata": {
    "collapsed": false
   },
   "outputs": [
    {
     "data": {
      "text/plain": [
       "{'じん': 32, 'にん': 14, 'ひと': 8, 'びと': 1, 'り': 5}"
      ]
     },
     "execution_count": 118,
     "metadata": {},
     "output_type": "execute_result"
    }
   ],
   "source": [
    "currentPronunciation['人']"
   ]
  },
  {
   "cell_type": "code",
   "execution_count": 134,
   "metadata": {
    "collapsed": false
   },
   "outputs": [
    {
     "data": {
      "text/plain": [
       "{}"
      ]
     },
     "execution_count": 134,
     "metadata": {},
     "output_type": "execute_result"
    }
   ],
   "source": [
    "currentPronunciationAllKanji['人'].get(False, dict())"
   ]
  },
  {
   "cell_type": "code",
   "execution_count": 128,
   "metadata": {
    "collapsed": false
   },
   "outputs": [
    {
     "data": {
      "text/plain": [
       "{'じん': {'END': 16,\n",
       "  '体': 1,\n",
       "  '公': 1,\n",
       "  '口': 1,\n",
       "  '命': 1,\n",
       "  '工': 1,\n",
       "  '文': 1,\n",
       "  '材': 1,\n",
       "  '格': 1,\n",
       "  '民': 1,\n",
       "  '物': 1,\n",
       "  '生': 1,\n",
       "  '目': 1,\n",
       "  '科': 1,\n",
       "  '種': 1,\n",
       "  '造': 1,\n",
       "  '類': 1},\n",
       " 'にん': {'END': 10, '形': 1, '情': 1, '気': 1, '間': 1},\n",
       " 'ひと': {'END': 3, '差': 1, '柄': 1, '質': 1, '込': 1, '通': 1},\n",
       " 'びと': {'END': 1},\n",
       " 'り': {'END': 3, 'で': 1, '一': 1}}"
      ]
     },
     "execution_count": 128,
     "metadata": {},
     "output_type": "execute_result"
    }
   ],
   "source": [
    "currentPronunciationNextCharacter['人']"
   ]
  },
  {
   "cell_type": "code",
   "execution_count": 23,
   "metadata": {
    "collapsed": false
   },
   "outputs": [],
   "source": [
    "createBayes()"
   ]
  },
  {
   "cell_type": "code",
   "execution_count": 156,
   "metadata": {
    "collapsed": false
   },
   "outputs": [
    {
     "data": {
      "text/plain": [
       "dict_items([('我', {'が': {False: 0, True: 2}}), ('規', {'ぎ': {False: 0, True: 1}, 'き': {False: 0, True: 1}}), ('納', {'のう': {False: 0, True: 1}}), ('違', {'い': {False: 0, True: 1}}), ('景', {'けい': {False: 0, True: 3}}), ('西', {'にし': {False: 0, True: 1}, 'ざい': {False: 0, True: 1}}), ('珠', {'じゅ': {False: 0, True: 1}}), ('化', {'か': {False: 0, True: 7}}), ('婦', {'ふ': {False: 0, True: 2}}), ('野', {'の': {False: 0, True: 1}, 'や': {False: 0, True: 3}}), ('蔑', {'べつ': {False: 0, True: 1}}), ('斎', {'さい': {False: 0, True: 1}}), ('北', {'きた': {False: 0, True: 1}, 'ぼく': {False: 0, True: 1}}), ('任', {'にん': {False: 0, True: 6}}), ('簿', {'ぼ': {False: 0, True: 1}}), ('蚊', {'か': {False: 0, True: 1}}), ('細', {'さい': {False: 0, True: 1}}), ('南', {'みなみ': {False: 0, True: 1}}), ('久', {'きゅう': {False: 0, True: 1}}), ('許', {'きょ': {False: 0, True: 1}}), ('拓', {'たく': {False: 0, True: 1}}), ('志', {'し': {False: 0, True: 2}, 'こころざし': {False: 0, True: 1}}), ('励', {'れい': {False: 0, True: 2}}), ('佐', {'さ': {False: 0, True: 1}}), ('商', {'しょう': {False: 0, True: 1}}), ('内', {'うち': {False: 1, True: 1}, 'ない': {False: 0, True: 3}}), ('後', {'のち': {False: 0, True: 1}, 'ご': {False: 0, True: 8}}), ('子', {'す': {False: 0, True: 3}, 'ご': {False: 0, True: 1}, 'こ': {False: 3, True: 2}, 'じ': {False: 0, True: 3}, 'し': {False: 1, True: 10}}), ('す', {'す': {False: 182, True: 0}}), ('福', {'ふく': {False: 0, True: 2}}), ('超', {'ちょう': {False: 0, True: 1}}), ('箒', {'ほうき': {False: 0, True: 1}}), ('初', {'はつ': {False: 0, True: 1}, 'しょ': {False: 0, True: 1}}), ('林', {'りん': {False: 0, True: 2}, 'はやし': {False: 0, True: 1}}), ('隅', {'すみ': {False: 0, True: 1}}), ('週', {'しゅう': {False: 1, True: 8}}), ('領', {'りょう': {False: 0, True: 3}}), ('唱', {'しょう': {False: 0, True: 1}}), ('室', {'しつ': {False: 0, True: 8}}), ('像', {'ぞう': {False: 0, True: 5}}), ('数', {'かず': {False: 0, True: 1}, 'すう': {False: 0, True: 15}}), ('送', {'そう': {False: 0, True: 5}}), ('鬱', {'うつ': {False: 0, True: 1}}), ('巣', {'す': {False: 0, True: 1}}), ('川', {'せん': {False: 0, True: 1}, 'かわ': {False: 0, True: 1}}), ('王', {'おう': {False: 0, True: 3}}), ('算', {'さん': {False: 0, True: 5}, 'ざん': {False: 3, True: 3}}), ('鼓', {'こ': {False: 0, True: 1}}), ('姪', {'めい': {False: 0, True: 1}}), ('坂', {'さか': {False: 0, True: 1}}), ('女', {'おんな': {False: 0, True: 1}, 'じょ': {False: 0, True: 4}}), ('咳', {'せき': {False: 0, True: 1}}), ('僚', {'りょう': {False: 0, True: 2}}), ('黒', {'くろ': {False: 1, True: 1}}), ('べ', {'べ': {False: 4, True: 0}}), ('蓮', {'はす': {False: 0, True: 1}}), ('祖', {'ぞ': {False: 0, True: 1}}), ('決', {'けつ': {False: 0, True: 8}}), ('験', {'けん': {False: 0, True: 4}}), ('慮', {'りょ': {False: 0, True: 3}}), ('笛', {'ふえ': {False: 0, True: 1}}), ('菌', {'きん': {False: 0, True: 2}}), ('屋', {'や': {False: 0, True: 4}, 'おく': {False: 0, True: 1}}), ('現', {'げん': {False: 0, True: 3}}), ('伜', {'せがれ': {False: 0, True: 1}}), ('鹿', {'か': {False: 0, True: 1}}), ('抱', {'ぼう': {False: 0, True: 1}, 'ほう': {False: 0, True: 1}}), ('象', {'ぞう': {False: 0, True: 1}, 'しょう': {False: 0, True: 5}}), ('台', {'たい': {False: 0, True: 1}, 'だい': {False: 0, True: 4}}), ('栄', {'えい': {False: 0, True: 1}}), ('芸', {'げい': {False: 0, True: 5}}), ('静', {'せい': {False: 0, True: 2}}), ('湯', {'ゆ': {False: 1, True: 1}}), ('詩', {'し': {False: 0, True: 1}}), ('肘', {'ひじ': {False: 0, True: 1}}), ('鉄', {'てつ': {False: 0, True: 4}}), ('痛', {'つう': {False: 0, True: 2}}), ('素', {'そ': {False: 0, True: 6}}), ('工', {'こう': {False: 0, True: 2}, 'く': {False: 0, True: 2}}), ('父', {'ふ': {False: 0, True: 1}}), ('筆', {'ふで': {False: 0, True: 1}, 'ひつ': {False: 0, True: 2}, 'ぴつ': {False: 0, True: 1}}), ('低', {'てい': {False: 0, True: 1}}), ('適', {'てき': {False: 0, True: 1}}), ('搬', {'ぱん': {False: 0, True: 1}}), ('院', {'いん': {False: 0, True: 7}}), ('筋', {'すじ': {False: 0, True: 3}}), ('原', {'げん': {False: 0, True: 1}, 'はら': {False: 0, True: 1}}), ('期', {'き': {False: 0, True: 8}}), ('風', {'ふう': {False: 0, True: 5}, 'かぜ': {False: 0, True: 1}}), ('料', {'りょう': {False: 0, True: 14}}), ('歴', {'れき': {False: 0, True: 3}}), ('分', {'ぶ': {False: 0, True: 1}, 'わけ': {False: 1, True: 0}, 'ぶん': {False: 1, True: 21}}), ('刺', {'し': {False: 0, True: 1}, 'とげ': {False: 0, True: 1}}), ('取', {'とり': {False: 0, True: 1}}), ('杉', {'すぎ': {False: 0, True: 1}}), ('嫌', {'げん': {False: 0, True: 1}, 'いや': {False: 0, True: 1}}), ('暖', {'だん': {False: 0, True: 1}}), ('衡', {'こう': {False: 0, True: 1}}), ('塩', {'しお': {False: 0, True: 1}, 'えん': {False: 0, True: 1}}), ('対', {'たい': {False: 0, True: 3}, 'つい': {False: 0, True: 1}}), ('紅', {'べに': {False: 0, True: 1}}), ('囲', {'い': {False: 0, True: 2}}), ('氏', {'し': {False: 0, True: 1}}), ('功', {'こう': {False: 0, True: 1}}), ('位', {'い': {False: 0, True: 5}, 'くらい': {False: 0, True: 1}}), ('訳', {'やく': {False: 0, True: 2}, 'わけ': {False: 2, True: 2}}), ('義', {'ぎ': {False: 0, True: 5}}), ('奴', {'やっこ': {False: 0, True: 1}}), ('藁', {'わら': {False: 0, True: 1}}), ('憎', {'にく': {False: 0, True: 1}}), ('悔', {'かい': {False: 0, True: 1}}), ('度', {'たく': {False: 0, True: 1}, 'ど': {False: 1, True: 23}}), ('遍', {'へん': {False: 0, True: 1}}), ('虜', {'りょ': {False: 0, True: 1}}), ('履', {'り': {False: 0, True: 1}}), ('柵', {'さく': {False: 0, True: 1}}), ('全', {'ぜん': {False: 0, True: 3}}), ('揮', {'き': {False: 0, True: 1}}), ('朴', {'ぼく': {False: 0, True: 1}}), ('炎', {'ほのお': {False: 0, True: 1}}), ('い', {'い': {False: 245, True: 0}}), ('軸', {'じく': {False: 0, True: 1}}), ('そ', {'そ': {False: 1, True: 0}}), ('刃', {'は': {False: 0, True: 1}}), ('楽', {'らく': {False: 0, True: 4}, 'がく': {False: 0, True: 1}}), ('連', {'れん': {False: 0, True: 3}}), ('結', {'けつ': {False: 0, True: 2}}), ('響', {'きょう': {False: 0, True: 2}}), ('程', {'てい': {False: 0, True: 2}, 'ほど': {False: 0, True: 4}}), ('錠', {'じょう': {False: 0, True: 1}}), ('層', {'そう': {False: 0, True: 3}}), ('弟', {'だい': {False: 0, True: 1}, 'おとうと': {False: 0, True: 1}}), ('階', {'かい': {False: 0, True: 2}}), ('複', {'ふく': {False: 0, True: 1}}), ('飯', {'はん': {False: 0, True: 6}, 'めし': {False: 0, True: 1}}), ('と', {'と': {False: 8, True: 0}}), ('小', {'しょう': {False: 0, True: 3}}), ('垢', {'あか': {False: 0, True: 1}}), ('盟', {'めい': {False: 0, True: 2}}), ('ね', {'ね': {False: 1, True: 0}}), ('冊', {'さつ': {False: 0, True: 1}}), ('成', {'せい': {False: 0, True: 8}}), ('疑', {'ぎ': {False: 0, True: 1}}), ('倒', {'どう': {False: 0, True: 1}}), ('念', {'ねん': {False: 0, True: 6}}), ('尚', {'なお': {False: 0, True: 1}, 'しょう': {False: 0, True: 1}}), ('輪', {'わ': {False: 0, True: 3}, 'りん': {False: 0, True: 2}}), ('暗', {'くら': {False: 1, True: 0}}), ('髭', {'ひげ': {False: 0, True: 1}}), ('各', {'おのおの': {False: 0, True: 1}}), ('汁', {'しる': {False: 0, True: 1}}), ('落', {'らく': {False: 0, True: 4}}), ('悟', {'ご': {False: 0, True: 1}}), ('行', {'こう': {False: 0, True: 20}, 'ぎょう': {False: 0, True: 3}}), ('煙', {'けむり': {False: 0, True: 1}, 'えん': {False: 0, True: 1}}), ('題', {'だい': {False: 0, True: 8}}), ('顔', {'がお': {False: 0, True: 1}}), ('株', {'かぶ': {False: 0, True: 1}}), ('零', {'れい': {False: 0, True: 1}}), ('待', {'たい': {False: 0, True: 2}}), ('半', {'はん': {False: 0, True: 2}}), ('う', {'う': {False: 98, True: 0}}), ('机', {'つくえ': {False: 0, True: 1}}), ('推', {'すい': {False: 0, True: 1}}), ('演', {'えん': {False: 0, True: 5}}), ('密', {'みつ': {False: 0, True: 4}}), ('著', {'ちゃく': {False: 0, True: 1}}), ('修', {'しゅう': {False: 0, True: 3}}), ('科', {'か': {False: 0, True: 11}}), ('述', {'じゅつ': {False: 0, True: 2}}), ('岬', {'みさき': {False: 0, True: 1}}), ('夢', {'ゆめ': {False: 0, True: 1}}), ('案', {'あん': {False: 0, True: 5}}), ('略', {'りゃく': {False: 0, True: 3}}), ('麗', {'れい': {False: 0, True: 1}}), ('雪', {'ゆき': {False: 0, True: 1}}), ('な', {'な': {False: 4, True: 0}}), ('滞', {'たい': {False: 0, True: 2}}), ('惨', {'さん': {False: 0, True: 1}}), ('訂', {'てい': {False: 0, True: 1}}), ('割', {'かつ': {False: 0, True: 1}, 'わり': {False: 0, True: 2}}), ('閣', {'かく': {False: 0, True: 1}}), ('幣', {'へい': {False: 0, True: 2}}), ('橋', {'きょう': {False: 0, True: 1}, 'はし': {False: 0, True: 1}}), ('虹', {'にじ': {False: 0, True: 1}}), ('巻', {'まき': {False: 0, True: 2}}), ('地', {'じ': {False: 0, True: 4}, 'ち': {False: 0, True: 19}}), ('量', {'りょう': {False: 0, True: 7}}), ('聞', {'ぶん': {False: 0, True: 1}}), ('円', {'えん': {False: 0, True: 2}}), ('姓', {'せい': {False: 0, True: 1}}), ('塊', {'かたまり': {False: 0, True: 1}}), ('高', {'こう': {False: 0, True: 1}, 'たか': {False: 0, True: 1}, 'だか': {False: 0, True: 1}}), ('薦', {'せん': {False: 0, True: 1}}), ('餅', {'もち': {False: 0, True: 1}}), ('枝', {'えだ': {False: 0, True: 1}}), ('菜', {'さい': {False: 0, True: 1}}), ('棚', {'たな': {False: 0, True: 1}, 'だな': {False: 0, True: 2}}), ('提', {'てい': {False: 0, True: 1}}), ('困', {'こん': {False: 0, True: 1}}), ('仰', {'こう': {False: 0, True: 1}}), ('告', {'こく': {False: 0, True: 7}}), ('歩', {'ぽ': {False: 0, True: 2}, 'ふ': {False: 0, True: 1}, 'ほ': {False: 0, True: 2}}), ('再', {'さい': {False: 0, True: 1}}), ('盗', {'とう': {False: 0, True: 1}}), ('治', {'じ': {False: 0, True: 3}, 'ち': {False: 0, True: 1}}), ('望', {'ぼう': {False: 0, True: 9}}), ('母', {'ぼ': {False: 0, True: 4}}), ('庭', {'にわ': {False: 0, True: 1}, 'てい': {False: 0, True: 2}}), ('道', {'みち': {False: 2, True: 2}, 'どう': {False: 0, True: 9}}), ('民', {'みん': {False: 0, True: 7}}), ('恥', {'はじ': {False: 0, True: 1}}), ('犬', {'いぬ': {False: 0, True: 1}}), ('銃', {'じゅう': {False: 0, True: 1}}), ('官', {'かん': {False: 0, True: 3}}), ('濫', {'らん': {False: 0, True: 1}}), ('噂', {'うわさ': {False: 0, True: 1}}), ('師', {'し': {False: 0, True: 7}}), ('鳥', {'どり': {False: 1, True: 0}, 'とり': {False: 0, True: 2}}), ('広', {'びろ': {False: 0, True: 1}}), ('弾', {'たま': {False: 0, True: 1}, 'だん': {False: 0, True: 1}}), ('殊', {'しゅ': {False: 0, True: 1}}), ('計', {'けい': {False: 0, True: 7}}), ('谷', {'たに': {False: 0, True: 1}}), ('均', {'きん': {False: 0, True: 1}}), ('身', {'しん': {False: 0, True: 4}, 'み': {False: 0, True: 5}}), ('拝', {'はい': {False: 0, True: 1}}), ('宝', {'たから': {False: 0, True: 1}, 'ほう': {False: 0, True: 1}}), ('酢', {'す': {False: 0, True: 1}}), ('展', {'てん': {False: 0, True: 1}}), ('更', {'こう': {False: 0, True: 1}, 'さら': {False: 0, True: 2}}), ('率', {'りつ': {False: 0, True: 6}, 'そつ': {False: 0, True: 2}}), ('臣', {'じん': {False: 0, True: 2}}), ('畑', {'はたけ': {False: 0, True: 1}}), ('宛', {'あて': {False: 0, True: 1}}), ('襖', {'ふすま': {False: 0, True: 1}}), ('雲', {'くも': {False: 0, True: 1}}), ('軟', {'なん': {False: 0, True: 1}}), ('郊', {'こう': {False: 0, True: 1}}), ('私', {'わたし': {False: 0, True: 1}}), ('認', {'にん': {False: 0, True: 3}}), ('花', {'ばな': {False: 1, True: 1}, 'はな': {False: 0, True: 1}}), ('姿', {'すがた': {False: 0, True: 1}}), ('券', {'けん': {False: 0, True: 4}}), ('竹', {'たけ': {False: 0, True: 1}}), ('粥', {'かゆ': {False: 0, True: 1}}), ('鈴', {'すず': {False: 0, True: 1}}), ('圏', {'けん': {False: 0, True: 1}}), ('木', {'き': {False: 0, True: 2}, 'ぼく': {False: 0, True: 3}, 'もく': {False: 0, True: 2}}), ('り', {'り': {False: 89, True: 0}}), ('脳', {'のう': {False: 0, True: 3}}), ('富', {'ふ': {False: 0, True: 1}, 'とみ': {False: 0, True: 1}}), ('授', {'じゅ': {False: 0, True: 2}}), ('君', {'くん': {False: 0, True: 2}}), ('罰', {'ばち': {False: 0, True: 1}, 'ばつ': {False: 0, True: 2}}), ('泉', {'せん': {False: 0, True: 1}, 'いずみ': {False: 0, True: 1}}), ('都', {'と': {False: 0, True: 2}}), ('覚', {'かく': {False: 0, True: 5}}), ('墨', {'すみ': {False: 0, True: 1}}), ('檻', {'おり': {False: 0, True: 1}}), ('瞭', {'りょう': {False: 0, True: 1}}), ('益', {'えき': {False: 0, True: 3}}), ('烈', {'れつ': {False: 0, True: 2}}), ('踵', {'かかと': {False: 0, True: 1}}), ('え', {'え': {False: 15, True: 0}}), ('売', {'ばい': {False: 0, True: 4}}), ('快', {'かい': {False: 0, True: 3}}), ('淡', {'たん': {False: 0, True: 1}}), ('天', {'てん': {False: 0, True: 2}, 'あまつ': {False: 0, True: 1}}), ('住', {'じゅう': {False: 0, True: 4}}), ('放', {'ほう': {False: 0, True: 3}}), ('嘘', {'うそ': {False: 0, True: 1}}), ('櫛', {'くし': {False: 0, True: 1}}), ('禄', {'ろく': {False: 0, True: 1}}), ('気', {'げ': {False: 0, True: 1}, 'け': {False: 1, True: 0}, 'き': {False: 0, True: 26}}), ('社', {'やしろ': {False: 0, True: 1}, 'じゃ': {False: 0, True: 1}, 'しゃ': {False: 0, True: 4}}), ('培', {'ばい': {False: 0, True: 1}}), ('く', {'く': {False: 108, True: 0}}), ('酷', {'こく': {False: 0, True: 2}}), ('湾', {'わん': {False: 0, True: 1}}), ('虚', {'きょ': {False: 0, True: 1}}), ('耕', {'こう': {False: 0, True: 1}}), ('草', {'くさ': {False: 0, True: 1}}), ('頂', {'いただき': {False: 0, True: 1}}), ('泥', {'どろ': {False: 0, True: 1}}), ('頃', {'ころ': {False: 0, True: 2}, 'ごろ': {False: 1, True: 4}}), ('系', {'けい': {False: 0, True: 2}}), ('補', {'ほ': {False: 0, True: 1}}), ('袋', {'ぶくろ': {False: 0, True: 1}, 'ふくろ': {False: 0, True: 1}}), ('魂', {'こん': {False: 0, True: 1}}), ('冬', {'ふゆ': {False: 0, True: 1}}), ('こ', {'こ': {False: 2, True: 0}}), ('村', {'むら': {False: 0, True: 1}, 'そん': {False: 0, True: 2}}), ('沼', {'ぬま': {False: 0, True: 1}}), ('じ', {'じ': {False: 3, True: 0}}), ('相', {'あい': {False: 0, True: 1}, 'そう': {False: 0, True: 2}, 'しょう': {False: 0, True: 3}}), ('例', {'れい': {False: 0, True: 5}}), ('過', {'か': {False: 0, True: 3}}), ('握', {'あく': {False: 0, True: 1}}), ('由', {'ゆ': {False: 0, True: 1}, 'ゆう': {False: 0, True: 3}}), ('濁', {'だく': {False: 0, True: 1}}), ('奪', {'だつ': {False: 0, True: 1}}), ('属', {'ぞく': {False: 0, True: 4}}), ('め', {'め': {False: 12, True: 0}}), ('今', {'いま': {False: 0, True: 1}}), ('島', {'とう': {False: 0, True: 1}, 'しま': {False: 0, True: 1}}), ('管', {'くだ': {False: 0, True: 1}, 'かん': {False: 0, True: 1}}), ('耗', {'もう': {False: 0, True: 1}}), ('圧', {'あつ': {False: 0, True: 3}}), ('肉', {'にく': {False: 1, True: 5}}), ('蔭', {'かげ': {False: 1, True: 0}}), ('頼', {'らい': {False: 0, True: 2}}), ('桐', {'きり': {False: 0, True: 1}}), ('士', {'し': {False: 0, True: 6}}), ('堂', {'どう': {False: 0, True: 3}}), ('乏', {'ぼう': {False: 0, True: 3}}), ('き', {'き': {False: 39, True: 0}}), ('誘', {'ゆう': {False: 0, True: 1}}), ('省', {'せい': {False: 0, True: 1}}), ('鍵', {'かぎ': {False: 0, True: 1}}), ('名', {'めい': {False: 0, True: 8}, 'な': {False: 2, True: 5}, 'みょう': {False: 0, True: 1}}), ('災', {'さい': {False: 0, True: 3}}), ('出', {'しゅつ': {False: 0, True: 9}, 'で': {False: 2, True: 2}}), ('敬', {'けい': {False: 0, True: 1}}), ('府', {'ふ': {False: 0, True: 1}}), ('皺', {'しわ': {False: 0, True: 1}}), ('婚', {'こん': {False: 0, True: 4}}), ('ま', {'ま': {False: 3, True: 0}}), ('水', {'みず': {False: 0, True: 2}, 'ずい': {False: 0, True: 1}, 'すい': {False: 0, True: 9}}), ('効', {'こう': {False: 0, True: 2}}), ('参', {'さん': {False: 0, True: 1}}), ('技', {'ぎ': {False: 0, True: 3}, 'わざ': {False: 0, True: 1}}), ('乳', {'にゅう': {False: 0, True: 1}, 'ちち': {False: 0, True: 1}}), ('爆', {'ばく': {False: 0, True: 1}}), ('歳', {'さい': {False: 0, True: 1}, 'ざい': {False: 0, True: 1}}), ('襟', {'えり': {False: 0, True: 1}}), ('示', {'じ': {False: 0, True: 5}}), ('布', {'ぬの': {False: 0, True: 1}, 'ふ': {False: 0, True: 3}, 'ぷ': {False: 0, True: 1}}), ('命', {'めい': {False: 0, True: 7}, 'いのち': {False: 0, True: 1}, 'みょう': {False: 0, True: 1}}), ('山', {'さん': {False: 0, True: 1}, 'やま': {False: 0, True: 1}, 'ざん': {False: 0, True: 3}}), ('猿', {'さる': {False: 0, True: 1}}), ('映', {'えい': {False: 0, True: 1}}), ('群', {'ぐん': {False: 0, True: 1}}), ('繕', {'ぜん': {False: 0, True: 1}}), ('基', {'もと': {False: 0, True: 1}}), ('八', {'はち': {False: 0, True: 1}, 'やつ': {False: 1, True: 0}}), ('引', {'いん': {False: 0, True: 2}, 'びき': {False: 0, True: 3}}), ('回', {'かい': {False: 0, True: 3}}), ('読', {'どく': {False: 0, True: 3}}), ('造', {'ぞう': {False: 0, True: 6}}), ('然', {'ねん': {False: 0, True: 1}, 'ぜん': {False: 0, True: 11}}), ('宮', {'みや': {False: 1, True: 0}}), ('童', {'どう': {False: 0, True: 1}}), ('戚', {'せき': {False: 0, True: 1}}), ('米', {'こめ': {False: 0, True: 1}, 'べい': {False: 0, True: 2}}), ('鞠', {'まり': {False: 0, True: 1}}), ('緑', {'みどり': {False: 0, True: 1}}), ('農', {'のう': {False: 0, True: 1}}), ('英', {'えい': {False: 0, True: 1}}), ('護', {'ご': {False: 0, True: 5}}), ('ぐ', {'ぐ': {False: 26, True: 0}}), ('箱', {'はこ': {False: 0, True: 1}}), ('梢', {'こずえ': {False: 0, True: 1}}), ('労', {'ろう': {False: 0, True: 4}}), ('促', {'そく': {False: 0, True: 1}}), ('溝', {'こう': {False: 0, True: 1}}), ('張', {'ちょう': {False: 0, True: 4}}), ('折', {'おり': {False: 0, True: 1}}), ('革', {'かわ': {False: 1, True: 1}, 'かく': {False: 0, True: 2}}), ('変', {'へん': {False: 0, True: 2}}), ('繍', {'しゅう': {False: 0, True: 1}}), ('郡', {'ぐん': {False: 0, True: 1}}), ('俄', {'にわか': {False: 0, True: 1}}), ('蕾', {'つぼみ': {False: 0, True: 1}}), ('彩', {'さい': {False: 0, True: 1}}), ('亡', {'ぼう': {False: 0, True: 3}}), ('況', {'きょう': {False: 0, True: 3}}), ('牧', {'ぼく': {False: 0, True: 1}}), ('旧', {'きゅう': {False: 0, True: 2}}), ('峠', {'とうげ': {False: 0, True: 1}}), ('頬', {'ほほ': {False: 0, True: 1}}), ('候', {'こう': {False: 0, True: 2}}), ('劇', {'げき': {False: 0, True: 4}}), ('葉', {'ば': {False: 1, True: 1}, 'は': {False: 0, True: 1}, 'よう': {False: 0, True: 1}}), ('け', {'け': {False: 22, True: 0}}), ('何', {'なに': {False: 0, True: 1}}), ('賞', {'しょう': {False: 0, True: 4}}), ('舟', {'ふね': {False: 0, True: 1}}), ('録', {'ろく': {False: 0, True: 4}}), ('袖', {'そで': {False: 0, True: 1}}), ('於', {'お': {False: 0, True: 1}}), ('範', {'はん': {False: 0, True: 2}}), ('域', {'いき': {False: 0, True: 4}}), ('固', {'こ': {False: 0, True: 1}}), ('秒', {'びょう': {False: 0, True: 1}}), ('額', {'ひたい': {False: 0, True: 1}, 'がく': {False: 0, True: 2}}), ('去', {'こ': {False: 0, True: 1}, 'きょ': {False: 0, True: 1}}), ('病', {'びょう': {False: 0, True: 3}, 'やまい': {False: 0, True: 1}}), ('資', {'し': {False: 0, True: 2}}), ('金', {'きん': {False: 0, True: 16}, 'ぎん': {False: 0, True: 1}, 'ごん': {False: 0, True: 1}, 'がね': {False: 0, True: 1}, 'かね': {False: 1, True: 0}}), ('が', {'が': {False: 2, True: 0}}), ('段', {'だん': {False: 0, True: 5}}), ('制', {'せい': {False: 0, True: 7}}), ('異', {'い': {False: 0, True: 2}}), ('憩', {'けい': {False: 0, True: 1}}), ('獲', {'かく': {False: 0, True: 1}}), ('る', {'る': {False: 735, True: 0}}), ('見', {'げん': {False: 0, True: 1}, 'み': {False: 0, True: 2}, 'けん': {False: 0, True: 5}}), ('ぶ', {'ぶ': {False: 15, True: 0}}), ('共', {'きょう': {False: 0, True: 2}}), ('感', {'かん': {False: 0, True: 7}}), ('越', {'えつ': {False: 0, True: 1}}), ('幅', {'はば': {False: 0, True: 2}}), ('未', {'ひつじ': {False: 0, True: 1}}), ('翼', {'つばさ': {False: 0, True: 1}}), ('逆', {'ぎゃく': {False: 0, True: 1}}), ('粋', {'いき': {False: 0, True: 1}, 'すい': {False: 0, True: 1}}), ('乾', {'かん': {False: 0, True: 1}}), ('炭', {'たん': {False: 0, True: 1}}), ('妹', {'いもうと': {False: 0, True: 1}, 'まい': {False: 0, True: 1}}), ('抵', {'てい': {False: 0, True: 1}}), ('ら', {'ら': {False: 10, True: 0}}), ('説', {'ぜつ': {False: 0, True: 1}, 'せつ': {False: 0, True: 7}}), ('積', {'せき': {False: 0, True: 4}}), ('誠', {'まこと': {False: 0, True: 1}}), ('迫', {'はく': {False: 0, True: 1}}), ('衰', {'すい': {False: 0, True: 1}}), ('月', {'づき': {False: 0, True: 1}, 'げつ': {False: 1, True: 7}, 'つき': {False: 0, True: 3}}), ('職', {'しょく': {False: 0, True: 6}}), ('稚', {'ち': {False: 0, True: 1}}), ('誉', {'よ': {False: 0, True: 1}}), ('印', {'いん': {False: 0, True: 1}, 'しるし': {False: 0, True: 1}, 'じるし': {False: 0, True: 2}}), ('麓', {'ふもと': {False: 0, True: 1}}), ('勉', {'べん': {False: 0, True: 1}}), ('朝', {'あさ': {False: 0, True: 2}}), ('怯', {'きょう': {False: 0, True: 1}}), ('濯', {'たく': {False: 0, True: 1}}), ('枚', {'まい': {False: 0, True: 1}}), ('松', {'まつ': {False: 0, True: 1}}), ('盆', {'ぼん': {False: 0, True: 1}}), ('臓', {'ぞう': {False: 0, True: 2}}), ('立', {'りつ': {False: 0, True: 14}, 'だち': {False: 0, True: 1}, 'だて': {False: 0, True: 1}}), ('離', {'り': {False: 0, True: 2}}), ('当', {'とう': {False: 1, True: 10}}), ('入', {'にゅう': {False: 0, True: 12}}), ('借', {'しゃく': {False: 0, True: 1}}), ('杖', {'つえ': {False: 0, True: 1}}), ('灯', {'とう': {False: 0, True: 2}, 'ひ': {False: 0, True: 1}}), ('で', {'で': {False: 6, True: 0}}), ('祉', {'し': {False: 0, True: 1}}), ('運', {'うん': {False: 0, True: 4}}), ('火', {'び': {False: 0, True: 2}, 'か': {False: 0, True: 3}, 'ひ': {False: 0, True: 1}}), ('穂', {'ほ': {False: 0, True: 1}}), ('集', {'しゅう': {False: 0, True: 7}}), ('漠', {'ばく': {False: 0, True: 1}}), ('牛', {'うし': {False: 0, True: 1}}), ('星', {'ほし': {False: 0, True: 1}, 'せい': {False: 0, True: 3}}), ('介', {'かい': {False: 0, True: 1}}), ('百', {'ひゃく': {False: 0, True: 1}}), ('途', {'と': {False: 0, True: 3}}), ('妻', {'さい': {False: 0, True: 1}, 'つま': {False: 0, True: 1}}), ('縫', {'ほう': {False: 0, True: 1}}), ('稀', {'まれ': {False: 0, True: 1}}), ('日', {'び': {False: 0, True: 12}, 'じつ': {False: 0, True: 8}, 'にち': {False: 0, True: 6}, 'か': {False: 0, True: 8}, 'ひ': {False: 0, True: 3}}), ('養', {'よう': {False: 0, True: 5}}), ('俺', {'おれ': {False: 0, True: 1}}), ('非', {'ひ': {False: 0, True: 2}}), ('哉', {'や': {False: 0, True: 1}}), ('理', {'り': {False: 0, True: 18}}), ('娘', {'むすめ': {False: 0, True: 1}}), ('凍', {'とう': {False: 0, True: 1}}), ('良', {'りょう': {False: 0, True: 3}}), ('に', {'に': {False: 36, True: 0}}), ('買', {'ばい': {False: 0, True: 2}}), ('館', {'かん': {False: 0, True: 9}}), ('洋', {'よう': {False: 0, True: 3}}), ('針', {'しん': {False: 0, True: 1}, 'はり': {False: 0, True: 1}}), ('心', {'しん': {False: 0, True: 9}, 'ごころ': {False: 0, True: 1}, 'こころ': {False: 0, True: 2}, 'じん': {False: 0, True: 2}}), ('同', {'どう': {False: 0, True: 5}}), ('方', {'ぽう': {False: 0, True: 1}, 'がた': {False: 1, True: 1}, 'かた': {False: 1, True: 6}, 'ほう': {False: 0, True: 5}}), ('呈', {'てい': {False: 0, True: 1}}), ('問', {'もん': {False: 0, True: 5}}), ('齢', {'れい': {False: 0, True: 1}}), ('鉢', {'はち': {False: 0, True: 1}}), ('剖', {'ぼう': {False: 0, True: 1}}), ('因', {'いん': {False: 0, True: 2}}), ('冠', {'かんむり': {False: 0, True: 1}}), ('短', {'たん': {False: 0, True: 1}}), ('析', {'せき': {False: 0, True: 1}}), ('床', {'しょう': {False: 0, True: 1}, 'ゆか': {False: 0, True: 1}}), ('石', {'せき': {False: 0, True: 3}, 'しゃく': {False: 0, True: 1}, 'いし': {False: 0, True: 1}}), ('弁', {'べん': {False: 0, True: 2}}), ('区', {'く': {False: 0, True: 2}}), ('崖', {'がけ': {False: 0, True: 1}}), ('携', {'けい': {False: 0, True: 1}}), ('足', {'そく': {False: 0, True: 3}, 'ぞく': {False: 0, True: 1}, 'あし': {False: 1, True: 1}}), ('銭', {'せん': {False: 0, True: 1}, 'ぜに': {False: 0, True: 1}}), ('為', {'い': {False: 0, True: 1}, 'ため': {False: 1, True: 1}}), ('酸', {'さん': {False: 0, True: 1}}), ('奮', {'ふん': {False: 0, True: 1}}), ('さ', {'さ': {False: 3, True: 0}}), ('稍', {'やや': {False: 0, True: 1}}), ('塵', {'ごみ': {False: 0, True: 1}}), ('廷', {'てい': {False: 0, True: 1}}), ('泳', {'えい': {False: 0, True: 1}}), ('令', {'れい': {False: 0, True: 2}}), ('千', {'せん': {False: 0, True: 1}}), ('芝', {'しば': {False: 0, True: 1}}), ('滅', {'めつ': {False: 0, True: 2}}), ('緒', {'しょ': {False: 0, True: 1}}), ('隔', {'かく': {False: 0, True: 1}}), ('瞳', {'ひとみ': {False: 0, True: 1}}), ('復', {'ふく': {False: 0, True: 2}}), ('嫁', {'よめ': {False: 0, True: 2}}), ('費', {'ひ': {False: 0, True: 5}}), ('座', {'ざ': {False: 0, True: 1}}), ('構', {'こう': {False: 0, True: 1}}), ('塀', {'へい': {False: 0, True: 1}}), ('休', {'きゅう': {False: 0, True: 2}}), ('雷', {'かみなり': {False: 0, True: 1}}), ('募', {'ぼ': {False: 0, True: 2}}), ('敷', {'しき': {False: 0, True: 3}}), ('討', {'とう': {False: 0, True: 1}}), ('謡', {'よう': {False: 0, True: 2}}), ('障', {'しょう': {False: 0, True: 2}}), ('鋸', {'のこぎり': {False: 0, True: 1}}), ('干', {'ぼし': {False: 0, True: 1}}), ('序', {'じょ': {False: 0, True: 2}}), ('証', {'あかし': {False: 0, True: 1}, 'しょう': {False: 0, True: 1}}), ('塾', {'じゅく': {False: 0, True: 1}}), ('朗', {'ろう': {False: 0, True: 1}}), ('網', {'あみ': {False: 0, True: 1}}), ('婿', {'むこ': {False: 0, True: 1}}), ('諾', {'だく': {False: 0, True: 1}}), ('も', {'も': {False: 16, True: 0}}), ('兆', {'きざし': {False: 0, True: 1}}), ('面', {'めん': {False: 0, True: 13}}), ('食', {'しょく': {False: 0, True: 4}}), ('ず', {'ず': {False: 8, True: 0}}), ('件', {'くだん': {False: 0, True: 1}, 'けん': {False: 0, True: 3}}), ('ろ', {'ろ': {False: 3, True: 0}}), ('充', {'じゅう': {False: 0, True: 2}}), ('転', {'てん': {False: 0, True: 6}}), ('繁', {'ぱん': {False: 0, True: 1}}), ('占', {'せん': {False: 0, True: 1}}), ('人', {'り': {False: 0, True: 3}, 'じん': {False: 0, True: 16}, 'にん': {False: 0, True: 10}, 'びと': {False: 0, True: 1}, 'ひと': {False: 2, True: 1}}), ('維', {'い': {False: 0, True: 1}}), ('振', {'しん': {False: 0, True: 1}}), ('柄', {'がら': {False: 0, True: 6}}), ('躾', {'しつけ': {False: 0, True: 1}}), ('考', {'こう': {False: 0, True: 3}}), ('紫', {'むらさき': {False: 0, True: 1}}), ('協', {'きょう': {False: 0, True: 1}}), ('街', {'がい': {False: 0, True: 1}, 'まち': {False: 0, True: 1}}), ('孫', {'そん': {False: 0, True: 1}, 'まご': {False: 0, True: 1}}), ('左', {'ひだり': {False: 0, True: 1}}), ('捕', {'ほ': {False: 0, True: 1}}), ('標', {'ひょう': {False: 0, True: 2}}), ('軽', {'がる': {False: 0, True: 2}}), ('如', {'じょ': {False: 0, True: 1}}), ('類', {'たぐい': {False: 0, True: 1}, 'るい': {False: 0, True: 6}}), ('果', {'か': {False: 0, True: 2}}), ('膝', {'ひざ': {False: 0, True: 1}}), ('褄', {'つま': {False: 0, True: 1}}), ('青', {'あお': {False: 0, True: 1}}), ('価', {'か': {False: 0, True: 3}}), ('新', {'しん': {False: 0, True: 2}}), ('速', {'そく': {False: 0, True: 6}}), ('偖', {'さて': {False: 0, True: 1}}), ('欄', {'らん': {False: 0, True: 1}}), ('難', {'なん': {False: 0, True: 8}}), ('役', {'やく': {False: 0, True: 3}}), ('忙', {'ぼう': {False: 0, True: 1}}), ('浴', {'よく': {False: 0, True: 2}}), ('恋', {'こい': {False: 0, True: 1}, 'れん': {False: 0, True: 1}}), ('酬', {'しゅう': {False: 0, True: 1}}), ('潮', {'うしお': {False: 0, True: 1}}), ('輸', {'ゆ': {False: 0, True: 1}}), ('辞', {'じ': {False: 1, True: 1}}), ('脂', {'あぶら': {False: 0, True: 1}}), ('斜', {'しゃ': {False: 0, True: 1}}), ('稿', {'こう': {False: 0, True: 1}}), ('嵐', {'あらし': {False: 0, True: 1}}), ('錆', {'さび': {False: 0, True: 1}}), ('波', {'ぱ': {False: 0, True: 2}, 'なみ': {False: 0, True: 2}}), ('田', {'た': {False: 0, True: 1}, 'でん': {False: 0, True: 1}}), ('反', {'はん': {False: 0, True: 1}, 'たん': {False: 0, True: 1}}), ('胆', {'たん': {False: 0, True: 1}}), ('己', {'こ': {False: 0, True: 1}}), ('及', {'きゅう': {False: 0, True: 2}}), ('源', {'げん': {False: 0, True: 6}, 'みなもと': {False: 0, True: 1}}), ('設', {'せつ': {False: 0, True: 2}}), ('埃', {'ほこり': {False: 0, True: 1}}), ('勘', {'かん': {False: 0, True: 1}}), ('争', {'そう': {False: 0, True: 5}}), ('旨', {'し': {False: 0, True: 2}}), ('助', {'じょ': {False: 0, True: 4}}), ('旗', {'はた': {False: 0, True: 1}}), ('受', {'じゅ': {False: 0, True: 1}}), ('項', {'こう': {False: 0, True: 1}}), ('順', {'じゅん': {False: 0, True: 4}}), ('て', {'て': {False: 32, True: 0}}), ('笑', {'しょう': {False: 0, True: 1}}), ('外', {'がい': {False: 0, True: 11}, 'そと': {False: 0, True: 1}, 'ほか': {False: 1, True: 0}}), ('腿', {'もも': {False: 0, True: 1}}), ('物', {'もつ': {False: 0, True: 7}, 'もの': {False: 10, True: 10}, 'ぶつ': {False: 0, True: 12}}), ('壁', {'かべ': {False: 0, True: 1}}), ('路', {'ろ': {False: 0, True: 8}, 'じ': {False: 0, True: 1}}), ('光', {'こう': {False: 0, True: 1}, 'ひかり': {False: 0, True: 1}, 'びかり': {False: 0, True: 1}}), ('海', {'かい': {False: 0, True: 2}, 'うみ': {False: 0, True: 1}}), ('建', {'けん': {False: 0, True: 2}}), ('空', {'くう': {False: 0, True: 4}, 'から': {False: 0, True: 1}, 'ぞら': {False: 0, True: 1}}), ('伝', {'づて': {False: 0, True: 1}, 'でん': {False: 0, True: 1}}), ('鮮', {'せん': {False: 0, True: 1}}), ('顎', {'あご': {False: 0, True: 1}}), ('墓', {'はか': {False: 0, True: 1}}), ('便', {'べん': {False: 0, True: 3}, 'びん': {False: 0, True: 3}}), ('氷', {'こおり': {False: 0, True: 1}}), ('装', {'そう': {False: 0, True: 5}, 'しょう': {False: 0, True: 1}}), ('絶', {'ぜつ': {False: 0, True: 2}}), ('交', {'こう': {False: 0, True: 2}}), ('多', {'た': {False: 0, True: 3}}), ('井', {'い': {False: 0, True: 1}, 'じょう': {False: 0, True: 1}}), ('硬', {'こう': {False: 0, True: 1}}), ('諺', {'ことわざ': {False: 0, True: 1}}), ('胞', {'ぼう': {False: 0, True: 1}}), ('詞', {'し': {False: 0, True: 12}}), ('卵', {'たまご': {False: 0, True: 1}}), ('負', {'ぶ': {False: 0, True: 1}}), ('健', {'けん': {False: 0, True: 1}}), ('下', {'しも': {False: 0, True: 1}, 'げ': {False: 0, True: 1}, 'した': {False: 0, True: 3}, 'か': {False: 0, True: 6}}), ('駄', {'た': {False: 0, True: 1}, 'だ': {False: 0, True: 1}}), ('値', {'ね': {False: 0, True: 1}, 'ち': {False: 0, True: 1}}), ('声', {'こえ': {False: 0, True: 1}, 'せい': {False: 0, True: 1}}), ('唾', {'つば': {False: 0, True: 1}}), ('綱', {'つな': {False: 0, True: 1}, 'づな': {False: 0, True: 1}}), ('版', {'はん': {False: 0, True: 2}}), ('究', {'きゅう': {False: 0, True: 1}}), ('嘴', {'くちばし': {False: 0, True: 1}}), ('依', {'い': {False: 0, True: 1}}), ('辱', {'じょく': {False: 0, True: 1}}), ('裂', {'れつ': {False: 0, True: 2}}), ('右', {'みぎ': {False: 0, True: 1}, 'ゆう': {False: 0, True: 1}}), ('脹', {'ちょう': {False: 0, True: 1}}), ('壷', {'つぼ': {False: 0, True: 1}}), ('強', {'きょう': {False: 0, True: 3}}), ('般', {'ぱん': {False: 0, True: 1}}), ('献', {'けん': {False: 0, True: 2}}), ('仙', {'せん': {False: 0, True: 1}}), ('掃', {'そう': {False: 0, True: 1}}), ('釈', {'しゃく': {False: 0, True: 1}}), ('晩', {'ばん': {False: 0, True: 3}}), ('権', {'けん': {False: 0, True: 4}}), ('銅', {'どう': {False: 0, True: 1}}), ('鋏', {'はさみ': {False: 0, True: 1}}), ('園', {'その': {False: 0, True: 1}, 'えん': {False: 0, True: 4}}), ('怖', {'ふ': {False: 0, True: 1}}), ('特', {'とく': {False: 0, True: 1}}), ('鑑', {'かん': {False: 0, True: 3}}), ('奏', {'そう': {False: 0, True: 2}}), ('靴', {'くつ': {False: 0, True: 1}}), ('ち', {'ち': {False: 11, True: 0}}), ('雛', {'ひな': {False: 0, True: 1}}), ('語', {'ご': {False: 0, True: 14}}), ('唯', {'ただ': {False: 0, True: 1}}), ('才', {'さい': {False: 0, True: 1}}), ('辺', {'へん': {False: 0, True: 3}, 'べ': {False: 0, True: 1}}), ('霧', {'きり': {False: 0, True: 1}}), ('環', {'かん': {False: 0, True: 1}}), ('殖', {'しょく': {False: 0, True: 1}}), ('丘', {'おか': {False: 0, True: 1}}), ('無', {'む': {False: 0, True: 2}}), ('流', {'りゅう': {False: 0, True: 8}}), ('礎', {'そ': {False: 0, True: 1}}), ('書', {'がき': {False: 0, True: 1}, 'しょ': {False: 0, True: 12}}), ('惑', {'わく': {False: 0, True: 3}}), ('単', {'たん': {False: 0, True: 1}, 'ひとえ': {False: 0, True: 1}}), ('城', {'しろ': {False: 0, True: 1}}), ('守', {'す': {False: 0, True: 1}, 'しゅ': {False: 0, True: 1}}), ('誰', {'だれ': {False: 0, True: 1}}), ('碁', {'ご': {False: 0, True: 1}}), ('秋', {'あき': {False: 0, True: 1}}), ('族', {'ぞく': {False: 0, True: 3}}), ('濠', {'ほり': {False: 0, True: 1}}), ('陵', {'りょう': {False: 0, True: 1}}), ('済', {'さい': {False: 0, True: 2}, 'ざい': {False: 0, True: 1}}), ('つ', {'つ': {False: 30, True: 0}}), ('宜', {'ぎ': {False: 0, True: 2}}), ('首', {'しゅ': {False: 0, True: 3}, 'くび': {False: 0, True: 2}}), ('鼻', {'はな': {False: 0, True: 1}}), ('寝', {'ね': {False: 0, True: 1}}), ('担', {'たん': {False: 0, True: 2}}), ('謎', {'なぞ': {False: 0, True: 2}}), ('獣', {'じゅう': {False: 0, True: 1}, 'けだもの': {False: 0, True: 1}}), ('釘', {'くぎ': {False: 0, True: 1}}), ('春', {'はる': {False: 0, True: 1}, 'しゅん': {False: 0, True: 1}}), ('傘', {'かさ': {False: 0, True: 1}}), ('独', {'どく': {False: 0, True: 2}}), ('釜', {'かま': {False: 0, True: 1}}), ('伏', {'ふく': {False: 0, True: 2}}), ('東', {'ひがし': {False: 0, True: 1}, 'とう': {False: 0, True: 1}}), ('急', {'きゅう': {False: 0, True: 6}}), ('町', {'まち': {False: 0, True: 2}}), ('畜', {'ちく': {False: 0, True: 2}}), ('児', {'こ': {False: 0, True: 1}, 'じ': {False: 0, True: 3}}), ('署', {'しょ': {False: 0, True: 2}}), ('籍', {'せき': {False: 0, True: 3}}), ('猫', {'ねこ': {False: 0, True: 1}}), ('栓', {'せん': {False: 0, True: 1}}), ('託', {'たく': {False: 0, True: 1}}), ('観', {'かん': {False: 0, True: 4}}), ('燥', {'そう': {False: 0, True: 1}}), ('神', {'しん': {False: 0, True: 1}, 'かみ': {False: 0, True: 1}}), ('沢', {'たく': {False: 0, True: 2}}), ('勝', {'しょう': {False: 0, True: 1}}), ('砂', {'すな': {False: 0, True: 1}}), ('釣', {'つり': {False: 0, True: 1}}), ('掘', {'くつ': {False: 0, True: 1}}), ('偏', {'へん': {False: 0, True: 1}}), ('倍', {'ばい': {False: 0, True: 1}}), ('活', {'かつ': {False: 0, True: 1}}), ('保', {'ほ': {False: 0, True: 1}}), ('舎', {'しゃ': {False: 0, True: 1}}), ('椒', {'しょう': {False: 0, True: 1}}), ('九', {'く': {False: 0, True: 1}}), ('絹', {'きぬ': {False: 0, True: 1}}), ('森', {'もり': {False: 0, True: 1}}), ('芯', {'しん': {False: 0, True: 1}}), ('甥', {'おい': {False: 0, True: 1}}), ('碗', {'わん': {False: 0, True: 2}}), ('吉', {'きつ': {False: 0, True: 1}}), ('鉱', {'こう': {False: 0, True: 1}}), ('虎', {'とら': {False: 0, True: 1}}), ('巾', {'きん': {False: 0, True: 2}}), ('徳', {'とく': {False: 0, True: 1}}), ('供', {'きょう': {False: 0, True: 2}, 'とも': {False: 1, True: 0}, 'ども': {False: 0, True: 1}}), ('罪', {'ざい': {False: 0, True: 1}, 'つみ': {False: 0, True: 1}}), ('実', {'じつ': {False: 0, True: 9}, 'み': {False: 0, True: 1}}), ('第', {'だい': {False: 0, True: 3}}), ('夫', {'ふう': {False: 0, True: 1}, 'おっと': {False: 0, True: 1}, 'ぶ': {False: 0, True: 2}}), ('蔵', {'ぞう': {False: 0, True: 3}, 'くら': {False: 0, True: 1}}), ('四', {'よん': {False: 0, True: 1}}), ('練', {'れん': {False: 0, True: 2}}), ('眠', {'みん': {False: 0, True: 2}}), ('織', {'おり': {False: 0, True: 1}, 'しき': {False: 0, True: 1}}), ('剣', {'けん': {False: 0, True: 1}}), ('愛', {'あい': {False: 0, True: 2}}), ('境', {'ざかい': {False: 0, True: 1}, 'きょう': {False: 0, True: 1}, 'さかい': {False: 0, True: 1}}), ('棟', {'とう': {False: 0, True: 1}}), ('形', {'ぎょう': {False: 0, True: 2}, 'けい': {False: 0, True: 4}, 'かたち': {False: 0, True: 1}}), ('働', {'どう': {False: 0, True: 2}}), ('置', {'おき': {False: 0, True: 1}, 'ち': {False: 0, True: 6}}), ('退', {'たい': {False: 0, True: 3}}), ('裾', {'すそ': {False: 0, True: 1}}), ('言', {'げん': {False: 0, True: 6}, 'ごと': {False: 1, True: 1}, 'こと': {False: 0, True: 2}, 'ごん': {False: 0, True: 1}}), ('報', {'ぽう': {False: 0, True: 1}, 'ほう': {False: 0, True: 3}}), ('杯', {'さかずき': {False: 0, True: 1}, 'ぱい': {False: 0, True: 1}}), ('止', {'し': {False: 0, True: 7}}), ('眼', {'がん': {False: 0, True: 1}}), ('肌', {'はだ': {False: 0, True: 1}}), ('盤', {'ばん': {False: 0, True: 4}}), ('皮', {'がわ': {False: 0, True: 1}, 'かわ': {False: 0, True: 1}}), ('間', {'あいだ': {False: 1, True: 1}, 'げん': {False: 0, True: 1}, 'ま': {False: 3, True: 9}, 'かん': {False: 0, True: 9}, 'けん': {False: 0, True: 1}}), ('備', {'び': {False: 0, True: 8}}), ('骨', {'こつ': {False: 0, True: 1}, 'ほね': {False: 0, True: 1}}), ('摘', {'てき': {False: 0, True: 1}}), ('択', {'たく': {False: 0, True: 2}}), ('主', {'ぬし': {False: 0, True: 2}, 'しゅ': {False: 0, True: 3}}), ('椀', {'わん': {False: 0, True: 1}}), ('戸', {'と': {False: 0, True: 1}, 'ど': {False: 0, True: 2}}), ('丸', {'まる': {False: 1, True: 1}}), ('賃', {'ちん': {False: 0, True: 2}}), ('尻', {'しり': {False: 0, True: 1}}), ('匙', {'さじ': {False: 0, True: 1}}), ('正', {'せい': {False: 0, True: 7}}), ('穴', {'あな': {False: 0, True: 1}}), ('秀', {'しゅう': {False: 0, True: 1}}), ('不', {'ふ': {False: 0, True: 1}}), ('損', {'そん': {False: 0, True: 2}}), ('謝', {'しゃ': {False: 0, True: 1}}), ('丈', {'だけ': {False: 0, True: 1}, 'たけ': {False: 1, True: 0}, 'じょう': {False: 0, True: 1}}), ('表', {'おもて': {False: 0, True: 1}, 'ひょう': {False: 0, True: 4}}), ('帯', {'おび': {False: 0, True: 1}, 'たい': {False: 0, True: 7}}), ('定', {'てい': {False: 0, True: 21}, 'じょう': {False: 1, True: 2}}), ('信', {'しん': {False: 0, True: 4}}), ('換', {'かん': {False: 0, True: 2}}), ('昼', {'ひる': {False: 1, True: 1}}), ('せ', {'せ': {False: 7, True: 0}}), ('船', {'ふね': {False: 0, True: 1}, 'せん': {False: 0, True: 4}}), ('槌', {'づち': {False: 0, True: 1}}), ('上', {'うえ': {False: 1, True: 2}, 'じょう': {False: 0, True: 7}}), ('舶', {'ぱく': {False: 0, True: 1}}), ('餌', {'えさ': {False: 0, True: 1}}), ('債', {'さい': {False: 0, True: 1}}), ('赤', {'あか': {False: 0, True: 1}}), ('法', {'ぽう': {False: 0, True: 3}, 'ほう': {False: 0, True: 7}}), ('償', {'しょう': {False: 0, True: 3}}), ('械', {'かい': {False: 0, True: 2}}), ('汰', {'た': {False: 1, True: 2}}), ('封', {'ふう': {False: 0, True: 2}}), ('涙', {'なみだ': {False: 0, True: 1}}), ('限', {'げん': {False: 0, True: 5}}), ('降', {'こう': {False: 0, True: 2}}), ('税', {'ぜい': {False: 0, True: 4}}), ('平', {'へい': {False: 0, True: 3}}), ('検', {'けん': {False: 0, True: 2}}), ('字', {'じ': {False: 2, True: 10}}), ('球', {'たま': {False: 0, True: 1}, 'きゅう': {False: 0, True: 3}}), ('攻', {'こう': {False: 0, True: 1}}), ('興', {'こう': {False: 0, True: 2}, 'きょう': {False: 0, True: 1}}), ('揺', {'よう': {False: 0, True: 1}}), ('号', {'ごう': {False: 0, True: 6}}), ('京', {'きょう': {False: 0, True: 2}}), ('沖', {'おき': {False: 0, True: 1}}), ('豪', {'ごう': {False: 0, True: 1}}), ('池', {'いけ': {False: 0, True: 1}, 'ち': {False: 0, True: 2}}), ('啓', {'けい': {False: 0, True: 1}}), ('司', {'し': {False: 0, True: 1}}), ('鼠', {'ねずみ': {False: 0, True: 1}}), ('彙', {'い': {False: 0, True: 1}}), ('根', {'こん': {False: 0, True: 2}, 'ね': {False: 0, True: 4}}), ('大', {'だい': {False: 0, True: 11}}), ('れ', {'れ': {False: 26, True: 0}}), ('州', {'す': {False: 0, True: 1}}), ('魔', {'ま': {False: 0, True: 2}}), ('六', {'ろく': {False: 0, True: 1}}), ('停', {'てい': {False: 0, True: 1}}), ('紙', {'かみ': {False: 0, True: 1}, 'し': {False: 0, True: 2}, 'がみ': {False: 1, True: 2}}), ('傾', {'けい': {False: 0, True: 1}}), ('材', {'ざい': {False: 0, True: 5}}), ('酔', {'すい': {False: 0, True: 1}}), ('鼾', {'いびき': {False: 0, True: 1}}), ('輩', {'はい': {False: 0, True: 1}, 'ぱい': {False: 0, True: 1}}), ('吸', {'きゅう': {False: 0, True: 1}}), ('舞', {'まい': {False: 0, True: 2}}), ('枠', {'わく': {False: 0, True: 1}}), ('留', {'りゅう': {False: 0, True: 1}}), ('毛', {'け': {False: 1, True: 1}, 'もう': {False: 0, True: 1}}), ('点', {'てん': {False: 0, True: 21}}), ('嘩', {'か': {False: 0, True: 1}}), ('古', {'こ': {False: 0, True: 2}}), ('没', {'ぼつ': {False: 0, True: 1}}), ('互', {'ご': {False: 0, True: 2}}), ('柱', {'はしら': {False: 0, True: 1}, 'ちゅう': {False: 0, True: 1}}), ('獄', {'ごく': {False: 0, True: 1}}), ('嚏', {'くしゃみ': {False: 0, True: 1}}), ('険', {'けん': {False: 0, True: 3}}), ('奥', {'おく': {False: 0, True: 1}}), ('慢', {'まん': {False: 0, True: 3}}), ('巧', {'こう': {False: 0, True: 1}}), ('胴', {'どう': {False: 0, True: 1}}), ('慣', {'かん': {False: 0, True: 1}}), ('意', {'い': {False: 0, True: 11}}), ('家', {'や': {False: 0, True: 2}, 'いえ': {False: 0, True: 1}, 'か': {False: 0, True: 3}}), ('史', {'し': {False: 0, True: 2}}), ('息', {'いき': {False: 0, True: 3}, 'そく': {False: 0, True: 4}}), ('兎', {'うさぎ': {False: 0, True: 1}}), ('指', {'ゆび': {False: 0, True: 6}}), ('校', {'こう': {False: 0, True: 5}}), ('生', {'なま': {False: 0, True: 1}, 'しょう': {False: 0, True: 1}, 'じょう': {False: 0, True: 1}, 'せい': {False: 0, True: 13}}), ('仲', {'なか': {False: 0, True: 1}}), ('径', {'けい': {False: 0, True: 1}}), ('茎', {'くき': {False: 0, True: 1}}), ('務', {'む': {False: 0, True: 9}}), ('岸', {'がん': {False: 0, True: 2}, 'きし': {False: 0, True: 1}}), ('動', {'どう': {False: 0, True: 12}}), ('燭', {'そく': {False: 0, True: 1}}), ('常', {'じょう': {False: 0, True: 6}}), ('繊', {'せん': {False: 0, True: 1}}), ('雨', {'う': {False: 0, True: 1}, 'あめ': {False: 0, True: 1}}), ('粉', {'こな': {False: 0, True: 1}, 'ふん': {False: 0, True: 1}}), ('嘸', {'さぞ': {False: 0, True: 1}}), ('畳', {'たたみ': {False: 0, True: 1}}), ('有', {'ゆう': {False: 0, True: 4}}), ('痺', {'ひ': {False: 0, True: 1}}), ('祭', {'まつり': {False: 0, True: 1}}), ('恩', {'おん': {False: 0, True: 1}}), ('三', {'さん': {False: 0, True: 2}}), ('持', {'じ': {False: 0, True: 3}}), ('び', {'び': {False: 8, True: 0}}), ('容', {'よう': {False: 0, True: 5}}), ('央', {'おう': {False: 0, True: 1}}), ('午', {'ご': {False: 0, True: 1}}), ('欺', {'ぎ': {False: 0, True: 1}}), ('ぬ', {'ぬ': {False: 1, True: 0}}), ('河', {'が': {False: 0, True: 1}, 'かわ': {False: 0, True: 1}}), ('羽', {'はね': {False: 0, True: 1}}), ('術', {'じゅつ': {False: 0, True: 6}}), ('器', {'うつわ': {False: 0, True: 1}, 'き': {False: 0, True: 9}}), ('徴', {'ちょう': {False: 0, True: 2}}), ('直', {'ちょく': {False: 0, True: 2}, 'なお': {False: 0, True: 1}, 'じき': {False: 0, True: 1}}), ('げ', {'げ': {False: 2, True: 0}}), ('泊', {'はく': {False: 0, True: 2}}), ('飾', {'しょく': {False: 0, True: 2}}), ('呂', {'ろ': {False: 1, True: 1}}), ('俵', {'ひょう': {False: 0, True: 1}}), ('場', {'ば': {False: 1, True: 10}, 'じょう': {False: 0, True: 12}}), ('晴', {'せい': {False: 0, True: 1}}), ('尿', {'にょう': {False: 0, True: 2}}), ('利', {'り': {False: 0, True: 6}}), ('与', {'よ': {False: 0, True: 3}}), ('走', {'そう': {False: 1, True: 2}}), ('詰', {'づめ': {False: 0, True: 2}}), ('味', {'み': {False: 0, True: 10}, 'あじ': {False: 0, True: 1}}), ('線', {'せん': {False: 0, True: 15}}), ('紺', {'こん': {False: 0, True: 1}}), ('服', {'ぷく': {False: 0, True: 1}, 'ふく': {False: 0, True: 8}}), ('ば', {'ば': {False: 3, True: 0}}), ('約', {'やく': {False: 0, True: 9}}), ('軍', {'ぐん': {False: 0, True: 1}}), ('性', {'せい': {False: 0, True: 10}}), ('譜', {'ふ': {False: 0, True: 1}}), ('潔', {'けつ': {False: 0, True: 3}}), ('似', {'じ': {False: 0, True: 1}}), ('営', {'えい': {False: 0, True: 2}}), ('帳', {'ちょう': {False: 0, True: 2}, 'とばり': {False: 0, True: 1}}), ('敗', {'はい': {False: 0, True: 2}}), ('歎', {'たん': {False: 0, True: 1}}), ('来', {'らい': {False: 0, True: 10}}), ('評', {'ひょう': {False: 0, True: 4}}), ('節', {'ふし': {False: 0, True: 1}, 'せつ': {False: 0, True: 2}}), ('奢', {'しゃ': {False: 0, True: 1}}), ('愁', {'しゅう': {False: 0, True: 1}}), ('扉', {'とびら': {False: 0, True: 1}}), ('談', {'だん': {False: 0, True: 6}}), ('席', {'せき': {False: 0, True: 4}}), ('色', {'しょく': {False: 0, True: 3}, 'いろ': {False: 0, True: 5}}), ('客', {'かく': {False: 0, True: 1}, 'きゃく': {False: 0, True: 3}}), ('句', {'く': {False: 0, True: 5}}), ('聖', {'せい': {False: 0, True: 1}}), ('御', {'お': {False: 0, True: 1}}), ('典', {'てん': {False: 0, True: 3}}), ('ん', {'ん': {False: 9, True: 0}}), ('支', {'し': {False: 0, True: 1}}), ('個', {'か': {False: 0, True: 1}}), ('艦', {'かん': {False: 0, True: 1}}), ('周', {'しゅう': {False: 0, True: 2}}), ('恵', {'けい': {False: 0, True: 1}, 'え': {False: 0, True: 1}}), ('み', {'み': {False: 30, True: 0}}), ('穫', {'かく': {False: 0, True: 1}}), ('遜', {'そん': {False: 0, True: 1}}), ('血', {'けつ': {False: 0, True: 2}, 'ち': {False: 0, True: 1}}), ('育', {'いく': {False: 0, True: 6}}), ('者', {'じゃ': {False: 0, True: 2}, 'もの': {False: 0, True: 2}, 'しゃ': {False: 0, True: 12}}), ('眉', {'まゆ': {False: 0, True: 1}}), ('衆', {'しゅう': {False: 0, True: 4}}), ('万', {'まん': {False: 0, True: 1}}), ('貝', {'かい': {False: 0, True: 1}}), ('碑', {'いしぶみ': {False: 0, True: 1}}), ('芽', {'が': {False: 0, True: 1}, 'め': {False: 0, True: 1}}), ('瓦', {'が': {False: 0, True: 1}, 'かわら': {False: 0, True: 1}}), ('腕', {'うで': {False: 0, True: 1}}), ('抗', {'こう': {False: 0, True: 3}}), ('影', {'かげ': {False: 0, True: 1}, 'えい': {False: 0, True: 1}}), ('侍', {'さむらい': {False: 0, True: 1}}), ('卓', {'たく': {False: 0, True: 1}}), ('癌', {'がん': {False: 0, True: 1}}), ('痴', {'ち': {False: 0, True: 1}}), ('喉', {'のど': {False: 0, True: 1}}), ('模', {'ぼ': {False: 0, True: 1}}), ('男', {'おとこ': {False: 0, True: 1}, 'なん': {False: 0, True: 1}}), ('請', {'せい': {False: 0, True: 2}}), ('型', {'けい': {False: 0, True: 2}, 'かた': {False: 0, True: 1}}), ('寧', {'ねい': {False: 0, True: 1}}), ('白', {'はく': {False: 0, True: 1}, 'しろ': {False: 1, True: 1}}), ('坊', {'ぼう': {False: 1, True: 2}}), ('跡', {'せき': {False: 0, True: 2}, 'あと': {False: 0, True: 2}}), ('一', {'いつ': {False: 0, True: 4}, 'いち': {False: 0, True: 3}}), ('答', {'とう': {False: 0, True: 3}, 'こたえ': {False: 0, True: 1}, 'どう': {False: 0, True: 1}}), ('較', {'かく': {False: 0, True: 1}}), ('視', {'し': {False: 0, True: 4}}), ('飩', {'どん': {False: 0, True: 1}}), ('五', {'ご': {False: 0, True: 1}}), ('札', {'ふだ': {False: 0, True: 1}, 'さつ': {False: 0, True: 2}}), ('剰', {'じょう': {False: 0, True: 1}}), ('調', {'ちょう': {False: 0, True: 7}}), ('か', {'か': {False: 28, True: 0}}), ('好', {'こう': {False: 0, True: 3}}), ('髪', {'かみ': {False: 0, True: 1}}), ('敢', {'かん': {False: 0, True: 1}}), ('画', {'が': {False: 0, True: 4}, 'かく': {False: 0, True: 4}}), ('糖', {'とう': {False: 0, True: 1}}), ('重', {'じゅう': {False: 0, True: 2}, 'ちょう': {False: 0, True: 3}, 'え': {False: 0, True: 1}}), ('始', {'し': {False: 0, True: 3}}), ('前', {'ぜん': {False: 0, True: 4}, 'まえ': {False: 2, True: 5}}), ('陸', {'りく': {False: 0, True: 5}}), ('力', {'ちから': {False: 0, True: 1}, 'りょく': {False: 0, True: 26}}), ('級', {'きゅう': {False: 0, True: 7}}), ('陰', {'かげ': {False: 0, True: 2}}), ('関', {'かん': {False: 0, True: 4}}), ('質', {'しつ': {False: 0, True: 8}, 'じち': {False: 0, True: 1}}), ('枕', {'まくら': {False: 0, True: 1}}), ('徒', {'と': {False: 0, True: 1}}), ('糊', {'のり': {False: 0, True: 1}}), ('た', {'た': {False: 3, True: 0}}), ('頭', {'あたま': {False: 0, True: 1}, 'とう': {False: 0, True: 4}}), ('年', {'ねん': {False: 1, True: 11}, 'とし': {False: 0, True: 3}, 'どし': {False: 1, True: 0}}), ('尾', {'お': {False: 0, True: 1}}), ('刑', {'けい': {False: 0, True: 2}}), ('薬', {'くすり': {False: 0, True: 1}, 'やく': {False: 0, True: 1}}), ('純', {'じゅん': {False: 0, True: 2}}), ('班', {'はん': {False: 0, True: 1}}), ('注', {'ちゅう': {False: 0, True: 1}}), ('体', {'たい': {False: 0, True: 18}, 'からだ': {False: 0, True: 1}}), ('極', {'きょく': {False: 0, True: 4}}), ('茶', {'ちゃ': {False: 2, True: 4}}), ('し', {'し': {False: 32, True: 0}}), ('近', {'きん': {False: 0, True: 2}, 'ぢか': {False: 0, True: 2}}), ('票', {'ひょう': {False: 0, True: 2}}), ('減', {'げん': {False: 1, True: 4}}), ('華', {'か': {False: 0, True: 1}}), ('市', {'し': {False: 0, True: 2}}), ('儀', {'ぎ': {False: 0, True: 3}}), ('代', {'だい': {False: 0, True: 7}, 'しろ': {False: 0, True: 1}}), ('測', {'そく': {False: 0, True: 3}}), ('ど', {'ど': {False: 1, True: 0}}), ('弓', {'ゆみ': {False: 0, True: 1}}), ('団', {'とん': {False: 0, True: 2}, 'だん': {False: 0, True: 3}}), ('堀', {'ほり': {False: 0, True: 1}}), ('ぽ', {'ぽ': {False: 1, True: 0}}), ('易', {'い': {False: 0, True: 3}, 'えき': {False: 0, True: 3}}), ('情', {'じょう': {False: 0, True: 12}}), ('隊', {'たい': {False: 0, True: 2}}), ('組', {'くみ': {False: 0, True: 1}, 'ぐみ': {False: 0, True: 1}}), ('底', {'そこ': {False: 0, True: 1}, 'てい': {False: 0, True: 2}}), ('油', {'ゆ': {False: 0, True: 4}, 'あぶら': {False: 0, True: 1}}), ('課', {'か': {False: 0, True: 1}}), ('別', {'べつ': {False: 0, True: 9}}), ('姉', {'あね': {False: 0, True: 1}}), ('桁', {'けた': {False: 0, True: 1}}), ('雌', {'めす': {False: 0, True: 1}}), ('弱', {'じゃく': {False: 0, True: 3}}), ('親', {'しん': {False: 0, True: 2}, 'おや': {False: 0, True: 3}}), ('岩', {'いわ': {False: 0, True: 1}, 'がん': {False: 0, True: 1}}), ('滝', {'たき': {False: 0, True: 1}}), ('璧', {'ぺき': {False: 0, True: 1}}), ('増', {'ぞう': {False: 0, True: 1}}), ('合', {'ごう': {False: 0, True: 11}, 'あい': {False: 0, True: 5}}), ('索', {'さく': {False: 0, True: 2}}), ('仕', {'じ': {False: 0, True: 1}, 'し': {False: 0, True: 1}}), ('刻', {'こく': {False: 0, True: 4}}), ('壇', {'だん': {False: 0, True: 2}}), ('格', {'かく': {False: 0, True: 10}}), ('枢', {'すう': {False: 0, True: 1}}), ('曜', {'よう': {False: 0, True: 7}}), ('渉', {'しょう': {False: 0, True: 2}}), ('次', {'じ': {False: 0, True: 1}, 'つぎ': {False: 0, True: 1}}), ('機', {'はた': {False: 0, True: 1}, 'き': {False: 1, True: 6}}), ('肩', {'かた': {False: 0, True: 1}}), ('症', {'しょう': {False: 0, True: 1}}), ('政', {'せい': {False: 0, True: 2}}), ('鳴', {'めい': {False: 0, True: 2}}), ('岳', {'がく': {False: 0, True: 1}}), ('俗', {'ぞく': {False: 0, True: 2}}), ('暦', {'れき': {False: 0, True: 2}, 'こよみ': {False: 0, True: 1}}), ('融', {'ゆう': {False: 0, True: 1}}), ('写', {'しゃ': {False: 0, True: 3}}), ('挙', {'きょ': {False: 0, True: 1}}), ('存', {'ぞん': {False: 0, True: 2}, 'そん': {False: 0, True: 2}}), ('雄', {'おす': {False: 0, True: 1}, 'ゆう': {False: 0, True: 1}}), ('憶', {'おく': {False: 0, True: 1}}), ('凹', {'ぼこ': {False: 0, True: 1}}), ('七', {'なな': {False: 0, True: 1}}), ('射', {'しゃ': {False: 0, True: 3}}), ('様', {'さま': {False: 1, True: 4}, 'よう': {False: 0, True: 6}}), ('美', {'び': {False: 0, True: 5}}), ('禅', {'ぜん': {False: 0, True: 1}}), ('員', {'いん': {False: 0, True: 15}}), ('妙', {'みょう': {False: 0, True: 4}}), ('縄', {'なわ': {False: 0, True: 1}}), ('隣', {'となり': {False: 0, True: 1}}), ('庫', {'こ': {False: 0, True: 5}}), ('和', {'わ': {False: 0, True: 10}}), ('列', {'れつ': {False: 0, True: 6}}), ('殿', {'でん': {False: 0, True: 3}}), ('照', {'しょう': {False: 0, True: 2}}), ('思', {'し': {False: 0, True: 1}}), ('縞', {'しま': {False: 0, True: 1}}), ('幕', {'まく': {False: 0, True: 1}}), ('綿', {'わた': {False: 0, True: 2}}), ('替', {'がえ': {False: 0, True: 1}, 'たい': {False: 0, True: 1}}), ('箇', {'こ': {False: 0, True: 1}}), ('続', {'ぞく': {False: 0, True: 6}}), ('自', {'じ': {False: 0, True: 2}}), ('十', {'とお': {False: 0, True: 1}}), ('処', {'しょ': {False: 0, True: 1}}), ('統', {'とう': {False: 0, True: 2}}), ('糸', {'いと': {False: 0, True: 2}}), ('目', {'もく': {False: 0, True: 6}, 'め': {False: 3, True: 6}, 'ぼく': {False: 0, True: 1}}), ('門', {'もん': {False: 0, True: 3}}), ('経', {'けい': {False: 0, True: 1}}), ('嬢', {'じょう': {False: 0, True: 1}}), ('峡', {'きょう': {False: 0, True: 1}}), ('屈', {'くつ': {False: 0, True: 3}}), ('腸', {'ちょう': {False: 0, True: 1}}), ('闇', {'やみ': {False: 0, True: 1}}), ('長', {'ちょう': {False: 0, True: 11}, 'おさ': {False: 0, True: 1}}), ('笥', {'す': {False: 0, True: 1}}), ('紀', {'き': {False: 0, True: 1}}), ('股', {'また': {False: 0, True: 1}}), ('核', {'かく': {False: 0, True: 1}}), ('紐', {'ひも': {False: 0, True: 1}}), ('膳', {'ぜん': {False: 0, True: 1}}), ('裁', {'さい': {False: 0, True: 3}}), ('鉛', {'なまり': {False: 0, True: 1}}), ('膚', {'ふ': {False: 0, True: 1}}), ('尉', {'じょう': {False: 0, True: 1}}), ('音', {'おん': {False: 0, True: 5}, 'ね': {False: 0, True: 1}, 'おと': {False: 0, True: 2}}), ('部', {'ぶ': {False: 0, True: 10}}), ('達', {'たつ': {False: 0, True: 5}, 'だち': {False: 0, True: 1}}), ('土', {'つち': {False: 0, True: 1}, 'ど': {False: 0, True: 3}}), ('秤', {'はかり': {False: 0, True: 1}}), ('庁', {'ちょう': {False: 0, True: 3}}), ('払', {'はらい': {False: 0, True: 1}}), ('の', {'の': {False: 3, True: 0}}), ('鯨', {'げい': {False: 0, True: 1}}), ('種', {'しゅ': {False: 0, True: 3}, 'たね': {False: 0, True: 1}}), ('手', {'で': {False: 0, True: 1}, 'しゅ': {False: 0, True: 8}, 'て': {False: 1, True: 4}, 'ず': {False: 0, True: 1}}), ('殻', {'から': {False: 0, True: 1}, 'がら': {False: 0, True: 1}}), ('だ', {'だ': {False: 2, True: 0}}), ('剤', {'ざい': {False: 0, True: 1}}), ('鐘', {'がね': {False: 0, True: 1}, 'かね': {False: 0, True: 1}}), ('世', {'よ': {False: 0, True: 1}, 'せい': {False: 0, True: 1}}), ('腹', {'ぷく': {False: 0, True: 1}, 'ふく': {False: 0, True: 1}, 'はら': {False: 0, True: 1}}), ('識', {'しき': {False: 0, True: 6}}), ('僕', {'ぼく': {False: 0, True: 1}}), ('車', {'ぐるま': {False: 0, True: 2}, 'くるま': {False: 0, True: 1}, 'しゃ': {False: 0, True: 9}}), ('盾', {'じゅん': {False: 0, True: 1}, 'たて': {False: 0, True: 1}}), ('熱', {'ねつ': {False: 0, True: 3}}), ('絵', {'え': {False: 0, True: 2}}), ('付', {'づけ': {False: 0, True: 1}, 'つけ': {False: 0, True: 1}, 'ふ': {False: 0, True: 2}}), ('液', {'えき': {False: 0, True: 3}}), ('艶', {'つや': {False: 0, True: 1}}), ('可', {'か': {False: 0, True: 2}}), ('求', {'きゅう': {False: 0, True: 2}}), ('催', {'さい': {False: 0, True: 2}}), ('縛', {'ばく': {False: 0, True: 1}}), ('継', {'けい': {False: 0, True: 1}}), ('郷', {'きょう': {False: 0, True: 1}}), ('戦', {'せん': {False: 0, True: 5}, 'いくさ': {False: 0, True: 1}}), ('口', {'こう': {False: 0, True: 4}, 'ぐち': {False: 1, True: 6}, 'くち': {False: 0, True: 5}}), ('痢', {'り': {False: 0, True: 1}}), ('麻', {'あさ': {False: 0, True: 1}}), ('遠', {'えん': {False: 0, True: 1}}), ('や', {'や': {False: 1, True: 0}}), ('旬', {'じゅん': {False: 0, True: 4}}), ('二', {'に': {False: 0, True: 1}}), ('倣', {'ほう': {False: 0, True: 2}}), ('時', {'じ': {False: 0, True: 5}, 'とき': {False: 0, True: 1}}), ('論', {'ろん': {False: 0, True: 12}}), ('凡', {'ぼん': {False: 0, True: 1}}), ('党', {'とう': {False: 0, True: 4}}), ('銀', {'ぎん': {False: 0, True: 1}}), ('導', {'どう': {False: 0, True: 3}}), ('ぎ', {'ぎ': {False: 5, True: 0}}), ('誤', {'ご': {False: 0, True: 1}}), ('億', {'おく': {False: 0, True: 1}}), ('話', {'わ': {False: 0, True: 6}, 'はなし': {False: 0, True: 1}}), ('療', {'りょう': {False: 0, True: 3}}), ('琴', {'こと': {False: 0, True: 1}}), ('判', {'はん': {False: 0, True: 1}, 'ばん': {False: 0, True: 3}, 'ぱん': {False: 0, True: 1}}), ('派', {'は': {False: 0, True: 2}}), ('屡', {'しばしば': {False: 0, True: 1}}), ('皆', {'みな': {False: 0, True: 1}}), ('刷', {'さつ': {False: 0, True: 1}}), ('図', {'と': {False: 0, True: 2}, 'ず': {False: 0, True: 4}}), ('洗', {'せん': {False: 0, True: 1}}), ('昇', {'しょう': {False: 0, True: 1}}), ('臍', {'へそ': {False: 0, True: 1}}), ('昔', {'むかし': {False: 0, True: 1}}), ('向', {'こう': {False: 0, True: 5}}), ('欠', {'けつ': {False: 0, True: 1}}), ('除', {'じ': {False: 0, True: 1}, 'じょ': {False: 0, True: 5}}), ('幸', {'こう': {False: 0, True: 1}}), ('邦', {'ぽう': {False: 0, True: 1}}), ('峰', {'みね': {False: 0, True: 1}}), ('品', {'じな': {False: 0, True: 1}, 'ひん': {False: 0, True: 14}}), ('勢', {'ぜい': {False: 0, True: 1}, 'せい': {False: 0, True: 5}}), ('操', {'そう': {False: 0, True: 1}}), ('饉', {'きん': {False: 0, True: 1}}), ('蜜', {'みつ': {False: 0, True: 2}}), ('満', {'まん': {False: 0, True: 3}}), ('陽', {'よう': {False: 0, True: 1}}), ('選', {'せん': {False: 0, True: 2}}), ('配', {'はい': {False: 0, True: 3}, 'ぱい': {False: 0, True: 2}}), ('壊', {'かい': {False: 0, True: 2}}), ('梅', {'うめ': {False: 0, True: 1}}), ('章', {'しょう': {False: 0, True: 2}}), ('貨', {'か': {False: 0, True: 4}}), ('寺', {'てら': {False: 0, True: 1}}), ('稲', {'いね': {False: 0, True: 1}}), ('糧', {'りょう': {False: 0, True: 1}}), ('抜', {'ばつ': {False: 0, True: 1}}), ('宅', {'たく': {False: 1, True: 5}}), ('蓋', {'ぶた': {False: 0, True: 1}, 'ふた': {False: 0, True: 1}}), ('吏', {'り': {False: 0, True: 2}}), ('係', {'けい': {False: 0, True: 1}, 'かかり': {False: 0, True: 1}}), ('慨', {'がい': {False: 0, True: 2}}), ('状', {'じょう': {False: 0, True: 4}}), ('む', {'む': {False: 92, True: 0}}), ('娠', {'しん': {False: 0, True: 1}}), ('康', {'こう': {False: 0, True: 1}}), ('粒', {'つぶ': {False: 0, True: 1}}), ('事', {'じ': {False: 0, True: 19}, 'ごと': {False: 0, True: 4}, 'こと': {False: 0, True: 1}}), ('棋', {'ぎ': {False: 0, True: 1}}), ('悪', {'あく': {False: 0, True: 2}, 'わる': {False: 0, True: 1}}), ('屑', {'くず': {False: 0, True: 2}}), ('居', {'い': {False: 0, True: 2}, 'きょ': {False: 0, True: 5}}), ('失', {'しつ': {False: 0, True: 3}}), ('拳', {'けん': {False: 1, True: 0}}), ('飴', {'あめ': {False: 0, True: 1}}), ('浜', {'はま': {False: 0, True: 1}}), ('否', {'ひ': {False: 0, True: 1}, 'いや': {False: 0, True: 1}}), ('曲', {'きょく': {False: 0, True: 3}}), ('渦', {'うず': {False: 0, True: 1}}), ('戒', {'かい': {False: 0, True: 1}}), ('焼', {'しょう': {False: 0, True: 1}}), ('元', {'げん': {False: 0, True: 1}, 'もと': {False: 0, True: 3}}), ('只', {'ただ': {False: 0, True: 1}}), ('房', {'ぼう': {False: 0, True: 3}}), ('査', {'さ': {False: 0, True: 5}}), ('知', {'ち': {False: 0, True: 5}}), ('諸', {'しょ': {False: 0, True: 1}}), ('編', {'ぺん': {False: 0, True: 1}, 'へん': {False: 0, True: 2}}), ('甲', {'きのえ': {False: 0, True: 1}}), ('滴', {'てき': {False: 0, True: 1}}), ('築', {'ちく': {False: 0, True: 2}}), ('蝶', {'ちょう': {False: 0, True: 1}}), ('伐', {'ばつ': {False: 0, True: 1}}), ('傷', {'きず': {False: 0, True: 1}, 'しょう': {False: 0, True: 3}}), ('ム', {'ム': {False: 1, True: 0}}), ('則', {'そく': {False: 0, True: 4}}), ('脈', {'みゃく': {False: 0, True: 3}}), ('援', {'えん': {False: 0, True: 2}}), ('的', {'てき': {False: 0, True: 7}, 'まと': {False: 0, True: 1}}), ('又', {'また': {False: 0, True: 1}}), ('触', {'しょく': {False: 0, True: 1}}), ('匹', {'ひき': {False: 0, True: 1}}), ('皿', {'ざら': {False: 0, True: 1}, 'さら': {False: 1, True: 1}}), ('腰', {'こし': {False: 0, True: 1}}), ('少', {'しょう': {False: 0, True: 2}}), ('秘', {'ぴ': {False: 0, True: 1}}), ('賀', {'が': {False: 0, True: 1}}), ('兄', {'あに': {False: 0, True: 1}}), ('玉', {'たま': {False: 0, True: 1}}), ('番', {'ばん': {False: 0, True: 7}}), ('散', {'さん': {False: 0, True: 3}}), ('通', {'つう': {False: 0, True: 8}}), ('虫', {'むし': {False: 0, True: 1}, 'ちゅう': {False: 0, True: 1}}), ('礼', {'れい': {False: 1, True: 2}}), ('接', {'せつ': {False: 0, True: 4}}), ('本', {'ぽん': {False: 0, True: 1}, 'ほん': {False: 0, True: 8}}), ('卯', {'ぼう': {False: 0, True: 1}}), ('局', {'きょく': {False: 0, True: 2}}), ('駅', {'えき': {False: 0, True: 1}}), ('収', {'しゅう': {False: 0, True: 4}}), ('優', {'ゆう': {False: 0, True: 2}, 'やさ': {False: 0, True: 1}}), ('潤', {'じゅん': {False: 0, True: 1}}), ('板', {'ばん': {False: 0, True: 2}, 'いた': {False: 0, True: 1}}), ('縁', {'ふち': {False: 0, True: 1}}), ('筒', {'とう': {False: 0, True: 2}, 'つつ': {False: 0, True: 1}}), ('矢', {'や': {False: 0, True: 1}}), ('ぱ', {'ぱ': {False: 2, True: 0}}), ('或', {'ある': {False: 0, True: 1}}), ('桜', {'さくら': {False: 0, True: 1}}), ('寄', {'より': {False: 0, True: 1}}), ('胸', {'むね': {False: 0, True: 1}}), ('教', {'きょう': {False: 0, True: 2}}), ('噌', {'そ': {False: 0, True: 1}}), ('講', {'こう': {False: 0, True: 2}}), ('迎', {'げい': {False: 0, True: 1}}), ('脇', {'わき': {False: 0, True: 1}}), ('夜', {'や': {False: 0, True: 4}, 'よ': {False: 0, True: 1}}), ('竿', {'さお': {False: 0, True: 1}}), ('使', {'し': {False: 0, True: 1}}), ('縮', {'しゅく': {False: 0, True: 2}}), ('給', {'きゅう': {False: 0, True: 4}}), ('進', {'しん': {False: 0, True: 6}}), ('丼', {'どんぶり': {False: 0, True: 1}}), ('際', {'ぎわ': {False: 0, True: 1}, 'さい': {False: 0, True: 3}}), ('在', {'ざい': {False: 0, True: 7}}), ('店', {'てん': {False: 0, True: 5}, 'みせ': {False: 0, True: 1}}), ('港', {'こう': {False: 0, True: 1}, 'みなと': {False: 0, True: 1}}), ('雫', {'しずく': {False: 0, True: 1}}), ('了', {'りょう': {False: 0, True: 4}}), ('牲', {'せい': {False: 0, True: 1}}), ('習', {'しゅう': {False: 0, True: 10}}), ('審', {'しん': {False: 0, True: 1}}), ('会', {'かい': {False: 0, True: 18}}), ('棄', {'き': {False: 0, True: 3}}), ('産', {'さん': {False: 1, True: 14}}), ('佚', {'いつ': {False: 0, True: 1}}), ('横', {'よこ': {False: 0, True: 1}}), ('霊', {'れい': {False: 0, True: 1}}), ('犯', {'はん': {False: 0, True: 1}}), ('具', {'ぐ': {False: 1, True: 7}}), ('致', {'ち': {False: 0, True: 2}}), ('績', {'せき': {False: 0, True: 4}}), ('缶', {'かん': {False: 0, True: 1}}), ('彼', {'かれ': {False: 0, True: 1}}), ('趣', {'おもむき': {False: 0, True: 1}}), ('昧', {'まい': {False: 0, True: 1}}), ('軒', {'のき': {False: 0, True: 1}}), ('滑', {'かつ': {False: 0, True: 1}}), ('製', {'せい': {False: 0, True: 2}}), ('訓', {'くん': {False: 0, True: 2}}), ('々', {'とう': {False: 0, True: 1}, 'ま': {False: 0, True: 1}, 'しょう': {False: 0, True: 1}, 'わざ': {False: 0, True: 1}, 'び': {False: 0, True: 1}, 'じゅん': {False: 0, True: 1}, 'まる': {False: 0, True: 1}, 'べつ': {False: 0, True: 1}, 'たび': {False: 0, True: 1}, 'もと': {False: 0, True: 1}, 'いち': {False: 0, True: 1}, 'ゆう': {False: 0, True: 1}, 'だん': {False: 0, True: 1}, 'ちゃく': {False: 0, True: 1}, 'いろ': {False: 0, True: 1}, 'どう': {False: 0, True: 1}, 'つぎ': {False: 0, True: 1}, 'ます': {False: 0, True: 1}, 'たま': {False: 0, True: 1}, 'こ': {False: 0, True: 1}, 'われ': {False: 0, True: 1}, 'きん': {False: 0, True: 1}, 'なが': {False: 0, True: 1}, 'ぞく': {False: 0, True: 1}, 'いや': {False: 0, True: 1}, 'てん': {False: 0, True: 1}, 'めい': {False: 0, True: 1}, 'なに': {False: 0, True: 1}, 'しょ': {False: 0, True: 1}}), ('加', {'か': {False: 0, True: 3}}), ('至', {'し': {False: 0, True: 1}}), ('防', {'ぼう': {False: 0, True: 4}}), ('雑', {'ざつ': {False: 0, True: 3}}), ('覧', {'らん': {False: 0, True: 4}}), ('想', {'そう': {False: 0, True: 7}, 'そ': {False: 0, True: 1}}), ('毒', {'どく': {False: 1, True: 3}}), ('掌', {'たなごころ': {False: 0, True: 1}, 'しょう': {False: 0, True: 1}}), ('側', {'がわ': {False: 0, True: 2}, 'そば': {False: 0, True: 1}}), ('鍋', {'なべ': {False: 0, True: 1}}), ('疎', {'そ': {False: 0, True: 1}}), ('裕', {'ゆう': {False: 0, True: 1}}), ('殺', {'さつ': {False: 0, True: 2}}), ('箸', {'はし': {False: 0, True: 1}}), ('確', {'かく': {False: 0, True: 4}}), ('架', {'か': {False: 0, True: 1}}), ('片', {'へん': {False: 0, True: 1}}), ('欲', {'よく': {False: 0, True: 2}}), ('承', {'しょう': {False: 0, True: 1}}), ('廃', {'はい': {False: 0, True: 1}}), ('仮', {'か': {False: 0, True: 1}}), ('刊', {'かん': {False: 0, True: 3}}), ('威', {'い': {False: 0, True: 1}}), ('僅', {'きん': {False: 0, True: 1}}), ('裏', {'うら': {False: 0, True: 1}}), ('耳', {'みみ': {False: 0, True: 2}}), ('季', {'き': {False: 0, True: 1}}), ('得', {'え': {False: 0, True: 1}, 'とく': {False: 0, True: 4}}), ('躍', {'やく': {False: 0, True: 1}}), ('擦', {'さつ': {False: 0, True: 1}}), ('苗', {'なえ': {False: 0, True: 1}}), ('整', {'せい': {False: 0, True: 1}}), ('盛', {'じょう': {False: 0, True: 1}, 'せい': {False: 0, True: 1}}), ('総', {'そう': {False: 0, True: 1}}), ('魚', {'ぎょ': {False: 0, True: 1}, 'うお': {False: 0, True: 1}}), ('作', {'さく': {False: 0, True: 11}, 'さ': {False: 0, True: 2}}), ('友', {'とも': {False: 0, True: 1}, 'ゆう': {False: 0, True: 1}}), ('記', {'き': {False: 0, True: 2}}), ('宿', {'やど': {False: 0, True: 1}, 'しゅく': {False: 0, True: 2}}), ('準', {'じゅん': {False: 0, True: 4}}), ('丁', {'ちょう': {False: 0, True: 1}}), ('震', {'しん': {False: 0, True: 1}}), ('酒', {'さけ': {False: 1, True: 1}}), ('比', {'ひ': {False: 0, True: 1}}), ('那', {'な': {False: 0, True: 1}}), ('熟', {'じゅく': {False: 0, True: 2}}), ('破', {'は': {False: 0, True: 1}}), ('黙', {'もく': {False: 0, True: 1}}), ('角', {'かど': {False: 1, True: 1}, 'つの': {False: 0, True: 1}, 'かく': {False: 2, True: 3}, 'がく': {False: 0, True: 1}}), ('荷', {'に': {False: 0, True: 1}}), ('瓶', {'びん': {False: 0, True: 2}}), ('筈', {'はず': {False: 0, True: 2}}), ('歯', {'ば': {False: 0, True: 1}, 'は': {False: 0, True: 1}}), ('善', {'ぜん': {False: 0, True: 4}}), ('旅', {'たび': {False: 0, True: 1}}), ('末', {'まつ': {False: 0, True: 5}, 'すえ': {False: 0, True: 1}}), ('突', {'とつ': {False: 0, True: 2}}), ('贈', {'そう': {False: 0, True: 1}}), ('学', {'がく': {False: 0, True: 26}}), ('麦', {'むぎ': {False: 0, True: 1}}), ('泡', {'あわ': {False: 0, True: 1}}), ('乙', {'おつ': {False: 0, True: 1}}), ('染', {'せん': {False: 0, True: 3}}), ('業', {'ごう': {False: 0, True: 1}, 'ぎょう': {False: 0, True: 20}}), ('夏', {'なつ': {False: 0, True: 1}}), ('能', {'のう': {False: 0, True: 13}}), ('肪', {'ぼう': {False: 0, True: 1}}), ('免', {'めん': {False: 0, True: 1}}), ('乱', {'らん': {False: 0, True: 3}}), ('害', {'がい': {False: 0, True: 10}}), ('併', {'ぺい': {False: 0, True: 1}}), ('着', {'ちゃく': {False: 0, True: 3}, 'じゃく': {False: 0, True: 1}, 'ぎ': {False: 0, True: 3}, 'き': {False: 0, True: 1}}), ('財', {'ざい': {False: 0, True: 2}}), ('闘', {'とう': {False: 0, True: 2}}), ('中', {'なか': {False: 2, True: 2}, 'ちゅう': {False: 0, True: 9}}), ('遣', {'けん': {False: 0, True: 1}}), ('解', {'かい': {False: 0, True: 7}}), ('胃', {'い': {False: 0, True: 1}}), ('束', {'そく': {False: 0, True: 2}, 'たば': {False: 0, True: 1}}), ('背', {'せい': {False: 0, True: 1}}), ('温', {'おん': {False: 0, True: 3}}), ('箋', {'せん': {False: 0, True: 1}}), ('傑', {'けつ': {False: 0, True: 1}}), ('敵', {'てき': {False: 0, True: 2}}), ('寮', {'りょう': {False: 0, True: 1}}), ('裸', {'はだか': {False: 0, True: 1}}), ('暴', {'ぼう': {False: 0, True: 1}}), ('県', {'けん': {False: 0, True: 1}}), ('等', {'とう': {False: 0, True: 4}, 'どう': {False: 0, True: 1}, 'ら': {False: 0, True: 1}, 'など': {False: 0, True: 1}}), ('創', {'そう': {False: 0, True: 1}}), ('絡', {'らく': {False: 0, True: 1}}), ('還', {'かん': {False: 0, True: 1}}), ('議', {'ぎ': {False: 0, True: 11}}), ('端', {'ぱ': {False: 0, True: 1}, 'はし': {False: 0, True: 1}, 'たん': {False: 0, True: 3}}), ('唇', {'くちびる': {False: 0, True: 1}}), ('暇', {'か': {False: 0, True: 2}, 'ひま': {False: 0, True: 1}}), ('態', {'たい': {False: 0, True: 3}}), ('爪', {'つめ': {False: 0, True: 1}}), ('電', {'でん': {False: 0, True: 2}}), ('明', {'めい': {False: 0, True: 9}}), ('遇', {'ぐう': {False: 0, True: 2}}), ('鬼', {'おに': {False: 0, True: 1}}), ('応', {'のう': {False: 0, True: 1}, 'おう': {False: 0, True: 4}}), ('塔', {'とう': {False: 0, True: 1}}), ('発', {'はつ': {False: 0, True: 6}, 'ぱつ': {False: 0, True: 1}}), ('湖', {'みずうみ': {False: 0, True: 1}}), ('歌', {'うた': {False: 0, True: 1}, 'か': {False: 0, True: 1}}), ('仏', {'ほとけ': {False: 0, True: 1}}), ('終', {'じゅう': {False: 0, True: 1}, 'しゅう': {False: 0, True: 1}}), ('安', {'あん': {False: 0, True: 2}, 'やす': {False: 0, True: 1}}), ('式', {'しき': {False: 0, True: 10}}), ('縦', {'じゅう': {False: 0, True: 1}, 'たて': {False: 0, True: 1}}), ('勤', {'きん': {False: 0, True: 2}}), ('察', {'さつ': {False: 0, True: 4}}), ('馬', {'ば': {False: 0, True: 1}, 'うま': {False: 0, True: 1}}), ('文', {'もん': {False: 0, True: 1}, 'ぶん': {False: 0, True: 7}}), ('衛', {'えい': {False: 0, True: 4}}), ('死', {'し': {False: 0, True: 2}}), ('刀', {'かたな': {False: 0, True: 1}}), ('汗', {'あせ': {False: 0, True: 1}}), ('訟', {'しょう': {False: 0, True: 1}}), ('毯', {'たん': {False: 0, True: 1}}), ('督', {'とく': {False: 0, True: 1}}), ('膜', {'まく': {False: 0, True: 1}}), ('界', {'かい': {False: 0, True: 3}}), ('灰', {'はい': {False: 0, True: 1}}), ('霜', {'しも': {False: 0, True: 1}}), ('開', {'かい': {False: 0, True: 4}}), ('遷', {'せん': {False: 0, True: 1}}), ('露', {'つゆ': {False: 0, True: 1}, 'ろ': {False: 0, True: 1}}), ('真', {'しん': {False: 0, True: 1}}), ('は', {'は': {False: 7, True: 0}}), ('舌', {'した': {False: 0, True: 1}}), ('故', {'こ': {False: 0, True: 2}}), ('宙', {'ちゅう': {False: 0, True: 1}}), ('豆', {'まめ': {False: 0, True: 1}}), ('称', {'しょう': {False: 0, True: 1}}), ('幹', {'かん': {False: 0, True: 1}}), ('粧', {'しょう': {False: 0, True: 1}}), ('里', {'り': {False: 0, True: 1}}), ('拠', {'こ': {False: 0, True: 1}, 'きょ': {False: 0, True: 1}}), ('概', {'がい': {False: 0, True: 1}}), ('断', {'だん': {False: 0, True: 7}}), ('籠', {'かご': {False: 0, True: 1}}), ('載', {'さい': {False: 0, True: 2}}), ('鏡', {'きょう': {False: 0, True: 3}, 'かがみ': {False: 0, True: 1}}), ('激', {'げき': {False: 0, True: 3}}), ('僧', {'そう': {False: 0, True: 1}}), ('肺', {'はい': {False: 0, True: 1}}), ('他', {'た': {False: 0, True: 1}}), ('窓', {'まど': {False: 0, True: 1}}), ('用', {'よう': {False: 0, True: 24}}), ('先', {'せん': {False: 0, True: 2}, 'さき': {False: 2, True: 1}}), ('差', {'さ': {False: 0, True: 5}}), ('鎖', {'さ': {False: 0, True: 2}, 'くさり': {False: 0, True: 1}}), ('策', {'さく': {False: 0, True: 4}}), ('要', {'よう': {False: 0, True: 4}}), ('公', {'こう': {False: 0, True: 1}, 'おおやけ': {False: 0, True: 1}}), ('毎', {'ごと': {False: 0, True: 1}}), ('棒', {'ぼう': {False: 0, True: 2}}), ('律', {'りつ': {False: 0, True: 3}}), ('国', {'くに': {False: 0, True: 1}, 'ごく': {False: 0, True: 1}, 'こく': {False: 0, True: 2}}), ('癖', {'くせ': {False: 0, True: 1}}), ('所', {'どころ': {False: 0, True: 1}, 'じょ': {False: 0, True: 3}, 'ところ': {False: 0, True: 1}, 'しょ': {False: 0, True: 9}}), ('切', {'きり': {False: 0, True: 1}, 'せつ': {False: 0, True: 4}}), ('撃', {'げき': {False: 0, True: 5}}), ('蓄', {'ちく': {False: 0, True: 1}})])"
      ]
     },
     "execution_count": 156,
     "metadata": {},
     "output_type": "execute_result"
    }
   ],
   "source": [
    "currentPronunciationAllKanji.items()"
   ]
  },
  {
   "cell_type": "code",
   "execution_count": 180,
   "metadata": {
    "collapsed": false
   },
   "outputs": [
    {
     "name": "stdout",
     "output_type": "stream",
     "text": [
      "り {False: 0.0, True: 0.5, 'sum': 1.0}\n",
      "じん {False: 0.0, True: 0.5, 'sum': 1.0}\n",
      "にん {False: 0.0, True: 0.5, 'sum': 1.0}\n",
      "びと {False: 0.0, True: 0.5, 'sum': 1.0}\n",
      "ひと {False: 0.3333333333333333, True: 0.16666666666666666, 'sum': 1.0}\n"
     ]
    }
   ],
   "source": [
    "for (k,v) in currentPronunciationAllKanji['人'].items():\n",
    "    print(k, v)"
   ]
  },
  {
   "cell_type": "code",
   "execution_count": null,
   "metadata": {
    "collapsed": true
   },
   "outputs": [],
   "source": []
  }
 ],
 "metadata": {
  "anaconda-cloud": {},
  "kernelspec": {
   "display_name": "Python 3",
   "language": "python",
   "name": "python3"
  },
  "language_info": {
   "codemirror_mode": {
    "name": "ipython",
    "version": 3
   },
   "file_extension": ".py",
   "mimetype": "text/x-python",
   "name": "python",
   "nbconvert_exporter": "python",
   "pygments_lexer": "ipython3",
   "version": "3.5.2"
  }
 },
 "nbformat": 4,
 "nbformat_minor": 1
}
