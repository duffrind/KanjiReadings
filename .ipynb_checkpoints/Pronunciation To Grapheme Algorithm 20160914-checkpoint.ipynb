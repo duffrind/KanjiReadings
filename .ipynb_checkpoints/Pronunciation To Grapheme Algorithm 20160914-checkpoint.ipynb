{
 "cells": [
  {
   "cell_type": "code",
   "execution_count": 134,
   "metadata": {
    "collapsed": true
   },
   "outputs": [],
   "source": [
    "import pandas as pd\n",
    "import os\n",
    "import re\n",
    "import romkan"
   ]
  },
  {
   "cell_type": "code",
   "execution_count": 135,
   "metadata": {
    "collapsed": false
   },
   "outputs": [],
   "source": [
    "# get irregular words from ../data/irregular/irregular.csv and create a dict to avoid those words"
   ]
  },
  {
   "cell_type": "code",
   "execution_count": 142,
   "metadata": {
    "collapsed": false
   },
   "outputs": [],
   "source": [
    "vocab = pd.read_csv('../data/created/JMdict_e.csv', sep='\\t')\n",
    "kanji = pd.read_csv('../data/created/kanjidic2.csv')"
   ]
  },
  {
   "cell_type": "code",
   "execution_count": 143,
   "metadata": {
    "collapsed": false
   },
   "outputs": [
    {
     "data": {
      "text/html": [
       "<div>\n",
       "<table border=\"1\" class=\"dataframe\">\n",
       "  <thead>\n",
       "    <tr style=\"text-align: right;\">\n",
       "      <th></th>\n",
       "      <th>character</th>\n",
       "      <th>freq</th>\n",
       "      <th>meaning</th>\n",
       "      <th>on</th>\n",
       "      <th>kun</th>\n",
       "      <th>nanori</th>\n",
       "      <th>onkun</th>\n",
       "    </tr>\n",
       "  </thead>\n",
       "  <tbody>\n",
       "    <tr>\n",
       "      <th>0</th>\n",
       "      <td>亜</td>\n",
       "      <td>1509.0</td>\n",
       "      <td>[Asia, rank next, come after, -ous]</td>\n",
       "      <td>[あ]</td>\n",
       "      <td>[つ]</td>\n",
       "      <td>[や, つぎ, つぐ]</td>\n",
       "      <td>[つ, あ]</td>\n",
       "    </tr>\n",
       "    <tr>\n",
       "      <th>1</th>\n",
       "      <td>唖</td>\n",
       "      <td>NaN</td>\n",
       "      <td>[mute, dumb]</td>\n",
       "      <td>[あ, あく]</td>\n",
       "      <td>[おし]</td>\n",
       "      <td>[]</td>\n",
       "      <td>[おし, あ, あく]</td>\n",
       "    </tr>\n",
       "    <tr>\n",
       "      <th>2</th>\n",
       "      <td>娃</td>\n",
       "      <td>NaN</td>\n",
       "      <td>[beautiful]</td>\n",
       "      <td>[あ, あい, わ]</td>\n",
       "      <td>[うつく]</td>\n",
       "      <td>[い]</td>\n",
       "      <td>[うつく, あ, あい, わ]</td>\n",
       "    </tr>\n",
       "    <tr>\n",
       "      <th>3</th>\n",
       "      <td>阿</td>\n",
       "      <td>1126.0</td>\n",
       "      <td>[Africa, flatter, fawn upon, corner, nook, rec...</td>\n",
       "      <td>[あ, お]</td>\n",
       "      <td>[くま, おもね]</td>\n",
       "      <td>[ほとり, あず, あわ, おか, きた, な]</td>\n",
       "      <td>[くま, おもね, あ, お]</td>\n",
       "    </tr>\n",
       "    <tr>\n",
       "      <th>4</th>\n",
       "      <td>哀</td>\n",
       "      <td>1715.0</td>\n",
       "      <td>[pathetic, grief, sorrow, pathos, pity, sympat...</td>\n",
       "      <td>[あい]</td>\n",
       "      <td>[かな, あわ]</td>\n",
       "      <td>[]</td>\n",
       "      <td>[かな, あわ, あい]</td>\n",
       "    </tr>\n",
       "  </tbody>\n",
       "</table>\n",
       "</div>"
      ],
      "text/plain": [
       "  character    freq                                            meaning  \\\n",
       "0         亜  1509.0                [Asia, rank next, come after, -ous]   \n",
       "1         唖     NaN                                       [mute, dumb]   \n",
       "2         娃     NaN                                        [beautiful]   \n",
       "3         阿  1126.0  [Africa, flatter, fawn upon, corner, nook, rec...   \n",
       "4         哀  1715.0  [pathetic, grief, sorrow, pathos, pity, sympat...   \n",
       "\n",
       "           on        kun                    nanori            onkun  \n",
       "0         [あ]        [つ]               [や, つぎ, つぐ]           [つ, あ]  \n",
       "1     [あ, あく]       [おし]                        []      [おし, あ, あく]  \n",
       "2  [あ, あい, わ]      [うつく]                       [い]  [うつく, あ, あい, わ]  \n",
       "3      [あ, お]  [くま, おもね]  [ほとり, あず, あわ, おか, きた, な]  [くま, おもね, あ, お]  \n",
       "4        [あい]   [かな, あわ]                        []     [かな, あわ, あい]  "
      ]
     },
     "execution_count": 143,
     "metadata": {},
     "output_type": "execute_result"
    }
   ],
   "source": [
    "# Run once\n",
    "del vocab['pos']\n",
    "del vocab['meaning']\n",
    "del kanji['Unnamed: 0']\n",
    "vocab.pronunciation = vocab.pronunciation.map(lambda x: romkan.to_hiragana(romkan.to_roma(x)))\n",
    "kanji.on = kanji.on.map(lambda x: re.findall(\"\"\"[\\u3040-\\u309f]+\"\"\", romkan.to_hiragana(romkan.to_roma(x))))\n",
    "kanji.kun = kanji.kun.map(lambda x: list(set(map(lambda y: y.split('.')[0],re.findall(\"\"\"[\\u3040-\\u309f.]+\"\"\", x))))) # THIS THREW AWAY GOOD INFO\n",
    "kanji.nanori = kanji.nanori.map(lambda x: re.findall(\"\"\"[\\u3040-\\u309f]+\"\"\", x))\n",
    "kanji.meaning = kanji.meaning.map(lambda x: re.findall(\"\"\"[a-zA-Z-]+ *[a-zA-Z-]+\"\"\", x))\n",
    "#char_ser = pd.Series(kanji.on.values,index=kanji.character).to_dict()\n",
    "kanji['onkun'] = kanji.kun + kanji.on\n",
    "char_ser = pd.Series(kanji.onkun.values,index=kanji.character).to_dict()\n",
    "kanji.head()"
   ]
  },
  {
   "cell_type": "code",
   "execution_count": null,
   "metadata": {
    "collapsed": false
   },
   "outputs": [],
   "source": [
    "kanji.head()"
   ]
  },
  {
   "cell_type": "code",
   "execution_count": 138,
   "metadata": {
    "collapsed": false
   },
   "outputs": [],
   "source": [
    "#vocab.head()\n",
    "#kanji.head()"
   ]
  },
  {
   "cell_type": "code",
   "execution_count": 139,
   "metadata": {
    "collapsed": true
   },
   "outputs": [],
   "source": [
    "def kanjiru(index = 25):\n",
    "    word = vocab.loc[index].vocab\n",
    "    pron = vocab.loc[index].pronunciation\n",
    "    print(word, pron)\n",
    "    for ji in word:\n",
    "        if re.match(\"\"\"[\\u3040-\\u30ff]\"\"\",ji) != None:\n",
    "            print(ji, ji)\n",
    "            pron = pron[1:]\n",
    "        else:\n",
    "            pron_list = char_ser[ji]\n",
    "            pron_list.sort(key=len, reverse=True)\n",
    "            print(pron_list)\n",
    "            for pr in pron_list:\n",
    "                if pron[0:len(pr)] == pr: # re match beginning of string\n",
    "                    print(ji, pr)\n",
    "                    pron = pron[len(pr):]\n",
    "# IF FAIL THEN TRY AGAIN FROM LESS PRON. IF FAIL AGAIN THEN TRY IN REVERSE. IF FAIL AGAIN..."
   ]
  },
  {
   "cell_type": "code",
   "execution_count": 92,
   "metadata": {
    "collapsed": false
   },
   "outputs": [
    {
     "name": "stdout",
     "output_type": "stream",
     "text": [
      "['かん']\n",
      "漢 かん\n",
      "['すう', 'さく', 'そく', 'しゅ', 'す']\n",
      "数 すう\n",
      "['じ']\n",
      "字 じ\n"
     ]
    }
   ],
   "source": [
    "\n",
    "word = '漢数字'\n",
    "pron = 'かんすうじ'\n",
    "for ji in word:\n",
    "    pron_list = re.findall(\"\"\"[\\u3040-\\u309f]+\"\"\", char_ser[ji])\n",
    "    pron_list.sort(key=len, reverse=True)\n",
    "    print(pron_list)\n",
    "    for pr in pron_list:\n",
    "        if pron[0:len(pr)] == pr: # re match beginning of string\n",
    "            print(ji, pr)\n",
    "            pron = pron[len(pr):]\n",
    "    #re.match()\n",
    "    \n",
    "#next match up each kanji to on or kun for exploratory analysis\n",
    "\n",
    "#Maybe if word is only kanji - first check on list, if word is mixture - first check kun?\n",
    "\n",
    "# Also put in checks for hirgana matching ()"
   ]
  },
  {
   "cell_type": "code",
   "execution_count": 152,
   "metadata": {
    "collapsed": false
   },
   "outputs": [
    {
     "name": "stdout",
     "output_type": "stream",
     "text": [
      "821    [み, おん, お]\n",
      "Name: kun, dtype: object\n",
      "5494    [むつき]\n",
      "Name: kun, dtype: object\n",
      "5488    [むつき]\n",
      "Name: kun, dtype: object\n",
      "473    [いき]\n",
      "Name: kun, dtype: object\n",
      "1417    [さわ, ふ]\n",
      "Name: kun, dtype: object\n"
     ]
    }
   ],
   "source": [
    "#kanjiru(28)\n",
    "#char_ser['呪']\n",
    "print(kanji.kun[kanji.character =='御'])\n",
    "print(kanji.kun[kanji.character =='襁'])\n",
    "print(kanji.kun[kanji.character =='褓'])\n",
    "print(kanji.kun[kanji.character =='気'])\n",
    "print(kanji.kun[kanji.character =='触'])"
   ]
  },
  {
   "cell_type": "code",
   "execution_count": 128,
   "metadata": {
    "collapsed": false
   },
   "outputs": [
    {
     "data": {
      "text/html": [
       "<div>\n",
       "<table border=\"1\" class=\"dataframe\">\n",
       "  <thead>\n",
       "    <tr style=\"text-align: right;\">\n",
       "      <th></th>\n",
       "      <th>character</th>\n",
       "      <th>freq</th>\n",
       "      <th>meaning</th>\n",
       "      <th>on</th>\n",
       "      <th>kun</th>\n",
       "      <th>nanori</th>\n",
       "      <th>onkun</th>\n",
       "    </tr>\n",
       "  </thead>\n",
       "  <tbody>\n",
       "    <tr>\n",
       "      <th>2663</th>\n",
       "      <td>明</td>\n",
       "      <td>67.0</td>\n",
       "      <td>[bright, light]</td>\n",
       "      <td>[みょう, めい, みん]</td>\n",
       "      <td>[あ, あか, あか, あか, あき, あ, あ, あ, あ, あ]</td>\n",
       "      <td>[あきら, あけ, あす, きら, け, さや, さやか, とし, はる, み, め]</td>\n",
       "      <td>[みょう, あか, あか, あか, あき, めい, みん, あ, あ, あ, あ, あ, あ]</td>\n",
       "    </tr>\n",
       "  </tbody>\n",
       "</table>\n",
       "</div>"
      ],
      "text/plain": [
       "     character  freq          meaning             on  \\\n",
       "2663         明  67.0  [bright, light]  [みょう, めい, みん]   \n",
       "\n",
       "                                     kun  \\\n",
       "2663  [あ, あか, あか, あか, あき, あ, あ, あ, あ, あ]   \n",
       "\n",
       "                                           nanori  \\\n",
       "2663  [あきら, あけ, あす, きら, け, さや, さやか, とし, はる, み, め]   \n",
       "\n",
       "                                                onkun  \n",
       "2663  [みょう, あか, あか, あか, あき, めい, みん, あ, あ, あ, あ, あ, あ]  "
      ]
     },
     "execution_count": 128,
     "metadata": {},
     "output_type": "execute_result"
    }
   ],
   "source": [
    "kanji[kanji.character == '明']"
   ]
  },
  {
   "cell_type": "code",
   "execution_count": 133,
   "metadata": {
    "collapsed": false
   },
   "outputs": [
    {
     "name": "stdout",
     "output_type": "stream",
     "text": [
      "['あ.かり', 'あか.るい', 'あか.るむ', 'あか.らむ', 'あき.らか', 'あ.ける', '-あ.け', 'あ.く', 'あ.くる', 'あ.かす']\n"
     ]
    }
   ],
   "source": [
    "#print(kanji[kanji.character == '漢'][['on','kun']])\n",
    "#print(kanji[kanji.character == '数'][['on','kun']])\n",
    "#print(kanji[kanji.character == '字'][['on','kun']])\n",
    "for a in kanji[kanji.character == '明'].kun:\n",
    "    print(a)"
   ]
  },
  {
   "cell_type": "code",
   "execution_count": 3,
   "metadata": {
    "collapsed": false
   },
   "outputs": [
    {
     "data": {
      "text/plain": [
       "32"
      ]
     },
     "execution_count": 3,
     "metadata": {},
     "output_type": "execute_result"
    }
   ],
   "source": [
    "#nounDic = pd.DataFrame(columns=['kanji','pronunciation','type','meaning'])\n",
    "dir = os.path.dirname('''../data/created/JMdict_e.csv''')\n",
    "if not os.path.exists(dir):\n",
    "    os.makedirs(dir)\n",
    "\n",
    "file = open('''../data/created/JMdict_e.csv''', 'w+')\n",
    "file.truncate()\n",
    "file.write('vocab\\tpronunciation\\tpos\\tmeaning\\n')"
   ]
  },
  {
   "cell_type": "code",
   "execution_count": 4,
   "metadata": {
    "collapsed": false
   },
   "outputs": [],
   "source": [
    "#i = 0\n",
    "for noun in root.findall('entry'):\n",
    "  word = noun.find('k_ele')\n",
    "  if word is not None:\n",
    "    word = word.find('keb').text\n",
    "    pron = noun.find('r_ele').find('reb').text\n",
    "    noun_child = noun.find('sense')\n",
    "    noun_type = noun_child.find('pos').text\n",
    "    meaning = noun_child.find('gloss').text\n",
    "    file.write(word + '\\t' + pron + '\\t' + noun_type + '\\t' + meaning + '\\n')\n",
    "    #if noun_child.find('pos') is not None:\n",
    "    #  noun_type = noun_child.find('name_type').text\n",
    "    #  meaning = noun_child.find('trans_det').text\n",
    "    #  file.write(word + '\\t' + pron + '\\t' + noun_type + '\\t' + meaning + '\\n')\n",
    "    #nounDic.loc[i] = [word,pron,noun_type,meaning] # taking all the time (probably)\n",
    "    #i = i + 1\n",
    "    \n",
    "    #try to write directly to a CSV file (keep file open)\n",
    "\n",
    "#kanji_list = []\n",
    "#pron_list = []\n",
    "#type_list = []\n",
    "#meaning_list = []\n",
    "#for noun in root.findall('entry'):\n",
    "#  kanji = noun.find('k_ele')\n",
    "#  if kanji is not None:\n",
    "#    noun_child = noun.find('trans')\n",
    "#    if noun_child is not None:\n",
    "#      if noun.find('r_ele') is not None:\n",
    "#        if noun_child.find('name_type') is not None:\n",
    "#          kanji_list.append(kanji.find('keb').text)\n",
    "#          pron_list.append(noun.find('r_ele').find('reb').text)\n",
    "#          type_list.append(noun_child.find('name_type').text)\n",
    "#          meaning_list.append(noun_child.find('trans_det').text)\n",
    "#    nounDic.loc[i] = [kanji,pron,noun_type,meaning]\n",
    "#    i = i + 1\n",
    "#nounDic = pd.DataFrame({'kanji': kanji_list,'pronunciation': pron_list,'type': type_list,'meaning': meaning_list}, columns=['kanji','pronunciation','type','meaning'])\n",
    "\n",
    "  #freq = noun.find('misc').find('freq') #check if none\n",
    "  #if freq != None:\n",
    "  #      freq = freq.text\n",
    "  #character = noun.find('literal').text\n",
    "  #noun_child = noun.find('reading_meaning')\n",
    "  #if noun_child != None:\n",
    "  #  noun_child = noun_child.find('rmgroup')\n",
    "  #  if noun_child != None:\n",
    "  #    meaning_list = noun_child.findall('meaning') #list of elements -> list of text\n",
    "  #    meaning = [m.text if m.attrib == {} else None for m in meaning_list] #remove Nones now\n",
    "  #    meaning = [m for m in meaning if m is not None]\n",
    "  #    reading_list = noun_child.findall('reading')\n",
    "  #    on = [o.text if o.attrib == {'r_type': 'ja_on'} else None for o in reading_list] #remove Nones now\n",
    "  #    kun = [k.text if k.attrib == {'r_type': 'ja_kun'} else None for k in reading_list]\n",
    "  #    on = [o for o in on if o is not None]\n",
    "  #    kun = [k for k in kun if k is not None]\n",
    "  #    nanori_list = noun.find('reading_meaning').findall('nanori')\n",
    "  #    nanori = [a.text for a in nanori_list]\n",
    "  #    nounDic.loc[i] = [character,freq,meaning,on,kun,nanori]\n",
    "  #    i = i + 1"
   ]
  },
  {
   "cell_type": "code",
   "execution_count": 6,
   "metadata": {
    "collapsed": false
   },
   "outputs": [
    {
     "data": {
      "text/html": [
       "<div>\n",
       "<table border=\"1\" class=\"dataframe\">\n",
       "  <thead>\n",
       "    <tr style=\"text-align: right;\">\n",
       "      <th></th>\n",
       "      <th>kanji</th>\n",
       "      <th>pronunciation</th>\n",
       "      <th>type</th>\n",
       "      <th>meaning</th>\n",
       "    </tr>\n",
       "  </thead>\n",
       "  <tbody>\n",
       "    <tr>\n",
       "      <th>306515</th>\n",
       "      <td>沼田町</td>\n",
       "      <td>ぬまたちょう</td>\n",
       "      <td>place name</td>\n",
       "      <td>Numatachou</td>\n",
       "    </tr>\n",
       "    <tr>\n",
       "      <th>306516</th>\n",
       "      <td>沼田町</td>\n",
       "      <td>ぬまたまち</td>\n",
       "      <td>place name</td>\n",
       "      <td>Numatamachi</td>\n",
       "    </tr>\n",
       "    <tr>\n",
       "      <th>306517</th>\n",
       "      <td>沼田町阿戸</td>\n",
       "      <td>ぬまたちょうあと</td>\n",
       "      <td>place name</td>\n",
       "      <td>Numatachouato</td>\n",
       "    </tr>\n",
       "    <tr>\n",
       "      <th>306518</th>\n",
       "      <td>沼田町吉山</td>\n",
       "      <td>ぬまたちょうよしやま</td>\n",
       "      <td>place name</td>\n",
       "      <td>Numatachouyoshiyama</td>\n",
       "    </tr>\n",
       "    <tr>\n",
       "      <th>306519</th>\n",
       "      <td>沼田町大塚</td>\n",
       "      <td>ぬまたちょうおおつか</td>\n",
       "      <td>place name</td>\n",
       "      <td>Numatachouootsuka</td>\n",
       "    </tr>\n",
       "  </tbody>\n",
       "</table>\n",
       "</div>"
      ],
      "text/plain": [
       "        kanji pronunciation        type              meaning\n",
       "306515    沼田町        ぬまたちょう  place name           Numatachou\n",
       "306516    沼田町         ぬまたまち  place name          Numatamachi\n",
       "306517  沼田町阿戸      ぬまたちょうあと  place name        Numatachouato\n",
       "306518  沼田町吉山    ぬまたちょうよしやま  place name  Numatachouyoshiyama\n",
       "306519  沼田町大塚    ぬまたちょうおおつか  place name    Numatachouootsuka"
      ]
     },
     "execution_count": 6,
     "metadata": {},
     "output_type": "execute_result"
    }
   ],
   "source": [
    "#nounDic.tail()"
   ]
  },
  {
   "cell_type": "code",
   "execution_count": 20,
   "metadata": {
    "collapsed": true
   },
   "outputs": [],
   "source": [
    "#temp = {}"
   ]
  },
  {
   "cell_type": "code",
   "execution_count": 22,
   "metadata": {
    "collapsed": false
   },
   "outputs": [],
   "source": [
    "#temp.update({'boy':1})"
   ]
  },
  {
   "cell_type": "code",
   "execution_count": 23,
   "metadata": {
    "collapsed": false
   },
   "outputs": [
    {
     "data": {
      "text/plain": [
       "{'boy': 1}"
      ]
     },
     "execution_count": 23,
     "metadata": {},
     "output_type": "execute_result"
    }
   ],
   "source": [
    "#temp"
   ]
  },
  {
   "cell_type": "code",
   "execution_count": 5,
   "metadata": {
    "collapsed": true
   },
   "outputs": [],
   "source": [
    "file.close()"
   ]
  },
  {
   "cell_type": "code",
   "execution_count": 1,
   "metadata": {
    "collapsed": false
   },
   "outputs": [
    {
     "ename": "ImportError",
     "evalue": "No module named 'romkan'",
     "output_type": "error",
     "traceback": [
      "\u001b[0;31m---------------------------------------------------------------------------\u001b[0m",
      "\u001b[0;31mImportError\u001b[0m                               Traceback (most recent call last)",
      "\u001b[0;32m<ipython-input-1-34a2a621e58b>\u001b[0m in \u001b[0;36m<module>\u001b[0;34m()\u001b[0m\n\u001b[0;32m----> 1\u001b[0;31m \u001b[0;32mimport\u001b[0m \u001b[0mromkan\u001b[0m\u001b[0;34m\u001b[0m\u001b[0m\n\u001b[0m",
      "\u001b[0;31mImportError\u001b[0m: No module named 'romkan'"
     ]
    }
   ],
   "source": [
    "#import romkan"
   ]
  },
  {
   "cell_type": "code",
   "execution_count": 6,
   "metadata": {
    "collapsed": true
   },
   "outputs": [],
   "source": [
    "# now create a dictionary of {word: meaning} and write to json file -- this is for personal website !!!!"
   ]
  },
  {
   "cell_type": "code",
   "execution_count": 11,
   "metadata": {
    "collapsed": false
   },
   "outputs": [],
   "source": [
    "all_words = pd.read_csv('../data/created/JMdict_e.csv', sep='\\t')"
   ]
  },
  {
   "cell_type": "code",
   "execution_count": 50,
   "metadata": {
    "collapsed": false
   },
   "outputs": [],
   "source": [
    "words_dict = {}\n",
    "for entry in all_words.iterrows():\n",
    "    words_dict.update({entry[1][0]:entry[1][1] + '\\t' + entry[1][2] + '\\t' + entry[1][3]})"
   ]
  },
  {
   "cell_type": "code",
   "execution_count": 19,
   "metadata": {
    "collapsed": false
   },
   "outputs": [
    {
     "data": {
      "text/html": [
       "<div>\n",
       "<table border=\"1\" class=\"dataframe\">\n",
       "  <thead>\n",
       "    <tr style=\"text-align: right;\">\n",
       "      <th></th>\n",
       "      <th>vocab</th>\n",
       "      <th>pronunciation</th>\n",
       "      <th>pos</th>\n",
       "      <th>meaning</th>\n",
       "    </tr>\n",
       "  </thead>\n",
       "  <tbody>\n",
       "    <tr>\n",
       "      <th>0</th>\n",
       "      <td>〃</td>\n",
       "      <td>おなじ</td>\n",
       "      <td>noun (common) (futsuumeishi)</td>\n",
       "      <td>ditto mark</td>\n",
       "    </tr>\n",
       "    <tr>\n",
       "      <th>1</th>\n",
       "      <td>仝</td>\n",
       "      <td>どうじょう</td>\n",
       "      <td>noun (common) (futsuumeishi)</td>\n",
       "      <td>as above mark</td>\n",
       "    </tr>\n",
       "    <tr>\n",
       "      <th>2</th>\n",
       "      <td>々</td>\n",
       "      <td>くりかえし</td>\n",
       "      <td>noun (common) (futsuumeishi)</td>\n",
       "      <td>repetition of kanji (sometimes voiced)</td>\n",
       "    </tr>\n",
       "    <tr>\n",
       "      <th>3</th>\n",
       "      <td>漢数字ゼロ</td>\n",
       "      <td>かんすうじゼロ</td>\n",
       "      <td>noun (common) (futsuumeishi)</td>\n",
       "      <td>kanji zero</td>\n",
       "    </tr>\n",
       "    <tr>\n",
       "      <th>4</th>\n",
       "      <td>○</td>\n",
       "      <td>まる</td>\n",
       "      <td>noun (common) (futsuumeishi)</td>\n",
       "      <td>circle (sometimes used for zero)</td>\n",
       "    </tr>\n",
       "  </tbody>\n",
       "</table>\n",
       "</div>"
      ],
      "text/plain": [
       "   vocab pronunciation                           pos  \\\n",
       "0      〃           おなじ  noun (common) (futsuumeishi)   \n",
       "1      仝         どうじょう  noun (common) (futsuumeishi)   \n",
       "2      々         くりかえし  noun (common) (futsuumeishi)   \n",
       "3  漢数字ゼロ       かんすうじゼロ  noun (common) (futsuumeishi)   \n",
       "4      ○            まる  noun (common) (futsuumeishi)   \n",
       "\n",
       "                                  meaning  \n",
       "0                              ditto mark  \n",
       "1                           as above mark  \n",
       "2  repetition of kanji (sometimes voiced)  \n",
       "3                              kanji zero  \n",
       "4        circle (sometimes used for zero)  "
      ]
     },
     "execution_count": 19,
     "metadata": {},
     "output_type": "execute_result"
    }
   ],
   "source": [
    "all_words.head()"
   ]
  },
  {
   "cell_type": "code",
   "execution_count": 36,
   "metadata": {
    "collapsed": false
   },
   "outputs": [
    {
     "ename": "IndexError",
     "evalue": "tuple index out of range",
     "output_type": "error",
     "traceback": [
      "\u001b[0;31m---------------------------------------------------------------------------\u001b[0m",
      "\u001b[0;31mIndexError\u001b[0m                                Traceback (most recent call last)",
      "\u001b[0;32m<ipython-input-36-0b1231a71862>\u001b[0m in \u001b[0;36m<module>\u001b[0;34m()\u001b[0m\n\u001b[0;32m----> 1\u001b[0;31m \u001b[0mnext\u001b[0m\u001b[0;34m(\u001b[0m\u001b[0mall_words\u001b[0m\u001b[0;34m.\u001b[0m\u001b[0miterrows\u001b[0m\u001b[0;34m(\u001b[0m\u001b[0;34m)\u001b[0m\u001b[0;34m)\u001b[0m\u001b[0;34m[\u001b[0m\u001b[0;36m2\u001b[0m\u001b[0;34m]\u001b[0m\u001b[0;34m[\u001b[0m\u001b[0;36m2\u001b[0m\u001b[0;34m]\u001b[0m\u001b[0;34m\u001b[0m\u001b[0m\n\u001b[0m",
      "\u001b[0;31mIndexError\u001b[0m: tuple index out of range"
     ]
    }
   ],
   "source": [
    "#next(all_words.iterrows())[2][2]"
   ]
  },
  {
   "cell_type": "code",
   "execution_count": 51,
   "metadata": {
    "collapsed": false
   },
   "outputs": [],
   "source": [
    "import json\n",
    "\n",
    "# load from file:\n",
    "#with open('/path/to/my_file.json', 'r') as f:\n",
    "#    try:\n",
    "#        data = json.load(f)\n",
    "#    # if the file is empty the ValueError will be thrown\n",
    "#    except ValueError:\n",
    "#        data = {}\n",
    "\n",
    "# save to file:\n",
    "with open('../word_dictionary.json', 'w') as f:\n",
    "    json.dump(words_dict, f)\n"
   ]
  },
  {
   "cell_type": "code",
   "execution_count": null,
   "metadata": {
    "collapsed": true
   },
   "outputs": [],
   "source": []
  }
 ],
 "metadata": {
  "anaconda-cloud": {},
  "kernelspec": {
   "display_name": "Python 3",
   "language": "python",
   "name": "python3"
  },
  "language_info": {
   "codemirror_mode": {
    "name": "ipython",
    "version": 3
   },
   "file_extension": ".py",
   "mimetype": "text/x-python",
   "name": "python",
   "nbconvert_exporter": "python",
   "pygments_lexer": "ipython3",
   "version": "3.5.2"
  }
 },
 "nbformat": 4,
 "nbformat_minor": 0
}
