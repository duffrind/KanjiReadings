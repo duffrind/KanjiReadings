{
 "cells": [
  {
   "cell_type": "code",
   "execution_count": 1,
   "metadata": {
    "collapsed": true
   },
   "outputs": [],
   "source": [
    "import pandas as pd\n",
    "import os\n",
    "import re\n",
    "import romkan\n",
    "import unicodedata"
   ]
  },
  {
   "cell_type": "code",
   "execution_count": 135,
   "metadata": {
    "collapsed": false
   },
   "outputs": [],
   "source": [
    "# get irregular words from ../data/irregular/irregular.csv and create a dict to avoid those words"
   ]
  },
  {
   "cell_type": "code",
   "execution_count": 135,
   "metadata": {
    "collapsed": false
   },
   "outputs": [],
   "source": [
    "vocab = pd.read_csv('../data/created/JMdict_e.csv', sep='\\t')\n",
    "kanji = pd.read_csv('../data/created/kanjidic2.csv')"
   ]
  },
  {
   "cell_type": "code",
   "execution_count": 136,
   "metadata": {
    "collapsed": false
   },
   "outputs": [
    {
     "data": {
      "text/html": [
       "<div>\n",
       "<table border=\"1\" class=\"dataframe\">\n",
       "  <thead>\n",
       "    <tr style=\"text-align: right;\">\n",
       "      <th></th>\n",
       "      <th>character</th>\n",
       "      <th>freq</th>\n",
       "      <th>meaning</th>\n",
       "      <th>on</th>\n",
       "      <th>kun</th>\n",
       "      <th>nanori</th>\n",
       "      <th>kun1</th>\n",
       "      <th>kun2</th>\n",
       "      <th>onkun</th>\n",
       "    </tr>\n",
       "  </thead>\n",
       "  <tbody>\n",
       "    <tr>\n",
       "      <th>0</th>\n",
       "      <td>亜</td>\n",
       "      <td>1509.0</td>\n",
       "      <td>[Asia, rank next, come after, -ous]</td>\n",
       "      <td>[あ]</td>\n",
       "      <td>['つ.ぐ']</td>\n",
       "      <td>[や, つぎ, つぐ]</td>\n",
       "      <td>[つ]</td>\n",
       "      <td>[つぐ]</td>\n",
       "      <td>[つ, つぐ, あ]</td>\n",
       "    </tr>\n",
       "    <tr>\n",
       "      <th>1</th>\n",
       "      <td>唖</td>\n",
       "      <td>NaN</td>\n",
       "      <td>[mute, dumb]</td>\n",
       "      <td>[あ, あく]</td>\n",
       "      <td>['おし']</td>\n",
       "      <td>[]</td>\n",
       "      <td>[おし]</td>\n",
       "      <td>[おし]</td>\n",
       "      <td>[おし, おし, あ, あく]</td>\n",
       "    </tr>\n",
       "    <tr>\n",
       "      <th>2</th>\n",
       "      <td>娃</td>\n",
       "      <td>NaN</td>\n",
       "      <td>[beautiful]</td>\n",
       "      <td>[あ, あい, わ]</td>\n",
       "      <td>['うつく.しい']</td>\n",
       "      <td>[い]</td>\n",
       "      <td>[うつく]</td>\n",
       "      <td>[うつくしい]</td>\n",
       "      <td>[うつく, うつくしい, あ, あい, わ]</td>\n",
       "    </tr>\n",
       "    <tr>\n",
       "      <th>3</th>\n",
       "      <td>阿</td>\n",
       "      <td>1126.0</td>\n",
       "      <td>[Africa, flatter, fawn upon, corner, nook, rec...</td>\n",
       "      <td>[あ, お]</td>\n",
       "      <td>['おもね.る', 'くま']</td>\n",
       "      <td>[ほとり, あず, あわ, おか, きた, な]</td>\n",
       "      <td>[おもね, くま]</td>\n",
       "      <td>[くま, おもねる]</td>\n",
       "      <td>[おもね, くま, くま, おもねる, あ, お]</td>\n",
       "    </tr>\n",
       "    <tr>\n",
       "      <th>4</th>\n",
       "      <td>哀</td>\n",
       "      <td>1715.0</td>\n",
       "      <td>[pathetic, grief, sorrow, pathos, pity, sympat...</td>\n",
       "      <td>[あい]</td>\n",
       "      <td>['あわ.れ', 'あわ.れむ', 'かな.しい']</td>\n",
       "      <td>[]</td>\n",
       "      <td>[あわ, かな]</td>\n",
       "      <td>[あわれむ, あわれ, かなしい]</td>\n",
       "      <td>[あわ, かな, あわれむ, あわれ, かなしい, あい]</td>\n",
       "    </tr>\n",
       "  </tbody>\n",
       "</table>\n",
       "</div>"
      ],
      "text/plain": [
       "  character    freq                                            meaning  \\\n",
       "0         亜  1509.0                [Asia, rank next, come after, -ous]   \n",
       "1         唖     NaN                                       [mute, dumb]   \n",
       "2         娃     NaN                                        [beautiful]   \n",
       "3         阿  1126.0  [Africa, flatter, fawn upon, corner, nook, rec...   \n",
       "4         哀  1715.0  [pathetic, grief, sorrow, pathos, pity, sympat...   \n",
       "\n",
       "           on                         kun                    nanori  \\\n",
       "0         [あ]                     ['つ.ぐ']               [や, つぎ, つぐ]   \n",
       "1     [あ, あく]                      ['おし']                        []   \n",
       "2  [あ, あい, わ]                  ['うつく.しい']                       [い]   \n",
       "3      [あ, お]             ['おもね.る', 'くま']  [ほとり, あず, あわ, おか, きた, な]   \n",
       "4        [あい]  ['あわ.れ', 'あわ.れむ', 'かな.しい']                        []   \n",
       "\n",
       "        kun1               kun2                          onkun  \n",
       "0        [つ]               [つぐ]                     [つ, つぐ, あ]  \n",
       "1       [おし]               [おし]                [おし, おし, あ, あく]  \n",
       "2      [うつく]            [うつくしい]         [うつく, うつくしい, あ, あい, わ]  \n",
       "3  [おもね, くま]         [くま, おもねる]      [おもね, くま, くま, おもねる, あ, お]  \n",
       "4   [あわ, かな]  [あわれむ, あわれ, かなしい]  [あわ, かな, あわれむ, あわれ, かなしい, あい]  "
      ]
     },
     "execution_count": 136,
     "metadata": {},
     "output_type": "execute_result"
    }
   ],
   "source": [
    "# Run once\n",
    "del vocab['pos']\n",
    "del vocab['meaning']\n",
    "del kanji['Unnamed: 0']\n",
    "vocab.pronunciation = vocab.pronunciation.map(lambda x: romkan.to_hiragana(romkan.to_roma(x)))\n",
    "kanji.on = kanji.on.map(lambda x: re.findall(\"\"\"[\\u3040-\\u309f]+\"\"\", romkan.to_hiragana(romkan.to_roma(x))))\n",
    "##############################\n",
    "#kanji.kun = kanji.kun.map(lambda x: list(set(map(lambda y: y.split('.')[0],re.findall(\"\"\"[\\u3040-\\u309f.]+\"\"\", x))))) # THIS THREW AWAY GOOD INFO\n",
    "##############################\n",
    "kanji['kun1'] = kanji.kun.map(lambda x: list(set(map(lambda y: y.split('.')[0],re.findall(\"\"\"[\\u3040-\\u309f.]+\"\"\", x)))))\n",
    "kanji['kun2'] = kanji.kun.map(lambda x: list(set(map(lambda y: ''.join(y.split('.')),re.findall(\"\"\"[\\u3040-\\u309f.]+\"\"\", x)))))\n",
    "# I should also include the kun without splitting somehow... aka shi.ku = shi and shiku\n",
    "kanji.nanori = kanji.nanori.map(lambda x: re.findall(\"\"\"[\\u3040-\\u309f]+\"\"\", x))\n",
    "kanji.meaning = kanji.meaning.map(lambda x: re.findall(\"\"\"[a-zA-Z-]+ *[a-zA-Z-]+\"\"\", x))\n",
    "#char_ser = pd.Series(kanji.on.values,index=kanji.character).to_dict()\n",
    "kanji['onkun'] = kanji.kun1 + kanji.kun2 + kanji.on\n",
    "#kanji.onkun.map(lambda x: list(set(x))) ########## NOW MAKE SURE ALL ARE SET TO LISTS SO THERE ARE NO DUPLICATES\n",
    "char_ser = pd.Series(kanji.onkun.values,index=kanji.character).to_dict()\n",
    "kanji.head()"
   ]
  },
  {
   "cell_type": "code",
   "execution_count": 148,
   "metadata": {
    "collapsed": false
   },
   "outputs": [
    {
     "data": {
      "text/plain": [
       "0"
      ]
     },
     "execution_count": 148,
     "metadata": {},
     "output_type": "execute_result"
    }
   ],
   "source": [
    "#vocab.vocab = vocab.vocab.map(lambda x: romkan.to_hiragana(romkan.to_roma(x)))\n",
    "#vocab.head()\n",
    "\n",
    "#char_ser['亜']\n",
    "len('boy'[3:])\n",
    "\n",
    "#print(jlpt[jlpt.Kanji.str.contains('風')])\n",
    "#print(char_ser['風'])"
   ]
  },
  {
   "cell_type": "code",
   "execution_count": 20,
   "metadata": {
    "collapsed": true
   },
   "outputs": [],
   "source": [
    "irregular = pd.read_csv('../data/irregular/irregular.csv')\n",
    "jlpt = pd.read_csv('../data/vocab/jlptvocab.csv')"
   ]
  },
  {
   "cell_type": "code",
   "execution_count": 82,
   "metadata": {
    "collapsed": false
   },
   "outputs": [
    {
     "data": {
      "text/html": [
       "<div>\n",
       "<table border=\"1\" class=\"dataframe\">\n",
       "  <thead>\n",
       "    <tr style=\"text-align: right;\">\n",
       "      <th></th>\n",
       "      <th>Kanji</th>\n",
       "      <th>Hiragana</th>\n",
       "      <th>English</th>\n",
       "    </tr>\n",
       "  </thead>\n",
       "  <tbody>\n",
       "    <tr>\n",
       "      <th>8318</th>\n",
       "      <td>忘れ物</td>\n",
       "      <td>わすれもの</td>\n",
       "      <td>lost article</td>\n",
       "    </tr>\n",
       "    <tr>\n",
       "      <th>8319</th>\n",
       "      <td>笑う</td>\n",
       "      <td>わらう</td>\n",
       "      <td>to laugh,to smile</td>\n",
       "    </tr>\n",
       "    <tr>\n",
       "      <th>8320</th>\n",
       "      <td>割合</td>\n",
       "      <td>わりあい</td>\n",
       "      <td>rate,ratio,percentage</td>\n",
       "    </tr>\n",
       "    <tr>\n",
       "      <th>8321</th>\n",
       "      <td>割れる</td>\n",
       "      <td>われる</td>\n",
       "      <td>to break</td>\n",
       "    </tr>\n",
       "    <tr>\n",
       "      <th>8337</th>\n",
       "      <td>消しゴム</td>\n",
       "      <td>けしゴム</td>\n",
       "      <td>eraser, rubber</td>\n",
       "    </tr>\n",
       "  </tbody>\n",
       "</table>\n",
       "</div>"
      ],
      "text/plain": [
       "     Kanji Hiragana                English\n",
       "8318   忘れ物    わすれもの           lost article\n",
       "8319    笑う      わらう      to laugh,to smile\n",
       "8320    割合     わりあい  rate,ratio,percentage\n",
       "8321   割れる      われる               to break\n",
       "8337  消しゴム     けしゴム         eraser, rubber"
      ]
     },
     "execution_count": 82,
     "metadata": {},
     "output_type": "execute_result"
    }
   ],
   "source": [
    "jlpt.tail()"
   ]
  },
  {
   "cell_type": "code",
   "execution_count": 77,
   "metadata": {
    "collapsed": false
   },
   "outputs": [],
   "source": [
    "def unvoice(char):\n",
    "    if not ('\\u3041' <= char <= '\\u3096') or len(char) > 1 or not unicodedata.decomposition(char):\n",
    "        return char\n",
    "    return unicodedata.normalize('NFD', char)[0]"
   ]
  },
  {
   "cell_type": "code",
   "execution_count": null,
   "metadata": {
    "collapsed": true
   },
   "outputs": [],
   "source": [
    "def check_word(word,cur,pron,pastprons,pastpron):\n",
    "    if cur > len(word):\n",
    "        return pron\n",
    "    try:\n",
    "        prons = set(char_ser[word[cur]])\n",
    "    except:\n",
    "        print(word, ' is not in the dictionary')\n",
    "    \n",
    "    past_prons.append('')"
   ]
  },
  {
   "cell_type": "code",
   "execution_count": 153,
   "metadata": {
    "collapsed": false
   },
   "outputs": [],
   "source": [
    "def recurs(kanji, word, pron_list, done = False):\n",
    "    if len(pron_list) == len(kanji):\n",
    "        return None, False #pron_list?\n",
    "    cur = kanji[len(pron_list)]\n",
    "    if re.match(\"\"\"[\\u3040-\\u30ff]\"\"\", cur) != None and cur == word[0]: #should we romkan to hiragana?? ALSO HYPHEN\n",
    "        prons = cur\n",
    "    else:\n",
    "        prons = char_ser[cur] # .sort(key=len, reverse=True)\n",
    "    for pron in prons:\n",
    "        wordmatch = word[:len(pron)]\n",
    "        wordmatch = unvoice(wordmatch[0]) + wordmatch[1:]\n",
    "        if pron == wordmatch:\n",
    "            pron_list.append(word[:len(pron)])\n",
    "            word = word[len(pron):]\n",
    "            if len(pron_list) == len(kanji) and len(word) == 0: ## I didn't check for if I end too soon\n",
    "                return pron_list, True\n",
    "            new_pron_list, done = recurs(kanji,word,pron_list,done)\n",
    "            if done:\n",
    "                return new_pron_list, done\n",
    "            word = pron_list.pop() + word\n",
    "    return None, False\n",
    "\n",
    "# update with unvoice the first syllable of word\n",
    "\n",
    "\n",
    "#for _,line in jlpt.iterrows():\n",
    "#    word = line.Kanji\n",
    "#    cur = 0\n",
    "#    pron = line.Hiragana\n",
    "#    prons = list()\n",
    "#    check_word(word,cur,pron,prons,'')\n",
    "#    break\n",
    "#for a in jlpt.iterrows():\n",
    "#    print(a)"
   ]
  },
  {
   "cell_type": "code",
   "execution_count": 154,
   "metadata": {
    "collapsed": false
   },
   "outputs": [
    {
     "data": {
      "text/plain": [
       "(['ふ', 'ろ', 'しき'], True)"
      ]
     },
     "execution_count": 154,
     "metadata": {},
     "output_type": "execute_result"
    }
   ],
   "source": [
    "#char_ser['車']\n",
    "recurs('風呂敷','ふろしき',[])\n",
    "#char_ser['敷']#.sort(key=len, reverse=True)    # EITHER INCLUDE NANORI OR FIX THE ABOVE"
   ]
  },
  {
   "cell_type": "code",
   "execution_count": 43,
   "metadata": {
    "collapsed": false
   },
   "outputs": [],
   "source": [
    "#jlpt[jlpt.Kanji.str.contains('亜')]\n",
    "#jlpt[jlpt.Kanji.isnull()]\n",
    "jlpt = jlpt[jlpt.Kanji.isnull() == 0]# and jlpt.Hiragana.isnull() == 0 and jlpt.English.isnull() == 0]\n",
    "jlpt = jlpt[jlpt.Hiragana.isnull() == 0]\n",
    "jlpt = jlpt[jlpt.English.isnull() == 0]\n",
    "#print(jlpt)"
   ]
  },
  {
   "cell_type": "code",
   "execution_count": 45,
   "metadata": {
    "collapsed": true
   },
   "outputs": [],
   "source": [
    "char_on = pd.Series(kanji.on.values,index=kanji.character).to_dict()\n",
    "char_kun = pd.Series(kanji.kun.values,index=kanji.character).to_dict()"
   ]
  },
  {
   "cell_type": "code",
   "execution_count": 96,
   "metadata": {
    "collapsed": false
   },
   "outputs": [
    {
     "data": {
      "text/html": [
       "<div>\n",
       "<table border=\"1\" class=\"dataframe\">\n",
       "  <thead>\n",
       "    <tr style=\"text-align: right;\">\n",
       "      <th></th>\n",
       "      <th>Kanji</th>\n",
       "      <th>Hiragana</th>\n",
       "      <th>English</th>\n",
       "    </tr>\n",
       "  </thead>\n",
       "  <tbody>\n",
       "    <tr>\n",
       "      <th>0</th>\n",
       "      <td>嗚呼</td>\n",
       "      <td>ああ</td>\n",
       "      <td>Ah!, Oh!, Alas!</td>\n",
       "    </tr>\n",
       "    <tr>\n",
       "      <th>1</th>\n",
       "      <td>相</td>\n",
       "      <td>あい</td>\n",
       "      <td>together, mutually, fellow</td>\n",
       "    </tr>\n",
       "    <tr>\n",
       "      <th>2</th>\n",
       "      <td>相変わらず</td>\n",
       "      <td>あいかわらず</td>\n",
       "      <td>as ever, as usual, the same</td>\n",
       "    </tr>\n",
       "    <tr>\n",
       "      <th>3</th>\n",
       "      <td>愛想</td>\n",
       "      <td>あいそ</td>\n",
       "      <td>civility, courtesy, compliments, sociability, ...</td>\n",
       "    </tr>\n",
       "    <tr>\n",
       "      <th>4</th>\n",
       "      <td>相対</td>\n",
       "      <td>あいたい</td>\n",
       "      <td>confrontation, facing, between ourselves, no t...</td>\n",
       "    </tr>\n",
       "  </tbody>\n",
       "</table>\n",
       "</div>"
      ],
      "text/plain": [
       "   Kanji Hiragana                                            English\n",
       "0     嗚呼       ああ                                    Ah!, Oh!, Alas!\n",
       "1      相       あい                         together, mutually, fellow\n",
       "2  相変わらず   あいかわらず                        as ever, as usual, the same\n",
       "3     愛想      あいそ  civility, courtesy, compliments, sociability, ...\n",
       "4     相対     あいたい  confrontation, facing, between ourselves, no t..."
      ]
     },
     "execution_count": 96,
     "metadata": {},
     "output_type": "execute_result"
    }
   ],
   "source": [
    "#jlpt[jlpt.Kanji.str.contains('亜')]\n",
    "jlpt.head()"
   ]
  },
  {
   "cell_type": "code",
   "execution_count": 81,
   "metadata": {
    "collapsed": false
   },
   "outputs": [],
   "source": [
    "#vocab.vocab kanji.character[0]\n",
    "\n",
    "#vocab[vocab.vocab.str.contains('亜')]\n",
    "#irregular.head()#[irregular.Link == '印度尼西亜']\n",
    "#print(vocab[vocab.vocab == '印度尼西亜'])\n",
    "#print('印', char_ser['印'])\n",
    "#print('度', char_ser['度'])\n",
    "#print('尼', char_ser['尼'])\n",
    "#print('西', char_ser['西'])\n",
    "#print('亜', char_ser['亜'])\n",
    "\n",
    "#print(kanji.kun[kanji.character == '尼'])"
   ]
  },
  {
   "cell_type": "code",
   "execution_count": 139,
   "metadata": {
    "collapsed": true
   },
   "outputs": [],
   "source": [
    "def kanjiru(index = 25):\n",
    "    word = vocab.loc[index].vocab\n",
    "    pron = vocab.loc[index].pronunciation\n",
    "    print(word, pron)\n",
    "    for ji in word:\n",
    "        if re.match(\"\"\"[\\u3040-\\u30ff]\"\"\",ji) != None:\n",
    "            print(ji, ji)\n",
    "            pron = pron[1:]\n",
    "        else:\n",
    "            pron_list = char_ser[ji]\n",
    "            pron_list.sort(key=len, reverse=True)\n",
    "            print(pron_list)\n",
    "            for pr in pron_list:\n",
    "                if pron[0:len(pr)] == pr: # re match beginning of string\n",
    "                    print(ji, pr)\n",
    "                    pron = pron[len(pr):]\n",
    "# IF FAIL THEN TRY AGAIN FROM LESS PRON. IF FAIL AGAIN THEN TRY IN REVERSE. IF FAIL AGAIN..."
   ]
  },
  {
   "cell_type": "code",
   "execution_count": 92,
   "metadata": {
    "collapsed": false
   },
   "outputs": [
    {
     "name": "stdout",
     "output_type": "stream",
     "text": [
      "['かん']\n",
      "漢 かん\n",
      "['すう', 'さく', 'そく', 'しゅ', 'す']\n",
      "数 すう\n",
      "['じ']\n",
      "字 じ\n"
     ]
    }
   ],
   "source": [
    "\n",
    "word = '漢数字'\n",
    "pron = 'かんすうじ'\n",
    "for ji in word:\n",
    "    pron_list = re.findall(\"\"\"[\\u3040-\\u309f]+\"\"\", char_ser[ji])\n",
    "    pron_list.sort(key=len, reverse=True)\n",
    "    print(pron_list)\n",
    "    for pr in pron_list:\n",
    "        if pron[0:len(pr)] == pr: # re match beginning of string\n",
    "            print(ji, pr)\n",
    "            pron = pron[len(pr):]\n",
    "    #re.match()\n",
    "    \n",
    "#next match up each kanji to on or kun for exploratory analysis\n",
    "\n",
    "#Maybe if word is only kanji - first check on list, if word is mixture - first check kun?\n",
    "\n",
    "# Also put in checks for hirgana matching ()"
   ]
  },
  {
   "cell_type": "code",
   "execution_count": 152,
   "metadata": {
    "collapsed": false
   },
   "outputs": [
    {
     "name": "stdout",
     "output_type": "stream",
     "text": [
      "821    [み, おん, お]\n",
      "Name: kun, dtype: object\n",
      "5494    [むつき]\n",
      "Name: kun, dtype: object\n",
      "5488    [むつき]\n",
      "Name: kun, dtype: object\n",
      "473    [いき]\n",
      "Name: kun, dtype: object\n",
      "1417    [さわ, ふ]\n",
      "Name: kun, dtype: object\n"
     ]
    }
   ],
   "source": [
    "#kanjiru(28)\n",
    "#char_ser['呪']\n",
    "print(kanji.kun[kanji.character =='御'])\n",
    "print(kanji.kun[kanji.character =='襁'])\n",
    "print(kanji.kun[kanji.character =='褓'])\n",
    "print(kanji.kun[kanji.character =='気'])\n",
    "print(kanji.kun[kanji.character =='触'])"
   ]
  },
  {
   "cell_type": "code",
   "execution_count": 128,
   "metadata": {
    "collapsed": false
   },
   "outputs": [
    {
     "data": {
      "text/html": [
       "<div>\n",
       "<table border=\"1\" class=\"dataframe\">\n",
       "  <thead>\n",
       "    <tr style=\"text-align: right;\">\n",
       "      <th></th>\n",
       "      <th>character</th>\n",
       "      <th>freq</th>\n",
       "      <th>meaning</th>\n",
       "      <th>on</th>\n",
       "      <th>kun</th>\n",
       "      <th>nanori</th>\n",
       "      <th>onkun</th>\n",
       "    </tr>\n",
       "  </thead>\n",
       "  <tbody>\n",
       "    <tr>\n",
       "      <th>2663</th>\n",
       "      <td>明</td>\n",
       "      <td>67.0</td>\n",
       "      <td>[bright, light]</td>\n",
       "      <td>[みょう, めい, みん]</td>\n",
       "      <td>[あ, あか, あか, あか, あき, あ, あ, あ, あ, あ]</td>\n",
       "      <td>[あきら, あけ, あす, きら, け, さや, さやか, とし, はる, み, め]</td>\n",
       "      <td>[みょう, あか, あか, あか, あき, めい, みん, あ, あ, あ, あ, あ, あ]</td>\n",
       "    </tr>\n",
       "  </tbody>\n",
       "</table>\n",
       "</div>"
      ],
      "text/plain": [
       "     character  freq          meaning             on  \\\n",
       "2663         明  67.0  [bright, light]  [みょう, めい, みん]   \n",
       "\n",
       "                                     kun  \\\n",
       "2663  [あ, あか, あか, あか, あき, あ, あ, あ, あ, あ]   \n",
       "\n",
       "                                           nanori  \\\n",
       "2663  [あきら, あけ, あす, きら, け, さや, さやか, とし, はる, み, め]   \n",
       "\n",
       "                                                onkun  \n",
       "2663  [みょう, あか, あか, あか, あき, めい, みん, あ, あ, あ, あ, あ, あ]  "
      ]
     },
     "execution_count": 128,
     "metadata": {},
     "output_type": "execute_result"
    }
   ],
   "source": [
    "kanji[kanji.character == '明']"
   ]
  },
  {
   "cell_type": "code",
   "execution_count": 133,
   "metadata": {
    "collapsed": false
   },
   "outputs": [
    {
     "name": "stdout",
     "output_type": "stream",
     "text": [
      "['あ.かり', 'あか.るい', 'あか.るむ', 'あか.らむ', 'あき.らか', 'あ.ける', '-あ.け', 'あ.く', 'あ.くる', 'あ.かす']\n"
     ]
    }
   ],
   "source": [
    "#print(kanji[kanji.character == '漢'][['on','kun']])\n",
    "#print(kanji[kanji.character == '数'][['on','kun']])\n",
    "#print(kanji[kanji.character == '字'][['on','kun']])\n",
    "for a in kanji[kanji.character == '明'].kun:\n",
    "    print(a)"
   ]
  },
  {
   "cell_type": "code",
   "execution_count": 3,
   "metadata": {
    "collapsed": false
   },
   "outputs": [
    {
     "data": {
      "text/plain": [
       "32"
      ]
     },
     "execution_count": 3,
     "metadata": {},
     "output_type": "execute_result"
    }
   ],
   "source": [
    "#nounDic = pd.DataFrame(columns=['kanji','pronunciation','type','meaning'])\n",
    "dir = os.path.dirname('''../data/created/JMdict_e.csv''')\n",
    "if not os.path.exists(dir):\n",
    "    os.makedirs(dir)\n",
    "\n",
    "file = open('''../data/created/JMdict_e.csv''', 'w+')\n",
    "file.truncate()\n",
    "file.write('vocab\\tpronunciation\\tpos\\tmeaning\\n')"
   ]
  },
  {
   "cell_type": "code",
   "execution_count": 4,
   "metadata": {
    "collapsed": false
   },
   "outputs": [],
   "source": [
    "#i = 0\n",
    "for noun in root.findall('entry'):\n",
    "  word = noun.find('k_ele')\n",
    "  if word is not None:\n",
    "    word = word.find('keb').text\n",
    "    pron = noun.find('r_ele').find('reb').text\n",
    "    noun_child = noun.find('sense')\n",
    "    noun_type = noun_child.find('pos').text\n",
    "    meaning = noun_child.find('gloss').text\n",
    "    file.write(word + '\\t' + pron + '\\t' + noun_type + '\\t' + meaning + '\\n')\n",
    "    #if noun_child.find('pos') is not None:\n",
    "    #  noun_type = noun_child.find('name_type').text\n",
    "    #  meaning = noun_child.find('trans_det').text\n",
    "    #  file.write(word + '\\t' + pron + '\\t' + noun_type + '\\t' + meaning + '\\n')\n",
    "    #nounDic.loc[i] = [word,pron,noun_type,meaning] # taking all the time (probably)\n",
    "    #i = i + 1\n",
    "    \n",
    "    #try to write directly to a CSV file (keep file open)\n",
    "\n",
    "#kanji_list = []\n",
    "#pron_list = []\n",
    "#type_list = []\n",
    "#meaning_list = []\n",
    "#for noun in root.findall('entry'):\n",
    "#  kanji = noun.find('k_ele')\n",
    "#  if kanji is not None:\n",
    "#    noun_child = noun.find('trans')\n",
    "#    if noun_child is not None:\n",
    "#      if noun.find('r_ele') is not None:\n",
    "#        if noun_child.find('name_type') is not None:\n",
    "#          kanji_list.append(kanji.find('keb').text)\n",
    "#          pron_list.append(noun.find('r_ele').find('reb').text)\n",
    "#          type_list.append(noun_child.find('name_type').text)\n",
    "#          meaning_list.append(noun_child.find('trans_det').text)\n",
    "#    nounDic.loc[i] = [kanji,pron,noun_type,meaning]\n",
    "#    i = i + 1\n",
    "#nounDic = pd.DataFrame({'kanji': kanji_list,'pronunciation': pron_list,'type': type_list,'meaning': meaning_list}, columns=['kanji','pronunciation','type','meaning'])\n",
    "\n",
    "  #freq = noun.find('misc').find('freq') #check if none\n",
    "  #if freq != None:\n",
    "  #      freq = freq.text\n",
    "  #character = noun.find('literal').text\n",
    "  #noun_child = noun.find('reading_meaning')\n",
    "  #if noun_child != None:\n",
    "  #  noun_child = noun_child.find('rmgroup')\n",
    "  #  if noun_child != None:\n",
    "  #    meaning_list = noun_child.findall('meaning') #list of elements -> list of text\n",
    "  #    meaning = [m.text if m.attrib == {} else None for m in meaning_list] #remove Nones now\n",
    "  #    meaning = [m for m in meaning if m is not None]\n",
    "  #    reading_list = noun_child.findall('reading')\n",
    "  #    on = [o.text if o.attrib == {'r_type': 'ja_on'} else None for o in reading_list] #remove Nones now\n",
    "  #    kun = [k.text if k.attrib == {'r_type': 'ja_kun'} else None for k in reading_list]\n",
    "  #    on = [o for o in on if o is not None]\n",
    "  #    kun = [k for k in kun if k is not None]\n",
    "  #    nanori_list = noun.find('reading_meaning').findall('nanori')\n",
    "  #    nanori = [a.text for a in nanori_list]\n",
    "  #    nounDic.loc[i] = [character,freq,meaning,on,kun,nanori]\n",
    "  #    i = i + 1"
   ]
  },
  {
   "cell_type": "code",
   "execution_count": 6,
   "metadata": {
    "collapsed": false
   },
   "outputs": [
    {
     "data": {
      "text/html": [
       "<div>\n",
       "<table border=\"1\" class=\"dataframe\">\n",
       "  <thead>\n",
       "    <tr style=\"text-align: right;\">\n",
       "      <th></th>\n",
       "      <th>kanji</th>\n",
       "      <th>pronunciation</th>\n",
       "      <th>type</th>\n",
       "      <th>meaning</th>\n",
       "    </tr>\n",
       "  </thead>\n",
       "  <tbody>\n",
       "    <tr>\n",
       "      <th>306515</th>\n",
       "      <td>沼田町</td>\n",
       "      <td>ぬまたちょう</td>\n",
       "      <td>place name</td>\n",
       "      <td>Numatachou</td>\n",
       "    </tr>\n",
       "    <tr>\n",
       "      <th>306516</th>\n",
       "      <td>沼田町</td>\n",
       "      <td>ぬまたまち</td>\n",
       "      <td>place name</td>\n",
       "      <td>Numatamachi</td>\n",
       "    </tr>\n",
       "    <tr>\n",
       "      <th>306517</th>\n",
       "      <td>沼田町阿戸</td>\n",
       "      <td>ぬまたちょうあと</td>\n",
       "      <td>place name</td>\n",
       "      <td>Numatachouato</td>\n",
       "    </tr>\n",
       "    <tr>\n",
       "      <th>306518</th>\n",
       "      <td>沼田町吉山</td>\n",
       "      <td>ぬまたちょうよしやま</td>\n",
       "      <td>place name</td>\n",
       "      <td>Numatachouyoshiyama</td>\n",
       "    </tr>\n",
       "    <tr>\n",
       "      <th>306519</th>\n",
       "      <td>沼田町大塚</td>\n",
       "      <td>ぬまたちょうおおつか</td>\n",
       "      <td>place name</td>\n",
       "      <td>Numatachouootsuka</td>\n",
       "    </tr>\n",
       "  </tbody>\n",
       "</table>\n",
       "</div>"
      ],
      "text/plain": [
       "        kanji pronunciation        type              meaning\n",
       "306515    沼田町        ぬまたちょう  place name           Numatachou\n",
       "306516    沼田町         ぬまたまち  place name          Numatamachi\n",
       "306517  沼田町阿戸      ぬまたちょうあと  place name        Numatachouato\n",
       "306518  沼田町吉山    ぬまたちょうよしやま  place name  Numatachouyoshiyama\n",
       "306519  沼田町大塚    ぬまたちょうおおつか  place name    Numatachouootsuka"
      ]
     },
     "execution_count": 6,
     "metadata": {},
     "output_type": "execute_result"
    }
   ],
   "source": [
    "#nounDic.tail()"
   ]
  },
  {
   "cell_type": "code",
   "execution_count": 20,
   "metadata": {
    "collapsed": true
   },
   "outputs": [],
   "source": [
    "#temp = {}"
   ]
  },
  {
   "cell_type": "code",
   "execution_count": 22,
   "metadata": {
    "collapsed": false
   },
   "outputs": [],
   "source": [
    "#temp.update({'boy':1})"
   ]
  },
  {
   "cell_type": "code",
   "execution_count": 23,
   "metadata": {
    "collapsed": false
   },
   "outputs": [
    {
     "data": {
      "text/plain": [
       "{'boy': 1}"
      ]
     },
     "execution_count": 23,
     "metadata": {},
     "output_type": "execute_result"
    }
   ],
   "source": [
    "#temp"
   ]
  },
  {
   "cell_type": "code",
   "execution_count": 5,
   "metadata": {
    "collapsed": true
   },
   "outputs": [],
   "source": [
    "file.close()"
   ]
  },
  {
   "cell_type": "code",
   "execution_count": 1,
   "metadata": {
    "collapsed": false
   },
   "outputs": [
    {
     "ename": "ImportError",
     "evalue": "No module named 'romkan'",
     "output_type": "error",
     "traceback": [
      "\u001b[0;31m---------------------------------------------------------------------------\u001b[0m",
      "\u001b[0;31mImportError\u001b[0m                               Traceback (most recent call last)",
      "\u001b[0;32m<ipython-input-1-34a2a621e58b>\u001b[0m in \u001b[0;36m<module>\u001b[0;34m()\u001b[0m\n\u001b[0;32m----> 1\u001b[0;31m \u001b[0;32mimport\u001b[0m \u001b[0mromkan\u001b[0m\u001b[0;34m\u001b[0m\u001b[0m\n\u001b[0m",
      "\u001b[0;31mImportError\u001b[0m: No module named 'romkan'"
     ]
    }
   ],
   "source": [
    "#import romkan"
   ]
  },
  {
   "cell_type": "code",
   "execution_count": 6,
   "metadata": {
    "collapsed": true
   },
   "outputs": [],
   "source": [
    "# now create a dictionary of {word: meaning} and write to json file -- this is for personal website !!!!"
   ]
  },
  {
   "cell_type": "code",
   "execution_count": 11,
   "metadata": {
    "collapsed": false
   },
   "outputs": [],
   "source": [
    "all_words = pd.read_csv('../data/created/JMdict_e.csv', sep='\\t')"
   ]
  },
  {
   "cell_type": "code",
   "execution_count": 50,
   "metadata": {
    "collapsed": false
   },
   "outputs": [],
   "source": [
    "words_dict = {}\n",
    "for entry in all_words.iterrows():\n",
    "    words_dict.update({entry[1][0]:entry[1][1] + '\\t' + entry[1][2] + '\\t' + entry[1][3]})"
   ]
  },
  {
   "cell_type": "code",
   "execution_count": 19,
   "metadata": {
    "collapsed": false
   },
   "outputs": [
    {
     "data": {
      "text/html": [
       "<div>\n",
       "<table border=\"1\" class=\"dataframe\">\n",
       "  <thead>\n",
       "    <tr style=\"text-align: right;\">\n",
       "      <th></th>\n",
       "      <th>vocab</th>\n",
       "      <th>pronunciation</th>\n",
       "      <th>pos</th>\n",
       "      <th>meaning</th>\n",
       "    </tr>\n",
       "  </thead>\n",
       "  <tbody>\n",
       "    <tr>\n",
       "      <th>0</th>\n",
       "      <td>〃</td>\n",
       "      <td>おなじ</td>\n",
       "      <td>noun (common) (futsuumeishi)</td>\n",
       "      <td>ditto mark</td>\n",
       "    </tr>\n",
       "    <tr>\n",
       "      <th>1</th>\n",
       "      <td>仝</td>\n",
       "      <td>どうじょう</td>\n",
       "      <td>noun (common) (futsuumeishi)</td>\n",
       "      <td>as above mark</td>\n",
       "    </tr>\n",
       "    <tr>\n",
       "      <th>2</th>\n",
       "      <td>々</td>\n",
       "      <td>くりかえし</td>\n",
       "      <td>noun (common) (futsuumeishi)</td>\n",
       "      <td>repetition of kanji (sometimes voiced)</td>\n",
       "    </tr>\n",
       "    <tr>\n",
       "      <th>3</th>\n",
       "      <td>漢数字ゼロ</td>\n",
       "      <td>かんすうじゼロ</td>\n",
       "      <td>noun (common) (futsuumeishi)</td>\n",
       "      <td>kanji zero</td>\n",
       "    </tr>\n",
       "    <tr>\n",
       "      <th>4</th>\n",
       "      <td>○</td>\n",
       "      <td>まる</td>\n",
       "      <td>noun (common) (futsuumeishi)</td>\n",
       "      <td>circle (sometimes used for zero)</td>\n",
       "    </tr>\n",
       "  </tbody>\n",
       "</table>\n",
       "</div>"
      ],
      "text/plain": [
       "   vocab pronunciation                           pos  \\\n",
       "0      〃           おなじ  noun (common) (futsuumeishi)   \n",
       "1      仝         どうじょう  noun (common) (futsuumeishi)   \n",
       "2      々         くりかえし  noun (common) (futsuumeishi)   \n",
       "3  漢数字ゼロ       かんすうじゼロ  noun (common) (futsuumeishi)   \n",
       "4      ○            まる  noun (common) (futsuumeishi)   \n",
       "\n",
       "                                  meaning  \n",
       "0                              ditto mark  \n",
       "1                           as above mark  \n",
       "2  repetition of kanji (sometimes voiced)  \n",
       "3                              kanji zero  \n",
       "4        circle (sometimes used for zero)  "
      ]
     },
     "execution_count": 19,
     "metadata": {},
     "output_type": "execute_result"
    }
   ],
   "source": [
    "all_words.head()"
   ]
  },
  {
   "cell_type": "code",
   "execution_count": 36,
   "metadata": {
    "collapsed": false
   },
   "outputs": [
    {
     "ename": "IndexError",
     "evalue": "tuple index out of range",
     "output_type": "error",
     "traceback": [
      "\u001b[0;31m---------------------------------------------------------------------------\u001b[0m",
      "\u001b[0;31mIndexError\u001b[0m                                Traceback (most recent call last)",
      "\u001b[0;32m<ipython-input-36-0b1231a71862>\u001b[0m in \u001b[0;36m<module>\u001b[0;34m()\u001b[0m\n\u001b[0;32m----> 1\u001b[0;31m \u001b[0mnext\u001b[0m\u001b[0;34m(\u001b[0m\u001b[0mall_words\u001b[0m\u001b[0;34m.\u001b[0m\u001b[0miterrows\u001b[0m\u001b[0;34m(\u001b[0m\u001b[0;34m)\u001b[0m\u001b[0;34m)\u001b[0m\u001b[0;34m[\u001b[0m\u001b[0;36m2\u001b[0m\u001b[0;34m]\u001b[0m\u001b[0;34m[\u001b[0m\u001b[0;36m2\u001b[0m\u001b[0;34m]\u001b[0m\u001b[0;34m\u001b[0m\u001b[0m\n\u001b[0m",
      "\u001b[0;31mIndexError\u001b[0m: tuple index out of range"
     ]
    }
   ],
   "source": [
    "#next(all_words.iterrows())[2][2]"
   ]
  },
  {
   "cell_type": "code",
   "execution_count": 51,
   "metadata": {
    "collapsed": false
   },
   "outputs": [],
   "source": [
    "import json\n",
    "\n",
    "# load from file:\n",
    "#with open('/path/to/my_file.json', 'r') as f:\n",
    "#    try:\n",
    "#        data = json.load(f)\n",
    "#    # if the file is empty the ValueError will be thrown\n",
    "#    except ValueError:\n",
    "#        data = {}\n",
    "\n",
    "# save to file:\n",
    "with open('../word_dictionary.json', 'w') as f:\n",
    "    json.dump(words_dict, f)\n"
   ]
  },
  {
   "cell_type": "code",
   "execution_count": null,
   "metadata": {
    "collapsed": true
   },
   "outputs": [],
   "source": []
  }
 ],
 "metadata": {
  "anaconda-cloud": {},
  "kernelspec": {
   "display_name": "Python 3",
   "language": "python",
   "name": "python3"
  },
  "language_info": {
   "codemirror_mode": {
    "name": "ipython",
    "version": 3
   },
   "file_extension": ".py",
   "mimetype": "text/x-python",
   "name": "python",
   "nbconvert_exporter": "python",
   "pygments_lexer": "ipython3",
   "version": "3.5.2"
  }
 },
 "nbformat": 4,
 "nbformat_minor": 0
}
