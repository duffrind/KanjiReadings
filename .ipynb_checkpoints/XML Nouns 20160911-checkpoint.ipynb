{
 "cells": [
  {
   "cell_type": "code",
   "execution_count": 1,
   "metadata": {
    "collapsed": true
   },
   "outputs": [],
   "source": [
    "# convert xml to csv"
   ]
  },
  {
   "cell_type": "code",
   "execution_count": 1,
   "metadata": {
    "collapsed": false
   },
   "outputs": [],
   "source": [
    "import xml.etree.ElementTree as ET\n",
    "import pandas as pd\n",
    "import os"
   ]
  },
  {
   "cell_type": "code",
   "execution_count": 2,
   "metadata": {
    "collapsed": true
   },
   "outputs": [],
   "source": [
    "tree = ET.parse('../data/etc/JMdict_e.xml')\n",
    "root = tree.getroot()"
   ]
  },
  {
   "cell_type": "code",
   "execution_count": 3,
   "metadata": {
    "collapsed": false
   },
   "outputs": [],
   "source": [
    "#root.findall('entry')"
   ]
  },
  {
   "cell_type": "code",
   "execution_count": 3,
   "metadata": {
    "collapsed": false
   },
   "outputs": [
    {
     "data": {
      "text/plain": [
       "32"
      ]
     },
     "execution_count": 3,
     "metadata": {},
     "output_type": "execute_result"
    }
   ],
   "source": [
    "#nounDic = pd.DataFrame(columns=['kanji','pronunciation','type','meaning'])\n",
    "dir = os.path.dirname('''../data/created/JMdict_e.csv''')\n",
    "if not os.path.exists(dir):\n",
    "    os.makedirs(dir)\n",
    "\n",
    "file = open('''../data/created/JMdict_e.csv''', 'w+')\n",
    "file.truncate()\n",
    "file.write('vocab\\tpronunciation\\tpos\\tmeaning\\n')"
   ]
  },
  {
   "cell_type": "code",
   "execution_count": 4,
   "metadata": {
    "collapsed": false
   },
   "outputs": [],
   "source": [
    "#i = 0\n",
    "for noun in root.findall('entry'):\n",
    "  word = noun.find('k_ele')\n",
    "  if word is not None:\n",
    "    word = word.find('keb').text\n",
    "    pron = noun.find('r_ele').find('reb').text\n",
    "    noun_child = noun.find('sense')\n",
    "    noun_type = noun_child.find('pos').text\n",
    "    meaning = noun_child.find('gloss').text\n",
    "    file.write(word + '\\t' + pron + '\\t' + noun_type + '\\t' + meaning + '\\n')\n",
    "    #if noun_child.find('pos') is not None:\n",
    "    #  noun_type = noun_child.find('name_type').text\n",
    "    #  meaning = noun_child.find('trans_det').text\n",
    "    #  file.write(word + '\\t' + pron + '\\t' + noun_type + '\\t' + meaning + '\\n')\n",
    "    #nounDic.loc[i] = [word,pron,noun_type,meaning] # taking all the time (probably)\n",
    "    #i = i + 1\n",
    "    \n",
    "    #try to write directly to a CSV file (keep file open)\n",
    "\n",
    "#kanji_list = []\n",
    "#pron_list = []\n",
    "#type_list = []\n",
    "#meaning_list = []\n",
    "#for noun in root.findall('entry'):\n",
    "#  kanji = noun.find('k_ele')\n",
    "#  if kanji is not None:\n",
    "#    noun_child = noun.find('trans')\n",
    "#    if noun_child is not None:\n",
    "#      if noun.find('r_ele') is not None:\n",
    "#        if noun_child.find('name_type') is not None:\n",
    "#          kanji_list.append(kanji.find('keb').text)\n",
    "#          pron_list.append(noun.find('r_ele').find('reb').text)\n",
    "#          type_list.append(noun_child.find('name_type').text)\n",
    "#          meaning_list.append(noun_child.find('trans_det').text)\n",
    "#    nounDic.loc[i] = [kanji,pron,noun_type,meaning]\n",
    "#    i = i + 1\n",
    "#nounDic = pd.DataFrame({'kanji': kanji_list,'pronunciation': pron_list,'type': type_list,'meaning': meaning_list}, columns=['kanji','pronunciation','type','meaning'])\n",
    "\n",
    "  #freq = noun.find('misc').find('freq') #check if none\n",
    "  #if freq != None:\n",
    "  #      freq = freq.text\n",
    "  #character = noun.find('literal').text\n",
    "  #noun_child = noun.find('reading_meaning')\n",
    "  #if noun_child != None:\n",
    "  #  noun_child = noun_child.find('rmgroup')\n",
    "  #  if noun_child != None:\n",
    "  #    meaning_list = noun_child.findall('meaning') #list of elements -> list of text\n",
    "  #    meaning = [m.text if m.attrib == {} else None for m in meaning_list] #remove Nones now\n",
    "  #    meaning = [m for m in meaning if m is not None]\n",
    "  #    reading_list = noun_child.findall('reading')\n",
    "  #    on = [o.text if o.attrib == {'r_type': 'ja_on'} else None for o in reading_list] #remove Nones now\n",
    "  #    kun = [k.text if k.attrib == {'r_type': 'ja_kun'} else None for k in reading_list]\n",
    "  #    on = [o for o in on if o is not None]\n",
    "  #    kun = [k for k in kun if k is not None]\n",
    "  #    nanori_list = noun.find('reading_meaning').findall('nanori')\n",
    "  #    nanori = [a.text for a in nanori_list]\n",
    "  #    nounDic.loc[i] = [character,freq,meaning,on,kun,nanori]\n",
    "  #    i = i + 1"
   ]
  },
  {
   "cell_type": "code",
   "execution_count": 6,
   "metadata": {
    "collapsed": false
   },
   "outputs": [
    {
     "data": {
      "text/html": [
       "<div>\n",
       "<table border=\"1\" class=\"dataframe\">\n",
       "  <thead>\n",
       "    <tr style=\"text-align: right;\">\n",
       "      <th></th>\n",
       "      <th>kanji</th>\n",
       "      <th>pronunciation</th>\n",
       "      <th>type</th>\n",
       "      <th>meaning</th>\n",
       "    </tr>\n",
       "  </thead>\n",
       "  <tbody>\n",
       "    <tr>\n",
       "      <th>306515</th>\n",
       "      <td>沼田町</td>\n",
       "      <td>ぬまたちょう</td>\n",
       "      <td>place name</td>\n",
       "      <td>Numatachou</td>\n",
       "    </tr>\n",
       "    <tr>\n",
       "      <th>306516</th>\n",
       "      <td>沼田町</td>\n",
       "      <td>ぬまたまち</td>\n",
       "      <td>place name</td>\n",
       "      <td>Numatamachi</td>\n",
       "    </tr>\n",
       "    <tr>\n",
       "      <th>306517</th>\n",
       "      <td>沼田町阿戸</td>\n",
       "      <td>ぬまたちょうあと</td>\n",
       "      <td>place name</td>\n",
       "      <td>Numatachouato</td>\n",
       "    </tr>\n",
       "    <tr>\n",
       "      <th>306518</th>\n",
       "      <td>沼田町吉山</td>\n",
       "      <td>ぬまたちょうよしやま</td>\n",
       "      <td>place name</td>\n",
       "      <td>Numatachouyoshiyama</td>\n",
       "    </tr>\n",
       "    <tr>\n",
       "      <th>306519</th>\n",
       "      <td>沼田町大塚</td>\n",
       "      <td>ぬまたちょうおおつか</td>\n",
       "      <td>place name</td>\n",
       "      <td>Numatachouootsuka</td>\n",
       "    </tr>\n",
       "  </tbody>\n",
       "</table>\n",
       "</div>"
      ],
      "text/plain": [
       "        kanji pronunciation        type              meaning\n",
       "306515    沼田町        ぬまたちょう  place name           Numatachou\n",
       "306516    沼田町         ぬまたまち  place name          Numatamachi\n",
       "306517  沼田町阿戸      ぬまたちょうあと  place name        Numatachouato\n",
       "306518  沼田町吉山    ぬまたちょうよしやま  place name  Numatachouyoshiyama\n",
       "306519  沼田町大塚    ぬまたちょうおおつか  place name    Numatachouootsuka"
      ]
     },
     "execution_count": 6,
     "metadata": {},
     "output_type": "execute_result"
    }
   ],
   "source": [
    "#nounDic.tail()"
   ]
  },
  {
   "cell_type": "code",
   "execution_count": 20,
   "metadata": {
    "collapsed": true
   },
   "outputs": [],
   "source": [
    "#temp = {}"
   ]
  },
  {
   "cell_type": "code",
   "execution_count": 22,
   "metadata": {
    "collapsed": false
   },
   "outputs": [],
   "source": [
    "#temp.update({'boy':1})"
   ]
  },
  {
   "cell_type": "code",
   "execution_count": 23,
   "metadata": {
    "collapsed": false
   },
   "outputs": [
    {
     "data": {
      "text/plain": [
       "{'boy': 1}"
      ]
     },
     "execution_count": 23,
     "metadata": {},
     "output_type": "execute_result"
    }
   ],
   "source": [
    "#temp"
   ]
  },
  {
   "cell_type": "code",
   "execution_count": 5,
   "metadata": {
    "collapsed": true
   },
   "outputs": [],
   "source": [
    "file.close()"
   ]
  },
  {
   "cell_type": "code",
   "execution_count": 1,
   "metadata": {
    "collapsed": false
   },
   "outputs": [
    {
     "ename": "ImportError",
     "evalue": "No module named 'romkan'",
     "output_type": "error",
     "traceback": [
      "\u001b[0;31m---------------------------------------------------------------------------\u001b[0m",
      "\u001b[0;31mImportError\u001b[0m                               Traceback (most recent call last)",
      "\u001b[0;32m<ipython-input-1-34a2a621e58b>\u001b[0m in \u001b[0;36m<module>\u001b[0;34m()\u001b[0m\n\u001b[0;32m----> 1\u001b[0;31m \u001b[0;32mimport\u001b[0m \u001b[0mromkan\u001b[0m\u001b[0;34m\u001b[0m\u001b[0m\n\u001b[0m",
      "\u001b[0;31mImportError\u001b[0m: No module named 'romkan'"
     ]
    }
   ],
   "source": [
    "#import romkan"
   ]
  },
  {
   "cell_type": "code",
   "execution_count": 6,
   "metadata": {
    "collapsed": true
   },
   "outputs": [],
   "source": [
    "# now create a dictionary of {word: meaning} and write to json file -- this is for personal website !!!!"
   ]
  },
  {
   "cell_type": "code",
   "execution_count": 11,
   "metadata": {
    "collapsed": false
   },
   "outputs": [],
   "source": [
    "all_words = pd.read_csv('../data/created/JMdict_e.csv', sep='\\t')"
   ]
  },
  {
   "cell_type": "code",
   "execution_count": 50,
   "metadata": {
    "collapsed": false
   },
   "outputs": [],
   "source": [
    "words_dict = {}\n",
    "for entry in all_words.iterrows():\n",
    "    words_dict.update({entry[1][0]:entry[1][1] + '\\t' + entry[1][2] + '\\t' + entry[1][3]})"
   ]
  },
  {
   "cell_type": "code",
   "execution_count": 19,
   "metadata": {
    "collapsed": false
   },
   "outputs": [
    {
     "data": {
      "text/html": [
       "<div>\n",
       "<table border=\"1\" class=\"dataframe\">\n",
       "  <thead>\n",
       "    <tr style=\"text-align: right;\">\n",
       "      <th></th>\n",
       "      <th>vocab</th>\n",
       "      <th>pronunciation</th>\n",
       "      <th>pos</th>\n",
       "      <th>meaning</th>\n",
       "    </tr>\n",
       "  </thead>\n",
       "  <tbody>\n",
       "    <tr>\n",
       "      <th>0</th>\n",
       "      <td>〃</td>\n",
       "      <td>おなじ</td>\n",
       "      <td>noun (common) (futsuumeishi)</td>\n",
       "      <td>ditto mark</td>\n",
       "    </tr>\n",
       "    <tr>\n",
       "      <th>1</th>\n",
       "      <td>仝</td>\n",
       "      <td>どうじょう</td>\n",
       "      <td>noun (common) (futsuumeishi)</td>\n",
       "      <td>as above mark</td>\n",
       "    </tr>\n",
       "    <tr>\n",
       "      <th>2</th>\n",
       "      <td>々</td>\n",
       "      <td>くりかえし</td>\n",
       "      <td>noun (common) (futsuumeishi)</td>\n",
       "      <td>repetition of kanji (sometimes voiced)</td>\n",
       "    </tr>\n",
       "    <tr>\n",
       "      <th>3</th>\n",
       "      <td>漢数字ゼロ</td>\n",
       "      <td>かんすうじゼロ</td>\n",
       "      <td>noun (common) (futsuumeishi)</td>\n",
       "      <td>kanji zero</td>\n",
       "    </tr>\n",
       "    <tr>\n",
       "      <th>4</th>\n",
       "      <td>○</td>\n",
       "      <td>まる</td>\n",
       "      <td>noun (common) (futsuumeishi)</td>\n",
       "      <td>circle (sometimes used for zero)</td>\n",
       "    </tr>\n",
       "  </tbody>\n",
       "</table>\n",
       "</div>"
      ],
      "text/plain": [
       "   vocab pronunciation                           pos  \\\n",
       "0      〃           おなじ  noun (common) (futsuumeishi)   \n",
       "1      仝         どうじょう  noun (common) (futsuumeishi)   \n",
       "2      々         くりかえし  noun (common) (futsuumeishi)   \n",
       "3  漢数字ゼロ       かんすうじゼロ  noun (common) (futsuumeishi)   \n",
       "4      ○            まる  noun (common) (futsuumeishi)   \n",
       "\n",
       "                                  meaning  \n",
       "0                              ditto mark  \n",
       "1                           as above mark  \n",
       "2  repetition of kanji (sometimes voiced)  \n",
       "3                              kanji zero  \n",
       "4        circle (sometimes used for zero)  "
      ]
     },
     "execution_count": 19,
     "metadata": {},
     "output_type": "execute_result"
    }
   ],
   "source": [
    "all_words.head()"
   ]
  },
  {
   "cell_type": "code",
   "execution_count": 36,
   "metadata": {
    "collapsed": false
   },
   "outputs": [
    {
     "ename": "IndexError",
     "evalue": "tuple index out of range",
     "output_type": "error",
     "traceback": [
      "\u001b[0;31m---------------------------------------------------------------------------\u001b[0m",
      "\u001b[0;31mIndexError\u001b[0m                                Traceback (most recent call last)",
      "\u001b[0;32m<ipython-input-36-0b1231a71862>\u001b[0m in \u001b[0;36m<module>\u001b[0;34m()\u001b[0m\n\u001b[0;32m----> 1\u001b[0;31m \u001b[0mnext\u001b[0m\u001b[0;34m(\u001b[0m\u001b[0mall_words\u001b[0m\u001b[0;34m.\u001b[0m\u001b[0miterrows\u001b[0m\u001b[0;34m(\u001b[0m\u001b[0;34m)\u001b[0m\u001b[0;34m)\u001b[0m\u001b[0;34m[\u001b[0m\u001b[0;36m2\u001b[0m\u001b[0;34m]\u001b[0m\u001b[0;34m[\u001b[0m\u001b[0;36m2\u001b[0m\u001b[0;34m]\u001b[0m\u001b[0;34m\u001b[0m\u001b[0m\n\u001b[0m",
      "\u001b[0;31mIndexError\u001b[0m: tuple index out of range"
     ]
    }
   ],
   "source": [
    "#next(all_words.iterrows())[2][2]"
   ]
  },
  {
   "cell_type": "code",
   "execution_count": 51,
   "metadata": {
    "collapsed": false
   },
   "outputs": [],
   "source": [
    "import json\n",
    "\n",
    "# load from file:\n",
    "#with open('/path/to/my_file.json', 'r') as f:\n",
    "#    try:\n",
    "#        data = json.load(f)\n",
    "#    # if the file is empty the ValueError will be thrown\n",
    "#    except ValueError:\n",
    "#        data = {}\n",
    "\n",
    "# save to file:\n",
    "with open('../word_dictionary.json', 'w') as f:\n",
    "    json.dump(words_dict, f)\n"
   ]
  },
  {
   "cell_type": "code",
   "execution_count": null,
   "metadata": {
    "collapsed": true
   },
   "outputs": [],
   "source": []
  }
 ],
 "metadata": {
  "anaconda-cloud": {},
  "kernelspec": {
   "display_name": "Python 3",
   "language": "python",
   "name": "python3"
  },
  "language_info": {
   "codemirror_mode": {
    "name": "ipython",
    "version": 3
   },
   "file_extension": ".py",
   "mimetype": "text/x-python",
   "name": "python",
   "nbconvert_exporter": "python",
   "pygments_lexer": "ipython3",
   "version": "3.5.2"
  }
 },
 "nbformat": 4,
 "nbformat_minor": 0
}
