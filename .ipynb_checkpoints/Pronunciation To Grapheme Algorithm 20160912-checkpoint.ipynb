{
 "cells": [
  {
   "cell_type": "code",
   "execution_count": 8,
   "metadata": {
    "collapsed": true
   },
   "outputs": [],
   "source": [
    "import pandas as pd\n",
    "import os\n",
    "import re"
   ]
  },
  {
   "cell_type": "code",
   "execution_count": 20,
   "metadata": {
    "collapsed": false
   },
   "outputs": [],
   "source": [
    "# get irregular words from that one website and create a dict\n",
    "import romkan"
   ]
  },
  {
   "cell_type": "code",
   "execution_count": 17,
   "metadata": {
    "collapsed": false
   },
   "outputs": [],
   "source": [
    "vocab = pd.read_csv('../data/created/JMdict_e.csv', sep='\\t')\n",
    "kanji = pd.read_csv('../data/created/kanjidic2.csv')"
   ]
  },
  {
   "cell_type": "code",
   "execution_count": 71,
   "metadata": {
    "collapsed": false
   },
   "outputs": [],
   "source": [
    "#del kanji['Unnamed: 0']\n",
    "#vocab.head()\n",
    "#vocab.to_dict()\n",
    "#pd.Series(vocab.pronunciation.values,index=vocab.vocab).to_dict()\n",
    "\n",
    "\n",
    "#char_ser = pd.Series(kanji.on.values,index=kanji.character).to_dict()\n",
    "char_ser"
   ]
  },
  {
   "cell_type": "code",
   "execution_count": 44,
   "metadata": {
    "collapsed": false
   },
   "outputs": [
    {
     "data": {
      "text/html": [
       "<div>\n",
       "<table border=\"1\" class=\"dataframe\">\n",
       "  <thead>\n",
       "    <tr style=\"text-align: right;\">\n",
       "      <th></th>\n",
       "      <th>character</th>\n",
       "      <th>freq</th>\n",
       "      <th>meaning</th>\n",
       "      <th>on</th>\n",
       "      <th>kun</th>\n",
       "      <th>nanori</th>\n",
       "    </tr>\n",
       "  </thead>\n",
       "  <tbody>\n",
       "    <tr>\n",
       "      <th>0</th>\n",
       "      <td>亜</td>\n",
       "      <td>1509.0</td>\n",
       "      <td>['Asia', 'rank next', 'come after', '-ous']</td>\n",
       "      <td>['あ']</td>\n",
       "      <td>['つ.ぐ']</td>\n",
       "      <td>['や', 'つぎ', 'つぐ']</td>\n",
       "    </tr>\n",
       "    <tr>\n",
       "      <th>1</th>\n",
       "      <td>唖</td>\n",
       "      <td>NaN</td>\n",
       "      <td>['mute', 'dumb']</td>\n",
       "      <td>['あ', 'あく']</td>\n",
       "      <td>['おし']</td>\n",
       "      <td>[]</td>\n",
       "    </tr>\n",
       "    <tr>\n",
       "      <th>2</th>\n",
       "      <td>娃</td>\n",
       "      <td>NaN</td>\n",
       "      <td>['beautiful']</td>\n",
       "      <td>['あ', 'あい', 'わ']</td>\n",
       "      <td>['うつく.しい']</td>\n",
       "      <td>['い']</td>\n",
       "    </tr>\n",
       "    <tr>\n",
       "      <th>3</th>\n",
       "      <td>阿</td>\n",
       "      <td>1126.0</td>\n",
       "      <td>['Africa', 'flatter', 'fawn upon', 'corner', '...</td>\n",
       "      <td>['あ', 'お']</td>\n",
       "      <td>['おもね.る', 'くま']</td>\n",
       "      <td>['ほとり', 'あず', 'あわ', 'おか', 'きた', 'な']</td>\n",
       "    </tr>\n",
       "    <tr>\n",
       "      <th>4</th>\n",
       "      <td>哀</td>\n",
       "      <td>1715.0</td>\n",
       "      <td>['pathetic', 'grief', 'sorrow', 'pathos', 'pit...</td>\n",
       "      <td>['あい']</td>\n",
       "      <td>['あわ.れ', 'あわ.れむ', 'かな.しい']</td>\n",
       "      <td>[]</td>\n",
       "    </tr>\n",
       "  </tbody>\n",
       "</table>\n",
       "</div>"
      ],
      "text/plain": [
       "  character    freq                                            meaning  \\\n",
       "0         亜  1509.0        ['Asia', 'rank next', 'come after', '-ous']   \n",
       "1         唖     NaN                                   ['mute', 'dumb']   \n",
       "2         娃     NaN                                      ['beautiful']   \n",
       "3         阿  1126.0  ['Africa', 'flatter', 'fawn upon', 'corner', '...   \n",
       "4         哀  1715.0  ['pathetic', 'grief', 'sorrow', 'pathos', 'pit...   \n",
       "\n",
       "                 on                         kun  \\\n",
       "0             ['あ']                     ['つ.ぐ']   \n",
       "1       ['あ', 'あく']                      ['おし']   \n",
       "2  ['あ', 'あい', 'わ']                  ['うつく.しい']   \n",
       "3        ['あ', 'お']             ['おもね.る', 'くま']   \n",
       "4            ['あい']  ['あわ.れ', 'あわ.れむ', 'かな.しい']   \n",
       "\n",
       "                                 nanori  \n",
       "0                     ['や', 'つぎ', 'つぐ']  \n",
       "1                                    []  \n",
       "2                                 ['い']  \n",
       "3  ['ほとり', 'あず', 'あわ', 'おか', 'きた', 'な']  \n",
       "4                                    []  "
      ]
     },
     "execution_count": 44,
     "metadata": {},
     "output_type": "execute_result"
    }
   ],
   "source": [
    "#vocab.pronunciation = vocab.pronunciation.map(lambda x: romkan.to_hiragana(romkan.to_roma(x)))\n",
    "#vocab.head()\n",
    "kanji.on = kanji.on.map(lambda x: romkan.to_hiragana(romkan.to_roma(x)))\n",
    "kanji.head()"
   ]
  },
  {
   "cell_type": "code",
   "execution_count": 61,
   "metadata": {
    "collapsed": true
   },
   "outputs": [],
   "source": [
    "#import re"
   ]
  },
  {
   "cell_type": "code",
   "execution_count": 92,
   "metadata": {
    "collapsed": false
   },
   "outputs": [
    {
     "name": "stdout",
     "output_type": "stream",
     "text": [
      "['かん']\n",
      "漢 かん\n",
      "['すう', 'さく', 'そく', 'しゅ', 'す']\n",
      "数 すう\n",
      "['じ']\n",
      "字 じ\n"
     ]
    }
   ],
   "source": [
    "#del vocab['pos']\n",
    "#del vocab['meaning']\n",
    "\n",
    "word = '漢数字'\n",
    "pron = 'かんすうじ'\n",
    "for ji in word:\n",
    "    pron_list = re.findall(\"\"\"[\\u3040-\\u309f]+\"\"\", char_ser[ji])\n",
    "    pron_list.sort(key=len, reverse=True)\n",
    "    print(pron_list)\n",
    "    for pr in pron_list:\n",
    "        if pron[0:len(pr)] == pr: # re match beginning of string\n",
    "            print(ji, pr)\n",
    "            pron = pron[len(pr):]\n",
    "    #re.match()\n",
    "    \n",
    "#next match up each kanji to on or kun for exploratory analysis\n",
    "\n",
    "#Maybe if word is only kanji - first check on list, if word is mixture - first check kun?\n",
    "\n",
    "# Also put in checks for hirgana matching ()"
   ]
  },
  {
   "cell_type": "code",
   "execution_count": 89,
   "metadata": {
    "collapsed": false
   },
   "outputs": [
    {
     "data": {
      "text/plain": [
       "'か'"
      ]
     },
     "execution_count": 89,
     "metadata": {},
     "output_type": "execute_result"
    }
   ],
   "source": []
  },
  {
   "cell_type": "code",
   "execution_count": 65,
   "metadata": {
    "collapsed": false
   },
   "outputs": [
    {
     "data": {
      "text/html": [
       "<div>\n",
       "<table border=\"1\" class=\"dataframe\">\n",
       "  <thead>\n",
       "    <tr style=\"text-align: right;\">\n",
       "      <th></th>\n",
       "      <th>vocab</th>\n",
       "      <th>pronunciation</th>\n",
       "    </tr>\n",
       "  </thead>\n",
       "  <tbody>\n",
       "    <tr>\n",
       "      <th>0</th>\n",
       "      <td>〃</td>\n",
       "      <td>おなじ</td>\n",
       "    </tr>\n",
       "    <tr>\n",
       "      <th>1</th>\n",
       "      <td>仝</td>\n",
       "      <td>どうじょう</td>\n",
       "    </tr>\n",
       "    <tr>\n",
       "      <th>2</th>\n",
       "      <td>々</td>\n",
       "      <td>くりかえし</td>\n",
       "    </tr>\n",
       "    <tr>\n",
       "      <th>3</th>\n",
       "      <td>漢数字ゼロ</td>\n",
       "      <td>かんすうじぜろ</td>\n",
       "    </tr>\n",
       "    <tr>\n",
       "      <th>4</th>\n",
       "      <td>○</td>\n",
       "      <td>まる</td>\n",
       "    </tr>\n",
       "  </tbody>\n",
       "</table>\n",
       "</div>"
      ],
      "text/plain": [
       "   vocab pronunciation\n",
       "0      〃           おなじ\n",
       "1      仝         どうじょう\n",
       "2      々         くりかえし\n",
       "3  漢数字ゼロ       かんすうじぜろ\n",
       "4      ○            まる"
      ]
     },
     "execution_count": 65,
     "metadata": {},
     "output_type": "execute_result"
    }
   ],
   "source": [
    "vocab.head()"
   ]
  },
  {
   "cell_type": "code",
   "execution_count": 31,
   "metadata": {
    "collapsed": false
   },
   "outputs": [
    {
     "name": "stdout",
     "output_type": "stream",
     "text": [
      "         on kun\n",
      "408  ['カン']  []\n",
      "                                 on  \\\n",
      "1493  ['スウ', 'ス', 'サク', 'ソク', 'シュ']   \n",
      "\n",
      "                                             kun  \n",
      "1493  ['かず', 'かぞ.える', 'しばしば', 'せ.める', 'わずらわ.しい']  \n",
      "         on                  kun\n",
      "1123  ['ジ']  ['あざ', 'あざな', '-な']\n"
     ]
    }
   ],
   "source": [
    "print(kanji[kanji.character == '漢'][['on','kun']])\n",
    "print(kanji[kanji.character == '数'][['on','kun']])\n",
    "print(kanji[kanji.character == '字'][['on','kun']])"
   ]
  },
  {
   "cell_type": "code",
   "execution_count": 3,
   "metadata": {
    "collapsed": false
   },
   "outputs": [
    {
     "data": {
      "text/plain": [
       "32"
      ]
     },
     "execution_count": 3,
     "metadata": {},
     "output_type": "execute_result"
    }
   ],
   "source": [
    "#nounDic = pd.DataFrame(columns=['kanji','pronunciation','type','meaning'])\n",
    "dir = os.path.dirname('''../data/created/JMdict_e.csv''')\n",
    "if not os.path.exists(dir):\n",
    "    os.makedirs(dir)\n",
    "\n",
    "file = open('''../data/created/JMdict_e.csv''', 'w+')\n",
    "file.truncate()\n",
    "file.write('vocab\\tpronunciation\\tpos\\tmeaning\\n')"
   ]
  },
  {
   "cell_type": "code",
   "execution_count": 4,
   "metadata": {
    "collapsed": false
   },
   "outputs": [],
   "source": [
    "#i = 0\n",
    "for noun in root.findall('entry'):\n",
    "  word = noun.find('k_ele')\n",
    "  if word is not None:\n",
    "    word = word.find('keb').text\n",
    "    pron = noun.find('r_ele').find('reb').text\n",
    "    noun_child = noun.find('sense')\n",
    "    noun_type = noun_child.find('pos').text\n",
    "    meaning = noun_child.find('gloss').text\n",
    "    file.write(word + '\\t' + pron + '\\t' + noun_type + '\\t' + meaning + '\\n')\n",
    "    #if noun_child.find('pos') is not None:\n",
    "    #  noun_type = noun_child.find('name_type').text\n",
    "    #  meaning = noun_child.find('trans_det').text\n",
    "    #  file.write(word + '\\t' + pron + '\\t' + noun_type + '\\t' + meaning + '\\n')\n",
    "    #nounDic.loc[i] = [word,pron,noun_type,meaning] # taking all the time (probably)\n",
    "    #i = i + 1\n",
    "    \n",
    "    #try to write directly to a CSV file (keep file open)\n",
    "\n",
    "#kanji_list = []\n",
    "#pron_list = []\n",
    "#type_list = []\n",
    "#meaning_list = []\n",
    "#for noun in root.findall('entry'):\n",
    "#  kanji = noun.find('k_ele')\n",
    "#  if kanji is not None:\n",
    "#    noun_child = noun.find('trans')\n",
    "#    if noun_child is not None:\n",
    "#      if noun.find('r_ele') is not None:\n",
    "#        if noun_child.find('name_type') is not None:\n",
    "#          kanji_list.append(kanji.find('keb').text)\n",
    "#          pron_list.append(noun.find('r_ele').find('reb').text)\n",
    "#          type_list.append(noun_child.find('name_type').text)\n",
    "#          meaning_list.append(noun_child.find('trans_det').text)\n",
    "#    nounDic.loc[i] = [kanji,pron,noun_type,meaning]\n",
    "#    i = i + 1\n",
    "#nounDic = pd.DataFrame({'kanji': kanji_list,'pronunciation': pron_list,'type': type_list,'meaning': meaning_list}, columns=['kanji','pronunciation','type','meaning'])\n",
    "\n",
    "  #freq = noun.find('misc').find('freq') #check if none\n",
    "  #if freq != None:\n",
    "  #      freq = freq.text\n",
    "  #character = noun.find('literal').text\n",
    "  #noun_child = noun.find('reading_meaning')\n",
    "  #if noun_child != None:\n",
    "  #  noun_child = noun_child.find('rmgroup')\n",
    "  #  if noun_child != None:\n",
    "  #    meaning_list = noun_child.findall('meaning') #list of elements -> list of text\n",
    "  #    meaning = [m.text if m.attrib == {} else None for m in meaning_list] #remove Nones now\n",
    "  #    meaning = [m for m in meaning if m is not None]\n",
    "  #    reading_list = noun_child.findall('reading')\n",
    "  #    on = [o.text if o.attrib == {'r_type': 'ja_on'} else None for o in reading_list] #remove Nones now\n",
    "  #    kun = [k.text if k.attrib == {'r_type': 'ja_kun'} else None for k in reading_list]\n",
    "  #    on = [o for o in on if o is not None]\n",
    "  #    kun = [k for k in kun if k is not None]\n",
    "  #    nanori_list = noun.find('reading_meaning').findall('nanori')\n",
    "  #    nanori = [a.text for a in nanori_list]\n",
    "  #    nounDic.loc[i] = [character,freq,meaning,on,kun,nanori]\n",
    "  #    i = i + 1"
   ]
  },
  {
   "cell_type": "code",
   "execution_count": 6,
   "metadata": {
    "collapsed": false
   },
   "outputs": [
    {
     "data": {
      "text/html": [
       "<div>\n",
       "<table border=\"1\" class=\"dataframe\">\n",
       "  <thead>\n",
       "    <tr style=\"text-align: right;\">\n",
       "      <th></th>\n",
       "      <th>kanji</th>\n",
       "      <th>pronunciation</th>\n",
       "      <th>type</th>\n",
       "      <th>meaning</th>\n",
       "    </tr>\n",
       "  </thead>\n",
       "  <tbody>\n",
       "    <tr>\n",
       "      <th>306515</th>\n",
       "      <td>沼田町</td>\n",
       "      <td>ぬまたちょう</td>\n",
       "      <td>place name</td>\n",
       "      <td>Numatachou</td>\n",
       "    </tr>\n",
       "    <tr>\n",
       "      <th>306516</th>\n",
       "      <td>沼田町</td>\n",
       "      <td>ぬまたまち</td>\n",
       "      <td>place name</td>\n",
       "      <td>Numatamachi</td>\n",
       "    </tr>\n",
       "    <tr>\n",
       "      <th>306517</th>\n",
       "      <td>沼田町阿戸</td>\n",
       "      <td>ぬまたちょうあと</td>\n",
       "      <td>place name</td>\n",
       "      <td>Numatachouato</td>\n",
       "    </tr>\n",
       "    <tr>\n",
       "      <th>306518</th>\n",
       "      <td>沼田町吉山</td>\n",
       "      <td>ぬまたちょうよしやま</td>\n",
       "      <td>place name</td>\n",
       "      <td>Numatachouyoshiyama</td>\n",
       "    </tr>\n",
       "    <tr>\n",
       "      <th>306519</th>\n",
       "      <td>沼田町大塚</td>\n",
       "      <td>ぬまたちょうおおつか</td>\n",
       "      <td>place name</td>\n",
       "      <td>Numatachouootsuka</td>\n",
       "    </tr>\n",
       "  </tbody>\n",
       "</table>\n",
       "</div>"
      ],
      "text/plain": [
       "        kanji pronunciation        type              meaning\n",
       "306515    沼田町        ぬまたちょう  place name           Numatachou\n",
       "306516    沼田町         ぬまたまち  place name          Numatamachi\n",
       "306517  沼田町阿戸      ぬまたちょうあと  place name        Numatachouato\n",
       "306518  沼田町吉山    ぬまたちょうよしやま  place name  Numatachouyoshiyama\n",
       "306519  沼田町大塚    ぬまたちょうおおつか  place name    Numatachouootsuka"
      ]
     },
     "execution_count": 6,
     "metadata": {},
     "output_type": "execute_result"
    }
   ],
   "source": [
    "#nounDic.tail()"
   ]
  },
  {
   "cell_type": "code",
   "execution_count": 20,
   "metadata": {
    "collapsed": true
   },
   "outputs": [],
   "source": [
    "#temp = {}"
   ]
  },
  {
   "cell_type": "code",
   "execution_count": 22,
   "metadata": {
    "collapsed": false
   },
   "outputs": [],
   "source": [
    "#temp.update({'boy':1})"
   ]
  },
  {
   "cell_type": "code",
   "execution_count": 23,
   "metadata": {
    "collapsed": false
   },
   "outputs": [
    {
     "data": {
      "text/plain": [
       "{'boy': 1}"
      ]
     },
     "execution_count": 23,
     "metadata": {},
     "output_type": "execute_result"
    }
   ],
   "source": [
    "#temp"
   ]
  },
  {
   "cell_type": "code",
   "execution_count": 5,
   "metadata": {
    "collapsed": true
   },
   "outputs": [],
   "source": [
    "file.close()"
   ]
  },
  {
   "cell_type": "code",
   "execution_count": 1,
   "metadata": {
    "collapsed": false
   },
   "outputs": [
    {
     "ename": "ImportError",
     "evalue": "No module named 'romkan'",
     "output_type": "error",
     "traceback": [
      "\u001b[0;31m---------------------------------------------------------------------------\u001b[0m",
      "\u001b[0;31mImportError\u001b[0m                               Traceback (most recent call last)",
      "\u001b[0;32m<ipython-input-1-34a2a621e58b>\u001b[0m in \u001b[0;36m<module>\u001b[0;34m()\u001b[0m\n\u001b[0;32m----> 1\u001b[0;31m \u001b[0;32mimport\u001b[0m \u001b[0mromkan\u001b[0m\u001b[0;34m\u001b[0m\u001b[0m\n\u001b[0m",
      "\u001b[0;31mImportError\u001b[0m: No module named 'romkan'"
     ]
    }
   ],
   "source": [
    "#import romkan"
   ]
  },
  {
   "cell_type": "code",
   "execution_count": 6,
   "metadata": {
    "collapsed": true
   },
   "outputs": [],
   "source": [
    "# now create a dictionary of {word: meaning} and write to json file -- this is for personal website !!!!"
   ]
  },
  {
   "cell_type": "code",
   "execution_count": 11,
   "metadata": {
    "collapsed": false
   },
   "outputs": [],
   "source": [
    "all_words = pd.read_csv('../data/created/JMdict_e.csv', sep='\\t')"
   ]
  },
  {
   "cell_type": "code",
   "execution_count": 50,
   "metadata": {
    "collapsed": false
   },
   "outputs": [],
   "source": [
    "words_dict = {}\n",
    "for entry in all_words.iterrows():\n",
    "    words_dict.update({entry[1][0]:entry[1][1] + '\\t' + entry[1][2] + '\\t' + entry[1][3]})"
   ]
  },
  {
   "cell_type": "code",
   "execution_count": 19,
   "metadata": {
    "collapsed": false
   },
   "outputs": [
    {
     "data": {
      "text/html": [
       "<div>\n",
       "<table border=\"1\" class=\"dataframe\">\n",
       "  <thead>\n",
       "    <tr style=\"text-align: right;\">\n",
       "      <th></th>\n",
       "      <th>vocab</th>\n",
       "      <th>pronunciation</th>\n",
       "      <th>pos</th>\n",
       "      <th>meaning</th>\n",
       "    </tr>\n",
       "  </thead>\n",
       "  <tbody>\n",
       "    <tr>\n",
       "      <th>0</th>\n",
       "      <td>〃</td>\n",
       "      <td>おなじ</td>\n",
       "      <td>noun (common) (futsuumeishi)</td>\n",
       "      <td>ditto mark</td>\n",
       "    </tr>\n",
       "    <tr>\n",
       "      <th>1</th>\n",
       "      <td>仝</td>\n",
       "      <td>どうじょう</td>\n",
       "      <td>noun (common) (futsuumeishi)</td>\n",
       "      <td>as above mark</td>\n",
       "    </tr>\n",
       "    <tr>\n",
       "      <th>2</th>\n",
       "      <td>々</td>\n",
       "      <td>くりかえし</td>\n",
       "      <td>noun (common) (futsuumeishi)</td>\n",
       "      <td>repetition of kanji (sometimes voiced)</td>\n",
       "    </tr>\n",
       "    <tr>\n",
       "      <th>3</th>\n",
       "      <td>漢数字ゼロ</td>\n",
       "      <td>かんすうじゼロ</td>\n",
       "      <td>noun (common) (futsuumeishi)</td>\n",
       "      <td>kanji zero</td>\n",
       "    </tr>\n",
       "    <tr>\n",
       "      <th>4</th>\n",
       "      <td>○</td>\n",
       "      <td>まる</td>\n",
       "      <td>noun (common) (futsuumeishi)</td>\n",
       "      <td>circle (sometimes used for zero)</td>\n",
       "    </tr>\n",
       "  </tbody>\n",
       "</table>\n",
       "</div>"
      ],
      "text/plain": [
       "   vocab pronunciation                           pos  \\\n",
       "0      〃           おなじ  noun (common) (futsuumeishi)   \n",
       "1      仝         どうじょう  noun (common) (futsuumeishi)   \n",
       "2      々         くりかえし  noun (common) (futsuumeishi)   \n",
       "3  漢数字ゼロ       かんすうじゼロ  noun (common) (futsuumeishi)   \n",
       "4      ○            まる  noun (common) (futsuumeishi)   \n",
       "\n",
       "                                  meaning  \n",
       "0                              ditto mark  \n",
       "1                           as above mark  \n",
       "2  repetition of kanji (sometimes voiced)  \n",
       "3                              kanji zero  \n",
       "4        circle (sometimes used for zero)  "
      ]
     },
     "execution_count": 19,
     "metadata": {},
     "output_type": "execute_result"
    }
   ],
   "source": [
    "all_words.head()"
   ]
  },
  {
   "cell_type": "code",
   "execution_count": 36,
   "metadata": {
    "collapsed": false
   },
   "outputs": [
    {
     "ename": "IndexError",
     "evalue": "tuple index out of range",
     "output_type": "error",
     "traceback": [
      "\u001b[0;31m---------------------------------------------------------------------------\u001b[0m",
      "\u001b[0;31mIndexError\u001b[0m                                Traceback (most recent call last)",
      "\u001b[0;32m<ipython-input-36-0b1231a71862>\u001b[0m in \u001b[0;36m<module>\u001b[0;34m()\u001b[0m\n\u001b[0;32m----> 1\u001b[0;31m \u001b[0mnext\u001b[0m\u001b[0;34m(\u001b[0m\u001b[0mall_words\u001b[0m\u001b[0;34m.\u001b[0m\u001b[0miterrows\u001b[0m\u001b[0;34m(\u001b[0m\u001b[0;34m)\u001b[0m\u001b[0;34m)\u001b[0m\u001b[0;34m[\u001b[0m\u001b[0;36m2\u001b[0m\u001b[0;34m]\u001b[0m\u001b[0;34m[\u001b[0m\u001b[0;36m2\u001b[0m\u001b[0;34m]\u001b[0m\u001b[0;34m\u001b[0m\u001b[0m\n\u001b[0m",
      "\u001b[0;31mIndexError\u001b[0m: tuple index out of range"
     ]
    }
   ],
   "source": [
    "#next(all_words.iterrows())[2][2]"
   ]
  },
  {
   "cell_type": "code",
   "execution_count": 51,
   "metadata": {
    "collapsed": false
   },
   "outputs": [],
   "source": [
    "import json\n",
    "\n",
    "# load from file:\n",
    "#with open('/path/to/my_file.json', 'r') as f:\n",
    "#    try:\n",
    "#        data = json.load(f)\n",
    "#    # if the file is empty the ValueError will be thrown\n",
    "#    except ValueError:\n",
    "#        data = {}\n",
    "\n",
    "# save to file:\n",
    "with open('../word_dictionary.json', 'w') as f:\n",
    "    json.dump(words_dict, f)\n"
   ]
  },
  {
   "cell_type": "code",
   "execution_count": null,
   "metadata": {
    "collapsed": true
   },
   "outputs": [],
   "source": []
  }
 ],
 "metadata": {
  "anaconda-cloud": {},
  "kernelspec": {
   "display_name": "Python 3",
   "language": "python",
   "name": "python3"
  },
  "language_info": {
   "codemirror_mode": {
    "name": "ipython",
    "version": 3
   },
   "file_extension": ".py",
   "mimetype": "text/x-python",
   "name": "python",
   "nbconvert_exporter": "python",
   "pygments_lexer": "ipython3",
   "version": "3.5.2"
  }
 },
 "nbformat": 4,
 "nbformat_minor": 0
}
