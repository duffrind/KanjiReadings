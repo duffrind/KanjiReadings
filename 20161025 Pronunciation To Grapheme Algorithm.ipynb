{
 "cells": [
  {
   "cell_type": "code",
   "execution_count": 1,
   "metadata": {
    "collapsed": true
   },
   "outputs": [],
   "source": [
    "%qtconsole"
   ]
  },
  {
   "cell_type": "code",
   "execution_count": 3,
   "metadata": {
    "collapsed": true
   },
   "outputs": [],
   "source": [
    "import pandas as pd\n",
    "import os\n",
    "import re\n",
    "import romkan\n",
    "import unicodedata"
   ]
  },
  {
   "cell_type": "code",
   "execution_count": 4,
   "metadata": {
    "collapsed": false
   },
   "outputs": [],
   "source": [
    "# get irregular words from ../data/irregular/irregular.csv and create a dict to avoid those words"
   ]
  },
  {
   "cell_type": "code",
   "execution_count": 5,
   "metadata": {
    "collapsed": false
   },
   "outputs": [],
   "source": [
    "vocab = pd.read_csv('../data/created/JMdict_e.csv', sep='\\t')\n",
    "kanji = pd.read_csv('../data/created/kanjidic2.csv')"
   ]
  },
  {
   "cell_type": "code",
   "execution_count": 11,
   "metadata": {
    "collapsed": false
   },
   "outputs": [
    {
     "data": {
      "text/html": [
       "<div>\n",
       "<table border=\"1\" class=\"dataframe\">\n",
       "  <thead>\n",
       "    <tr style=\"text-align: right;\">\n",
       "      <th></th>\n",
       "      <th>vocab</th>\n",
       "      <th>pronunciation</th>\n",
       "      <th>pos</th>\n",
       "      <th>meaning</th>\n",
       "    </tr>\n",
       "  </thead>\n",
       "  <tbody>\n",
       "    <tr>\n",
       "      <th>141825</th>\n",
       "      <td>四つの力</td>\n",
       "      <td>よっつのちから</td>\n",
       "      <td>noun (common) (futsuumeishi)</td>\n",
       "      <td>fundamental interactions</td>\n",
       "    </tr>\n",
       "    <tr>\n",
       "      <th>141826</th>\n",
       "      <td>等価原理</td>\n",
       "      <td>とうかげんり</td>\n",
       "      <td>noun (common) (futsuumeishi)</td>\n",
       "      <td>equivalence principle</td>\n",
       "    </tr>\n",
       "    <tr>\n",
       "      <th>141827</th>\n",
       "      <td>目で追う</td>\n",
       "      <td>めでおう</td>\n",
       "      <td>expressions (phrases, clauses, etc.)</td>\n",
       "      <td>to follow with one's gaze</td>\n",
       "    </tr>\n",
       "    <tr>\n",
       "      <th>141828</th>\n",
       "      <td>怪奇現象</td>\n",
       "      <td>かいきげんしょう</td>\n",
       "      <td>noun (common) (futsuumeishi)</td>\n",
       "      <td>haunting, unnatural phenomenon</td>\n",
       "    </tr>\n",
       "    <tr>\n",
       "      <th>141829</th>\n",
       "      <td>強化学習</td>\n",
       "      <td>きょうかがくしゅう</td>\n",
       "      <td>noun (common) (futsuumeishi)</td>\n",
       "      <td>reinforcement learning</td>\n",
       "    </tr>\n",
       "  </tbody>\n",
       "</table>\n",
       "</div>"
      ],
      "text/plain": [
       "       vocab pronunciation                                   pos  \\\n",
       "141825  四つの力       よっつのちから          noun (common) (futsuumeishi)   \n",
       "141826  等価原理        とうかげんり          noun (common) (futsuumeishi)   \n",
       "141827  目で追う          めでおう  expressions (phrases, clauses, etc.)   \n",
       "141828  怪奇現象      かいきげんしょう          noun (common) (futsuumeishi)   \n",
       "141829  強化学習     きょうかがくしゅう          noun (common) (futsuumeishi)   \n",
       "\n",
       "                               meaning  \n",
       "141825        fundamental interactions  \n",
       "141826           equivalence principle  \n",
       "141827       to follow with one's gaze  \n",
       "141828  haunting, unnatural phenomenon  \n",
       "141829          reinforcement learning  "
      ]
     },
     "execution_count": 11,
     "metadata": {},
     "output_type": "execute_result"
    }
   ],
   "source": [
    "vocab.tail()"
   ]
  },
  {
   "cell_type": "code",
   "execution_count": 10,
   "metadata": {
    "collapsed": false
   },
   "outputs": [
    {
     "ename": "NameError",
     "evalue": "name 'ons' is not defined",
     "output_type": "error",
     "traceback": [
      "\u001b[0;31m---------------------------------------------------------------------------\u001b[0m",
      "\u001b[0;31mNameError\u001b[0m                                 Traceback (most recent call last)",
      "\u001b[0;32m<ipython-input-10-efb404f2e033>\u001b[0m in \u001b[0;36m<module>\u001b[0;34m()\u001b[0m\n\u001b[0;32m----> 1\u001b[0;31m \u001b[0mPronunciationTypeCounter\u001b[0m\u001b[0;34m(\u001b[0m\u001b[0mvocab\u001b[0m\u001b[0;34m)\u001b[0m\u001b[0;34m\u001b[0m\u001b[0m\n\u001b[0m",
      "\u001b[0;32m<ipython-input-9-d524cf72827d>\u001b[0m in \u001b[0;36mPronunciationTypeCounter\u001b[0;34m(dataframe)\u001b[0m\n\u001b[1;32m     11\u001b[0m         \u001b[0;32mfor\u001b[0m \u001b[0mk\u001b[0m \u001b[0;32min\u001b[0m \u001b[0mname_kanji\u001b[0m\u001b[0;34m:\u001b[0m\u001b[0;34m\u001b[0m\u001b[0m\n\u001b[1;32m     12\u001b[0m             \u001b[0mdone\u001b[0m \u001b[0;34m=\u001b[0m \u001b[0;32mFalse\u001b[0m\u001b[0;34m\u001b[0m\u001b[0m\n\u001b[0;32m---> 13\u001b[0;31m             \u001b[0;32mfor\u001b[0m \u001b[0mp\u001b[0m \u001b[0;32min\u001b[0m \u001b[0mons\u001b[0m\u001b[0;34m[\u001b[0m\u001b[0mk\u001b[0m\u001b[0;34m]\u001b[0m\u001b[0;34m:\u001b[0m\u001b[0;34m\u001b[0m\u001b[0m\n\u001b[0m\u001b[1;32m     14\u001b[0m                 \u001b[0;32mif\u001b[0m \u001b[0mp\u001b[0m \u001b[0;32min\u001b[0m \u001b[0mpron\u001b[0m\u001b[0;34m:\u001b[0m\u001b[0;34m\u001b[0m\u001b[0m\n\u001b[1;32m     15\u001b[0m                     \u001b[0mdone\u001b[0m \u001b[0;34m=\u001b[0m \u001b[0;32mTrue\u001b[0m\u001b[0;34m\u001b[0m\u001b[0m\n",
      "\u001b[0;31mNameError\u001b[0m: name 'ons' is not defined"
     ]
    }
   ],
   "source": [
    "PronunciationTypeCounter(vocab)"
   ]
  },
  {
   "cell_type": "code",
   "execution_count": 8,
   "metadata": {
    "collapsed": false
   },
   "outputs": [
    {
     "data": {
      "text/html": [
       "<div>\n",
       "<table border=\"1\" class=\"dataframe\">\n",
       "  <thead>\n",
       "    <tr style=\"text-align: right;\">\n",
       "      <th></th>\n",
       "      <th>character</th>\n",
       "      <th>freq</th>\n",
       "      <th>meaning</th>\n",
       "      <th>on</th>\n",
       "      <th>kun</th>\n",
       "      <th>nanori</th>\n",
       "      <th>kun1</th>\n",
       "      <th>kun2</th>\n",
       "      <th>onkun</th>\n",
       "    </tr>\n",
       "  </thead>\n",
       "  <tbody>\n",
       "    <tr>\n",
       "      <th>0</th>\n",
       "      <td>亜</td>\n",
       "      <td>1509.0</td>\n",
       "      <td>[Asia, rank next, come after, -ous]</td>\n",
       "      <td>[あ]</td>\n",
       "      <td>['つ.ぐ']</td>\n",
       "      <td>[や, つぎ, つぐ]</td>\n",
       "      <td>[つ]</td>\n",
       "      <td>[つぐ]</td>\n",
       "      <td>[つ, つぐ, あ]</td>\n",
       "    </tr>\n",
       "    <tr>\n",
       "      <th>1</th>\n",
       "      <td>唖</td>\n",
       "      <td>NaN</td>\n",
       "      <td>[mute, dumb]</td>\n",
       "      <td>[あ, あく]</td>\n",
       "      <td>['おし']</td>\n",
       "      <td>[]</td>\n",
       "      <td>[おし]</td>\n",
       "      <td>[おし]</td>\n",
       "      <td>[おし, おし, あ, あく]</td>\n",
       "    </tr>\n",
       "    <tr>\n",
       "      <th>2</th>\n",
       "      <td>娃</td>\n",
       "      <td>NaN</td>\n",
       "      <td>[beautiful]</td>\n",
       "      <td>[あ, あい, わ]</td>\n",
       "      <td>['うつく.しい']</td>\n",
       "      <td>[い]</td>\n",
       "      <td>[うつく]</td>\n",
       "      <td>[うつくしい]</td>\n",
       "      <td>[うつく, うつくしい, あ, あい, わ]</td>\n",
       "    </tr>\n",
       "    <tr>\n",
       "      <th>3</th>\n",
       "      <td>阿</td>\n",
       "      <td>1126.0</td>\n",
       "      <td>[Africa, flatter, fawn upon, corner, nook, rec...</td>\n",
       "      <td>[あ, お]</td>\n",
       "      <td>['おもね.る', 'くま']</td>\n",
       "      <td>[ほとり, あず, あわ, おか, きた, な]</td>\n",
       "      <td>[くま, おもね]</td>\n",
       "      <td>[くま, おもねる]</td>\n",
       "      <td>[くま, おもね, くま, おもねる, あ, お]</td>\n",
       "    </tr>\n",
       "    <tr>\n",
       "      <th>4</th>\n",
       "      <td>哀</td>\n",
       "      <td>1715.0</td>\n",
       "      <td>[pathetic, grief, sorrow, pathos, pity, sympat...</td>\n",
       "      <td>[あい]</td>\n",
       "      <td>['あわ.れ', 'あわ.れむ', 'かな.しい']</td>\n",
       "      <td>[]</td>\n",
       "      <td>[あわ, かな]</td>\n",
       "      <td>[かなしい, あわれ, あわれむ]</td>\n",
       "      <td>[あわ, かな, かなしい, あわれ, あわれむ, あい]</td>\n",
       "    </tr>\n",
       "  </tbody>\n",
       "</table>\n",
       "</div>"
      ],
      "text/plain": [
       "  character    freq                                            meaning  \\\n",
       "0         亜  1509.0                [Asia, rank next, come after, -ous]   \n",
       "1         唖     NaN                                       [mute, dumb]   \n",
       "2         娃     NaN                                        [beautiful]   \n",
       "3         阿  1126.0  [Africa, flatter, fawn upon, corner, nook, rec...   \n",
       "4         哀  1715.0  [pathetic, grief, sorrow, pathos, pity, sympat...   \n",
       "\n",
       "           on                         kun                    nanori  \\\n",
       "0         [あ]                     ['つ.ぐ']               [や, つぎ, つぐ]   \n",
       "1     [あ, あく]                      ['おし']                        []   \n",
       "2  [あ, あい, わ]                  ['うつく.しい']                       [い]   \n",
       "3      [あ, お]             ['おもね.る', 'くま']  [ほとり, あず, あわ, おか, きた, な]   \n",
       "4        [あい]  ['あわ.れ', 'あわ.れむ', 'かな.しい']                        []   \n",
       "\n",
       "        kun1               kun2                          onkun  \n",
       "0        [つ]               [つぐ]                     [つ, つぐ, あ]  \n",
       "1       [おし]               [おし]                [おし, おし, あ, あく]  \n",
       "2      [うつく]            [うつくしい]         [うつく, うつくしい, あ, あい, わ]  \n",
       "3  [くま, おもね]         [くま, おもねる]      [くま, おもね, くま, おもねる, あ, お]  \n",
       "4   [あわ, かな]  [かなしい, あわれ, あわれむ]  [あわ, かな, かなしい, あわれ, あわれむ, あい]  "
      ]
     },
     "execution_count": 8,
     "metadata": {},
     "output_type": "execute_result"
    }
   ],
   "source": [
    "# Run once\n",
    "del vocab['pos']\n",
    "del vocab['meaning']\n",
    "del kanji['Unnamed: 0']\n",
    "vocab.pronunciation = vocab.pronunciation.map(lambda x: romkan.to_hiragana(romkan.to_roma(x)))\n",
    "kanji.on = kanji.on.map(lambda x: re.findall(\"\"\"[\\u3040-\\u309f]+\"\"\", romkan.to_hiragana(romkan.to_roma(x))))\n",
    "##############################\n",
    "#kanji.kun = kanji.kun.map(lambda x: list(set(map(lambda y: y.split('.')[0],re.findall(\"\"\"[\\u3040-\\u309f.]+\"\"\", x))))) # THIS THREW AWAY GOOD INFO\n",
    "##############################\n",
    "kanji['kun1'] = kanji.kun.map(lambda x: list(set(map(lambda y: y.split('.')[0],re.findall(\"\"\"[\\u3040-\\u309f.]+\"\"\", x)))))\n",
    "kanji['kun2'] = kanji.kun.map(lambda x: list(set(map(lambda y: ''.join(y.split('.')),re.findall(\"\"\"[\\u3040-\\u309f.]+\"\"\", x)))))\n",
    "# I should also include the kun without splitting somehow... aka shi.ku = shi and shiku\n",
    "kanji.nanori = kanji.nanori.map(lambda x: re.findall(\"\"\"[\\u3040-\\u309f]+\"\"\", x))\n",
    "kanji.meaning = kanji.meaning.map(lambda x: re.findall(\"\"\"[a-zA-Z-]+ *[a-zA-Z-]+\"\"\", x))\n",
    "#char_ser = pd.Series(kanji.on.values,index=kanji.character).to_dict()\n",
    "kanji['onkun'] = kanji.kun1 + kanji.kun2 + kanji.on\n",
    "#kanji.onkun.map(lambda x: list(set(x))) ########## NOW MAKE SURE ALL ARE SET TO LISTS SO THERE ARE NO DUPLICATES\n",
    "char_ser = pd.Series(kanji.onkun.values,index=kanji.character).to_dict()\n",
    "kanji.head()"
   ]
  },
  {
   "cell_type": "code",
   "execution_count": 9,
   "metadata": {
    "collapsed": false
   },
   "outputs": [],
   "source": [
    "#vocab.vocab = vocab.vocab.map(lambda x: romkan.to_hiragana(romkan.to_roma(x)))\n",
    "#vocab.head()\n",
    "\n",
    "#char_ser['亜']\n",
    "\n",
    "#print(jlpt[jlpt.Kanji.str.contains('風')])\n",
    "#print(char_ser['風'])"
   ]
  },
  {
   "cell_type": "code",
   "execution_count": 10,
   "metadata": {
    "collapsed": false
   },
   "outputs": [],
   "source": [
    "irregular = pd.read_csv('../data/irregular/irregular.csv')\n",
    "jlpt = pd.read_csv('../data/vocab/jlptvocab.csv')\n",
    "del irregular['URL']"
   ]
  },
  {
   "cell_type": "code",
   "execution_count": 11,
   "metadata": {
    "collapsed": false
   },
   "outputs": [
    {
     "data": {
      "text/html": [
       "<div>\n",
       "<table border=\"1\" class=\"dataframe\">\n",
       "  <thead>\n",
       "    <tr style=\"text-align: right;\">\n",
       "      <th></th>\n",
       "      <th>Link</th>\n",
       "    </tr>\n",
       "  </thead>\n",
       "  <tbody>\n",
       "    <tr>\n",
       "      <th>0</th>\n",
       "      <td>愛斯蘭</td>\n",
       "    </tr>\n",
       "    <tr>\n",
       "      <th>1</th>\n",
       "      <td>銅</td>\n",
       "    </tr>\n",
       "    <tr>\n",
       "      <th>2</th>\n",
       "      <td>欠伸</td>\n",
       "    </tr>\n",
       "    <tr>\n",
       "      <th>3</th>\n",
       "      <td>飛魚</td>\n",
       "    </tr>\n",
       "    <tr>\n",
       "      <th>4</th>\n",
       "      <td>麻布</td>\n",
       "    </tr>\n",
       "  </tbody>\n",
       "</table>\n",
       "</div>"
      ],
      "text/plain": [
       "  Link\n",
       "0  愛斯蘭\n",
       "1    銅\n",
       "2   欠伸\n",
       "3   飛魚\n",
       "4   麻布"
      ]
     },
     "execution_count": 11,
     "metadata": {},
     "output_type": "execute_result"
    }
   ],
   "source": [
    "irregular.head()"
   ]
  },
  {
   "cell_type": "code",
   "execution_count": 12,
   "metadata": {
    "collapsed": false
   },
   "outputs": [
    {
     "data": {
      "text/html": [
       "<div>\n",
       "<table border=\"1\" class=\"dataframe\">\n",
       "  <thead>\n",
       "    <tr style=\"text-align: right;\">\n",
       "      <th></th>\n",
       "      <th>Kanji</th>\n",
       "      <th>Hiragana</th>\n",
       "      <th>English</th>\n",
       "    </tr>\n",
       "  </thead>\n",
       "  <tbody>\n",
       "    <tr>\n",
       "      <th>8334</th>\n",
       "      <td>忘れ物</td>\n",
       "      <td>わすれもの</td>\n",
       "      <td>lost article</td>\n",
       "    </tr>\n",
       "    <tr>\n",
       "      <th>8335</th>\n",
       "      <td>笑う</td>\n",
       "      <td>わらう</td>\n",
       "      <td>to laugh,to smile</td>\n",
       "    </tr>\n",
       "    <tr>\n",
       "      <th>8336</th>\n",
       "      <td>割合</td>\n",
       "      <td>わりあい</td>\n",
       "      <td>rate,ratio,percentage</td>\n",
       "    </tr>\n",
       "    <tr>\n",
       "      <th>8337</th>\n",
       "      <td>割れる</td>\n",
       "      <td>われる</td>\n",
       "      <td>to break</td>\n",
       "    </tr>\n",
       "    <tr>\n",
       "      <th>8353</th>\n",
       "      <td>消しゴム</td>\n",
       "      <td>けしゴム</td>\n",
       "      <td>eraser, rubber</td>\n",
       "    </tr>\n",
       "  </tbody>\n",
       "</table>\n",
       "</div>"
      ],
      "text/plain": [
       "     Kanji Hiragana                English\n",
       "8334   忘れ物    わすれもの           lost article\n",
       "8335    笑う      わらう      to laugh,to smile\n",
       "8336    割合     わりあい  rate,ratio,percentage\n",
       "8337   割れる      われる               to break\n",
       "8353  消しゴム     けしゴム         eraser, rubber"
      ]
     },
     "execution_count": 12,
     "metadata": {},
     "output_type": "execute_result"
    }
   ],
   "source": [
    "jlpt = jlpt[jlpt.Kanji.isnull() == 0]\n",
    "jlpt = jlpt[jlpt.Hiragana.isnull() == 0]\n",
    "jlpt = jlpt[jlpt.English.isnull() == 0]\n",
    "jlpt.tail()"
   ]
  },
  {
   "cell_type": "code",
   "execution_count": 13,
   "metadata": {
    "collapsed": false
   },
   "outputs": [],
   "source": [
    "def unvoice(char):\n",
    "    if not ('\\u3041' <= char <= '\\u3096') or len(char) > 1 or not unicodedata.decomposition(char):\n",
    "        return char\n",
    "    return unicodedata.normalize('NFD', char)[0]"
   ]
  },
  {
   "cell_type": "code",
   "execution_count": 14,
   "metadata": {
    "collapsed": false
   },
   "outputs": [],
   "source": [
    "### DONT RUN ###\n",
    "#def check_word(word,cur,pron,pastprons,pastpron):\n",
    "#    if cur > len(word):\n",
    "#        return pron\n",
    "#    try:\n",
    "#        prons = set(char_ser[word[cur]])\n",
    "#    except:\n",
    "#        print(word, ' is not in the dictionary')\n",
    "#    \n",
    "#    past_prons.append('')\n",
    "####"
   ]
  },
  {
   "cell_type": "code",
   "execution_count": 15,
   "metadata": {
    "collapsed": false
   },
   "outputs": [],
   "source": [
    "# if prons[-1] == ん: prons = [prons,prons[:-1]]\n",
    "# if \n",
    "def recurs(kanji, word, pron_list = [], done = False):\n",
    "    if len(pron_list) == len(kanji) or len(word) == 0: # check for 々 and repeat past syllable (unsounded)\n",
    "        return pron_list, False\n",
    "    cur = kanji[len(pron_list)]\n",
    "    if re.match(\"\"\"[\\u3040-\\u30ff]\"\"\", cur) != None: #should we romkan to hiragana?? ALSO HYPHEN\n",
    "        if cur != word[0]:\n",
    "            return pron_list, False\n",
    "        prons = [cur]\n",
    "    elif cur == '々':\n",
    "        if unvoice(pron_list[-1]) == unvoice(word[:len(pron_list[-1])]): # Sou Zou -- didn't catch!!\n",
    "            pron_list.append(word[:len(pron_list[-1])])\n",
    "            return pron_list, len(kanji) == len(pron_list)\n",
    "        else:\n",
    "            return None, False\n",
    "    else:\n",
    "        prons = list(set(char_ser[cur])) # [char_ser[cur]] ###.sort(key=len, reverse=True)\n",
    "    for pron in prons:        # GET RID OF THIS?\n",
    "        if pron[-1] == 'ん'and pron != 'ん':\n",
    "            if isinstance(prons,str):\n",
    "                prons = [pron, pron[:-1]]\n",
    "            elif pron[:-1] not in prons:\n",
    "                prons.append(pron[:-1])\n",
    "    for pron in prons:\n",
    "        wordmatch = word[:len(pron)] ###-1\n",
    "        wordmatch = unvoice(wordmatch[0]) + wordmatch[1:]\n",
    "        words = [wordmatch, word[:len(pron)]] ### -1\n",
    "        #print(kanji, word, pron_list, words)\n",
    "        if pron in words:\n",
    "            pron_list.append(word[:len(pron)])\n",
    "            word = word[len(pron):]\n",
    "            if len(pron_list) == len(kanji) and len(word) == 0:\n",
    "                return pron_list, True\n",
    "            new_pron_list, done = recurs(kanji,word,pron_list,done)\n",
    "            if done:\n",
    "                return new_pron_list, done\n",
    "            word = pron_list.pop() + word\n",
    "    return None, False\n",
    "\n",
    "# update with unvoice the first syllable of word\n",
    "\n",
    "\n",
    "# PRONUNCIATION DOES NOT MATCH ON or KUN YOMIKATA... MOSTLY DROPPING LAST N??? -------------"
   ]
  },
  {
   "cell_type": "code",
   "execution_count": 16,
   "metadata": {
    "collapsed": false
   },
   "outputs": [
    {
     "data": {
      "text/plain": [
       "['そう', 'さわぐ', 'うれい', 'さわ', 'さわがしい']"
      ]
     },
     "execution_count": 16,
     "metadata": {},
     "output_type": "execute_result"
    }
   ],
   "source": [
    "list(set(char_ser['騒'])) #中腹\n",
    "#'boy'[1:]\n",
    "#recurs('相変わらず','あいかわらず',[])\n",
    "#print(recurs('指輪','ゆびわ',[]))\n",
    "#char_ser['一']#.sort(key=len, reverse=True)    # EITHER INCLUDE NANORI OR FIX THE ABOVE"
   ]
  },
  {
   "cell_type": "code",
   "execution_count": 17,
   "metadata": {
    "collapsed": false
   },
   "outputs": [
    {
     "name": "stdout",
     "output_type": "stream",
     "text": [
      "6707 578\n",
      "{'天皇': 'てんのう', '物語': 'ものがたり', '明後日': 'あさって', '景色': 'けしき', '八百屋': 'やおや', '実行': 'じっこう', '何方': 'どなた', '此の': 'この', '質素': 'しっそ', '如何にも': 'いかにも', '生年月日': 'せいねんがっぴ', '相応しい': 'ふさわしい', '圧迫': 'あっぱく', '若干': 'じゃっかん', '平均': 'ならし', '雑貨': 'ざっか', '打合せ': 'うちあわせ', '藍褸': 'ぼろ', '其れ程': 'それほど', '浮気': 'うわき', '面皰': 'にきび', '達する': 'たっする', '日当': 'にっとう', '清々しい': 'すがすがしい', '一日': 'ついたち', '可成': 'かなり', '微笑む': 'ほほえむ', '余程': 'よっぽど', '紅葉': 'もみじ', '実習': 'じっしゅう', '列島': 'れっとう', '二十日': 'はつか', '其れに': 'それに', '愈々': 'いよいよ', '滅多に': 'めったに', '出生': 'しゅっしょう', '煌々と': 'こうこうと', '其れでは': 'それでは', '塵芥': 'ごみ', '目盛': 'めもり', '説得': 'せっとく', '如何して': 'どうして', '掃除': 'そうじする', '疾っくに': 'とっくに', '如何しても': 'どうしても', '詰る': 'なじる', '匹敵': 'ひってき', '楽む': 'たのしむ', '失調': 'しっちょう', '何時': 'いつ', '灰': 'あく', '出産': 'しゅっさん', '其れで': 'それで', '何時か': 'いつか', '真面目': 'まじめ', '出品': 'しゅっぴん', '発掘': 'はっくつ', '巨': 'こ', '眼鏡': 'めがね', '仮令': 'たとえ', '目覚し': 'めざまし', '気質': 'かたぎ', '一切': 'いっさい', '発想': 'はっそう', '年中': 'ねんじゅう', '百科事典': 'ひゃっかじてん', '脱する': 'だっする', '何故なら': 'なぜなら', '日光': 'にっこう', '剃刀': 'かみそり', '植木': 'うえき', '結果': 'けっか', '発車': 'はっしゃ', '一致': 'いっち', '雪崩': 'なだれ', '小売': 'こうり', '書取': 'かきとり', '美味しい': 'おいしい', '徐々': 'そろそろ', '突破': 'とっぱ', '天地': 'あめつち', '出発': 'しゅっぱつ', '出血': 'しゅっけつ', '詰らない': 'つまらない', '一体': 'いったい', '華々しい': 'はなばなしい', '為来り': 'しきたり', '借金': 'しゃっきん', '出世': 'しゅっせ', '其処で': 'そこで', '素人': 'しろうと', '為替': 'かわせ', '列車': 'れっしゃ', '知合い': 'しりあい', '時計': 'とけい', '必死': 'ひっし', '呑気': 'のんき', '骨董品': 'こっとうひん', '下る': 'さがる', '可愛らしい': 'かわいらしい', '流行る': 'はやる', '可哀想': 'かわいそう', '失格': 'しっかく', '擦る': 'かする', '発達': 'はったつ', '国境': 'こっきょう', '見る  観る': 'みる', '商人': 'あきうど', '一瞬': 'いっしゅん', '湿気': 'しっき', '密接': 'みっせつ', '洒落る': 'しゃれる', '疎か': 'おろそか', '発行': 'はっこう', '自惚れ': 'うぬぼれ', '物資': 'ぶっし', '出席': 'しゅっせき', '切手': 'きって', '錆び': 'さび', '二日': 'ふつか', '熱帯': 'ねったい', '決して': 'けっして', '必修': 'ひっしゅう', '姉妹': 'きょうだい', '錯覚': 'さっかく', '一気': 'いっき', '復活': 'ふっかつ', '此れ': 'これ', '熱する': 'ねっする', '湿気る': 'しける', '斑': 'ぶち', '実態': 'じったい', '一帯': 'いったい', '含嗽': 'うがい', '心地': 'ここち', '欠席': 'けっせき', 'お姉さん': 'おねえさん', '叔父さん': 'おじさん', '一挙に': 'いっきょに', '蕎麦': 'そば', '結束': 'けっそく', '曲る': 'まがる', '古': 'いにしえ', '気障': 'きざ', '然うして': 'そうして', '従姉妹': 'いとこ', '鉄橋': 'てっきょう', '凡ゆる': 'あらゆる', '一筋': 'ひとすき', '日程': 'にってい', '折角': 'せっかく', '日中': 'にっちゅう', '連中': 'れんじゅう', '中学校': 'ちゅうがっこう', 'お母さん': 'おかあさん', '脱線': 'だっせん', '結婚': 'けっこん', '私': 'あたし', '真っ青': 'まっさお', '復興': 'ふっこう', '吃逆': 'しゃっくり', '中腹': 'ちゅうっぱら', '設定': 'せってい', '特急': 'とっきゅう', '学科': 'がっか', '設置': 'せっち', '現われ': 'あらわれ', '辛うじて': 'かろうじて', '所為': 'せい', '焚火': 'たきび', '其の儘': 'そのまま', '集る': 'あつまる', '決勝': 'けっしょう', '物価': 'ぶっか', '咄嗟': 'とっさ', 'お腹': 'おなか', '昨夜': 'ゆうべ', 'お父さん': 'おとうさん', '火燵': 'こたつ', '吝嗇': 'けち', '剥す': 'はがす', '一変': 'いっぺん', '一寸': 'ちょっと', '格好': 'かっこう', '括弧': 'かっこ', '吹雪': 'ふぶき', '叔父': 'おじさん', '特権': 'とっけん', '月日': 'がっぴ', '何卒': 'なにとぞ', '其れ': 'それ', '叔母さん': 'おばさん', '苛々': 'いらいら', '百科辞典': 'ひゃっかじてん', '然して': 'そして', '彼此': 'あれこれ', '悪戯': 'いたずら', '大人しい': 'おとなしい', '果物': 'くだもの', '浸ける': 'つける', '可愛がる': 'かわいがる', '怠い': 'だるい', 'お洒落': 'おしゃれ', '嗚呼': 'ああ', '学校': 'がっこう', '梯子': 'はしご', '一層': 'いっそう', '売行き': 'うれゆき', '従兄弟': 'いとこ', '不山戯る': 'ふざける', '薬缶': 'やかん', '傑作': 'けっさく', '明い': 'あかるい', '熱湯': 'ねっとう', '小父さん': 'おじさん', '言う': 'ゆう', '窒息': 'ちっそく', '些とも': 'ちっとも', '彼方此方': 'あちらこちら', '発揮': 'はっき', '明白': 'あからさま', '実験': 'じっけん', '骨折': 'こっせつ', '小切手': 'こぎって', '二十歳': 'はたち', '屹度': 'きっと', '達成': 'たっせい', '直感': 'ちょっかん', '浮ぶ': 'うかぶ', '擽ぐったい': 'くすぐったい', '雑誌': 'ざっし', '名残': 'なごり', '尻尾': 'しっぽ', '一斉': 'いっせい', '目眩': 'めまい', '計': 'かたち', '七日': 'なぬか', '喫茶店': 'きっさてん', 'お祖父さん': 'おじいさん', '物体ない': 'もったいない', '精々': 'せいぜい', '鉄鋼': 'てっこう', '不味い': 'まずい', '今日': 'きょう', '所々': 'ところどころ', '厭やらしい': 'いやらしい', '区々': 'まちまち', '学級': 'がっきゅう', '泌み泌み': 'しみじみ', '徹底': 'てってい', '身体': 'からだ', '一昨年': 'おととし', '外方': 'そっぽ', '活発': 'かっぱつ', '否': 'いいえ', '況して': 'まして', '可笑しい': 'おかしい', '滅茶苦茶': 'めちゃくちゃ', '五月蝿い': 'うるさい', '密集': 'みっしゅう', '其処ら': 'そこら', '圧縮': 'あっしゅく', '何故': 'なぜ', '田舎': 'いなか', '足袋': 'たび', '様々': 'さまざま', '決行': 'けっこう', '発展': 'はってん', '血管': 'けっかん', '真実': 'さな', '立法': 'りっぽう', '楽器': 'がっき', '二十（歳）': 'はたち', '誰': 'だれか', '悪口': 'あっこう', '絶対': 'ぜったい', '出社': 'しゅっしゃ', '何処か': 'どこか', '結晶': 'けっしょう', '国家': 'こっか', '迚も': 'とても', '実践': 'じっせん', '現われる': 'あらわれる', '此れ等': 'これら', '若々しい': 'わかわかしい', '発条': 'ばね', '接近': 'せっきん', '図々しい': 'ずうずうしい', '落下': 'らっか', '真中': 'まんなか', '決算': 'けっさん', '月謝': 'げっしゃ', '所謂': 'いわゆる', '十': 'じゅう  とお', '何れ': 'どれ', '息子': 'むすこ', '錆びる': 'さびる', '徹する': 'てっする', '有難い': 'ありがたい', '何時までも': 'いつまでも', '鉄砲': 'てっぽう', '決定': 'けってい', '彼方': 'あちら', '種々': 'くさぐさ', '弟': 'おと', '熱心': 'ねっしん', '一般': 'いっぱん', '小包': 'こづつみ', '他（外）': 'ほか', '俄か': 'にわか', '木綿': 'もめん', '特許': 'とっきょ', '出費': 'しゅっぴ', '何の': 'どの', '執筆': 'しっぴつ', '前': 'せん', 'お兄さん': 'おにいさん', '吃驚': 'びっくり', '徐々に': 'じょじょに', '一生': 'いっしょう', '出張': 'しゅっちょう', '乾': 'ほし', '結局': 'けっきょく', '云々': 'うんぬん', '小学校': 'しょうがっこう', '昨日': 'きのう', '葦': 'よし', '彼の': 'あの', '博士': 'はかせ', '裸足': 'はだし', '別荘': 'べっそう', '貴女': 'あなた', '一敗': 'いっぱい', '月給': 'げっきゅう', 'にも拘らず': 'にもかかわらず', '切符': 'きっぷ', '画期': 'かっき', '伯母さん': 'おばさん', '実費': 'じっぴ', '直角': 'ちょっかく', '陽気な': 'ようき', '明日': 'あした', '学期': 'がっき', '折衷': 'せっちゅう', '食器': 'しょっき', '没収': 'ぼっしゅう', '鈍い': 'のろい', '唯': 'たった', '日向': 'ひなた', '熱中する': 'ねっちゅうする', '率直': 'そっちょく', '出勤': 'しゅっきん', '着工': 'ちゃっこう', '扇ぐ': 'あおぐ', '北極': 'ほっきょく', '高等学校': 'こうとうがっこう', '引越し': 'ひっこし', '国交': 'こっこう', '月賦': 'げっぷ', '其れから': 'それから', '浴衣': 'ゆかた', '一定': 'いってい', '筆記': 'ひっき', '歯磨': 'はみがき', '風邪': 'かぜ', '其れ故': 'それゆえ', '確り': 'しっかり', '滑稽': 'こっけい', '軈て': 'やがて', '可愛い': 'かわいい', '噛る': 'かじる', '鉄片': 'てっぺん', '一向': 'ひたすら', '作曲': 'さっきょく', '迷子': 'まいご', '旧事': 'くじ', '物騒': 'ぶっそう', '組合せ': 'くみあわせ', '失敗': 'しっぱい', '散歩': 'さんぽする', '物質': 'ぶっしつ', '大人': 'おとな', '何時でも': 'いつでも', '一心': 'いっしん', '伯父さん': 'おじさん', '実際': 'じっさい', '他人': 'あだびと', '一生懸命': 'いっしょうけんめい', 'お襁褓': 'おむつ', '年月': 'としつき(ねんげつ）', '空ろ': 'うつろ', '流行': 'はやり', '筆者': 'ひっしゃ', '例': 'ためし', '積極的': 'せっきょくてき', '発生': 'はっせい', '石鹸': 'せっけん', '何処': 'どこ', '経緯': 'いきさつ', '立派': 'りっぱ', '其れでも': 'それでも', '容易い': 'たやすい', '方々': 'ほうぼう', '設計': 'せっけい', '跡切れる': 'とぎれる', '真似': 'まね', '近々': 'ちかぢか', '田ぼ': 'たんぼ', '坊っちゃん': 'ぼっちゃん', '悪化': 'あっか', '草臥れる': 'くたびれる', '練習': 'れんしゅうする', '一種': 'いっしゅ', '絶版': 'ぜっぱん', '其れ共': 'それとも', '時々': 'ときどき', '御手洗': 'おてあらい', '副': 'とりわけ', '摘む': 'つまむ', '広々': 'ひろびろ', '暖かい': 'あたたか(い)', '最早': 'もはや', '発表': 'はっぴょう', '三日月': 'みかずき', '其方': 'そちら', '拐う': 'さらう', '今朝': 'けさ', '作家': 'さっか', 'お土産': 'おみやげ', '下す': 'おろす', '結核': 'けっかく', '楽観': 'らっかん', '伯父': 'おじさん', '何時も': 'いつも', '火傷': 'やけど', '一昨日': 'おととい', 'お菜': 'おかず', 'お早う': 'おはよう', '流石': 'さすが', '真似る': 'まねる', '心中': 'しんじゅう', '本当': 'ほんと', '見積り': 'みつもり', '脱退': 'だったい', 'お祖母さん': 'おばあさん', '末期': 'まっき', '日本': 'にほん', '脱出': 'だっしゅつ', '彼処': 'あそこ', '接する': 'せっする', '発作': 'ほっさ', '目覚しい': 'めざましい', '上る': 'あがる', '如何': 'いかが', '白髪': 'しらが', '一昨昨日': 'さきおととい', '突く': 'つつく', '欠陥': 'けっかん', '頬っぺた': 'ほっぺた', '芝生': 'しばふ', '決る': 'きまる', '一家': 'いっか', '出身': 'しゅっしん', '分る': 'わかる', '出版': 'しゅっぱん', '厄介': 'やっかい', '立体': 'りったい', '踏切': 'ふみきり', '其処': 'そこ', '沸騰': 'ふっとう', '揶揄う': 'からかう', '掏摸': 'すり', '余所見': 'よそみ', '躊躇う': 'ためらう', '屈折': 'くっせつ', '如何に': 'いかに', '温い': 'ぬるい', '団扇': 'うちわ', '果ない': 'はかない', '各々': 'おのおの', '物体': 'ぶったい', '長閑': 'のどか', '陽射': 'ひざし', '書留': 'かきとめ', '発射': 'はっしゃ', '学会': 'がっかい', '活気': 'かっき', '生温い': 'なまぬるい', '途中': 'つちゅう', '真っ赤': 'まっか', '結構': 'けっこう', '何時の間にか': 'いつのまにか', '東': 'あずま', '察する': 'さっする', '騒々しい': 'そうぞうしい', '薬局': 'やっきょく', '達者': 'たっしゃ', '玩具': 'おもちゃ', '延いては': 'ひいては', '有難う': 'ありがとう', '一緒': 'いっしょ', '欠点': 'けってん', '売上': 'うりあげ', '末': 'うら', '急かす': 'せかす', '実感': 'じっかん', '余所': 'よそ', '梅雨': 'つゆ', '喫茶': 'きっさ', '部屋': 'へや', '実質': 'じっしつ', '粉々': 'こなごな', '微塵': 'みじん', '大凡': 'おおよそ', '接触': 'せっしょく', '予言': 'かねごと', '玄人': 'くろうと', '強請る': 'ねだる', '一方': 'いっぽう', '煙草': 'たばこ', '呆気ない': 'あっけない', '戸締り': 'とじまり', 'お巡りさん': 'おまわりさん', '日記': 'にっき', '洒落': 'しゃれ', '実績': 'じっせき', '気触れる': 'かぶれる', '発足': 'はっそく', '発見': 'はっけん', '相撲': 'すもう', '下手': 'へた', '有様': 'ありさま', '結成': 'けっせい', '女子': 'おなご', '一旦': 'いったん', '客観': 'きゃっかん', '乗換': 'のりかえ', '実施': 'じっし', '決心': 'けっしん', '国会': 'こっかい', '先々月': 'せんせんげつ', '日課': 'にっか', '何々': 'どれどれ', '殿': 'しんがり', '切開': 'せっかい', '鉄棒': 'かなぼう', '一括': 'いっかつ', '勉強': 'べんきょうする', '落す': 'おとす', '少女': 'おとめ', '落し物': 'おとしもの', '明々後日': 'しあさって', '直径': 'ちょっけい', '館': 'たち', '嫉妬': 'しっと', '土産': 'みやげ', '生真面目': 'きまじめ', '背負う': 'しょう', '曇': 'くもり', '融通': 'ゆうずう'}\n"
     ]
    }
   ],
   "source": [
    "true_cnt = 0\n",
    "false_cnt = 0\n",
    "false_dict = {}\n",
    "true_dict = {}\n",
    "\n",
    "for _,line in jlpt.iterrows():\n",
    "    kanji = line.Kanji\n",
    "    word = line.Hiragana\n",
    "    #print(kanji,word) ###\n",
    "    a,b = recurs(kanji,word,[])\n",
    "    #print(a,b) ###\n",
    "    if a == None:\n",
    "        false_cnt += 1\n",
    "        false_dict[kanji] = word\n",
    "    else:\n",
    "        true_cnt += 1\n",
    "        true_dict[kanji] = a\n",
    "print(true_cnt, false_cnt) #~8% are irregular...\n",
    "print(false_dict)"
   ]
  },
  {
   "cell_type": "code",
   "execution_count": 18,
   "metadata": {
    "collapsed": false
   },
   "outputs": [
    {
     "data": {
      "text/plain": [
       "['い', 'う']"
      ]
     },
     "execution_count": 18,
     "metadata": {},
     "output_type": "execute_result"
    }
   ],
   "source": [
    "true_dict['言う']"
   ]
  },
  {
   "cell_type": "code",
   "execution_count": 19,
   "metadata": {
    "collapsed": false
   },
   "outputs": [
    {
     "data": {
      "text/plain": [
       "{'一定',\n",
       " '一日',\n",
       " '七日',\n",
       " '三日月',\n",
       " '上る',\n",
       " '下る',\n",
       " '乾',\n",
       " '今日',\n",
       " '他人',\n",
       " '何々',\n",
       " '例',\n",
       " '前',\n",
       " '勉強',\n",
       " '十',\n",
       " '否',\n",
       " '唯',\n",
       " '商人',\n",
       " '国境',\n",
       " '土産',\n",
       " '女子',\n",
       " '姉妹',\n",
       " '少女',\n",
       " '平均',\n",
       " '年月',\n",
       " '弟',\n",
       " '悪口',\n",
       " '所々',\n",
       " '掃除',\n",
       " '擦る',\n",
       " '散歩',\n",
       " '明後日',\n",
       " '暖かい',\n",
       " '月日',\n",
       " '木綿',\n",
       " '末',\n",
       " '本当',\n",
       " '東',\n",
       " '梅雨',\n",
       " '梯子',\n",
       " '洒落',\n",
       " '流行',\n",
       " '火傷',\n",
       " '灰',\n",
       " '眼鏡',\n",
       " '私',\n",
       " '突く',\n",
       " '紅葉',\n",
       " '練習',\n",
       " '背負う',\n",
       " '言う',\n",
       " '誰',\n",
       " '身体',\n",
       " '近々',\n",
       " '途中',\n",
       " '鈍い',\n",
       " '館'}"
      ]
     },
     "execution_count": 19,
     "metadata": {},
     "output_type": "execute_result"
    }
   ],
   "source": [
    "true_dict.keys() & false_dict.keys()"
   ]
  },
  {
   "cell_type": "code",
   "execution_count": null,
   "metadata": {
    "collapsed": true
   },
   "outputs": [],
   "source": [
    "false_dict['言う']"
   ]
  },
  {
   "cell_type": "code",
   "execution_count": null,
   "metadata": {
    "collapsed": false
   },
   "outputs": [],
   "source": [
    "#jlpt[jlpt.Kanji.str.contains('亜')]\n",
    "#jlpt[jlpt.Kanji.isnull()]\n",
    "print(recurs('十一人','じゅういちにん',[]))\n",
    "print(recurs('一人','ひとり',[]))\n",
    "#print(jlpt)"
   ]
  },
  {
   "cell_type": "code",
   "execution_count": null,
   "metadata": {
    "collapsed": true
   },
   "outputs": [],
   "source": [
    "char_on = pd.Series(kanji.on.values,index=kanji.character).to_dict()\n",
    "char_kun = pd.Series(kanji.kun.values,index=kanji.character).to_dict()"
   ]
  },
  {
   "cell_type": "code",
   "execution_count": null,
   "metadata": {
    "collapsed": false
   },
   "outputs": [],
   "source": [
    "#jlpt[jlpt.Kanji.str.contains('亜')]\n",
    "jlpt.head()"
   ]
  },
  {
   "cell_type": "code",
   "execution_count": null,
   "metadata": {
    "collapsed": false
   },
   "outputs": [],
   "source": [
    "### THIS WAS A PREVIOUS TEST\n",
    "word = '漢数字'\n",
    "pron = 'かんすうじ'\n",
    "for ji in word:\n",
    "    pron_list = re.findall(\"\"\"[\\u3040-\\u309f]+\"\"\", char_ser[ji])\n",
    "    pron_list.sort(key=len, reverse=True)\n",
    "    print(pron_list)\n",
    "    for pr in pron_list:\n",
    "        if pron[0:len(pr)] == pr: # re match beginning of string\n",
    "            print(ji, pr)\n",
    "            pron = pron[len(pr):]\n",
    "    #re.match()\n",
    "    \n",
    "#next match up each kanji to on or kun for exploratory analysis\n",
    "\n",
    "#Maybe if word is only kanji - first check on list, if word is mixture - first check kun?\n",
    "\n",
    "# Also put in checks for hirgana matching ()"
   ]
  }
 ],
 "metadata": {
  "anaconda-cloud": {},
  "kernelspec": {
   "display_name": "Python 3",
   "language": "python",
   "name": "python3"
  },
  "language_info": {
   "codemirror_mode": {
    "name": "ipython",
    "version": 3
   },
   "file_extension": ".py",
   "mimetype": "text/x-python",
   "name": "python",
   "nbconvert_exporter": "python",
   "pygments_lexer": "ipython3",
   "version": "3.6.0"
  }
 },
 "nbformat": 4,
 "nbformat_minor": 0
}
